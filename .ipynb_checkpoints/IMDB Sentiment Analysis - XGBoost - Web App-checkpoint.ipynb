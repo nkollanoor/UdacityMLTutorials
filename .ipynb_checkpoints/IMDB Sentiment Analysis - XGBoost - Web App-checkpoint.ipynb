{
 "cells": [
  {
   "cell_type": "markdown",
   "metadata": {},
   "source": [
    "# Sentiment Analysis Web App\n",
    "\n",
    "_Deep Learning Nanodegree Program | Deployment_\n",
    "\n",
    "---\n",
    "\n",
    "In this notebook we will use Amazon's SageMaker service to construct a random tree model to predict the sentiment of a movie review. In addition, we will deploy this model to an endpoint and construct a very simple web app which will interact with our model's deployed endpoint.\n",
    "\n",
    "## General Outline\n",
    "\n",
    "Typically, when using a notebook instance with SageMaker, you will proceed through the following steps. Of course, not every step will need to be done with each project. Also, there is quite a lot of room for variation in many of the steps, as you will see throughout these lessons.\n",
    "\n",
    "1. Download or otherwise retrieve the data.\n",
    "2. Process / Prepare the data.\n",
    "3. Upload the processed data to S3.\n",
    "4. Train a chosen model.\n",
    "5. Test the trained model (typically using a batch transform job).\n",
    "6. Deploy the trained model.\n",
    "7. Use the deployed model.\n",
    "\n",
    "In this notebook we will progress through each of the steps above. We will also see that the final step, using the deployed model, can be quite challenging."
   ]
  },
  {
   "cell_type": "markdown",
   "metadata": {},
   "source": [
    "## Step 1: Downloading the data\n",
    "\n",
    "The dataset we are going to use is very popular among researchers in Natural Language Processing, usually referred to as the [IMDb dataset](http://ai.stanford.edu/~amaas/data/sentiment/). It consists of movie reviews from the website [imdb.com](http://www.imdb.com/), each labeled as either '**pos**itive', if the reviewer enjoyed the film, or '**neg**ative' otherwise.\n",
    "\n",
    "> Maas, Andrew L., et al. [Learning Word Vectors for Sentiment Analysis](http://ai.stanford.edu/~amaas/data/sentiment/). In _Proceedings of the 49th Annual Meeting of the Association for Computational Linguistics: Human Language Technologies_. Association for Computational Linguistics, 2011.\n",
    "\n",
    "We begin by using some Jupyter Notebook magic to download and extract the dataset."
   ]
  },
  {
   "cell_type": "code",
   "execution_count": 1,
   "metadata": {},
   "outputs": [
    {
     "name": "stdout",
     "output_type": "stream",
     "text": [
      "mkdir: cannot create directory ‘../data’: File exists\n",
      "--2020-07-29 01:46:56--  http://ai.stanford.edu/~amaas/data/sentiment/aclImdb_v1.tar.gz\n",
      "Resolving ai.stanford.edu (ai.stanford.edu)... 171.64.68.10\n",
      "Connecting to ai.stanford.edu (ai.stanford.edu)|171.64.68.10|:80... connected.\n",
      "HTTP request sent, awaiting response... 200 OK\n",
      "Length: 84125825 (80M) [application/x-gzip]\n",
      "Saving to: ‘../data/aclImdb_v1.tar.gz’\n",
      "\n",
      "../data/aclImdb_v1. 100%[===================>]  80.23M  23.6MB/s    in 4.0s    \n",
      "\n",
      "2020-07-29 01:47:01 (20.0 MB/s) - ‘../data/aclImdb_v1.tar.gz’ saved [84125825/84125825]\n",
      "\n"
     ]
    }
   ],
   "source": [
    "%mkdir ../data\n",
    "!wget -O ../data/aclImdb_v1.tar.gz http://ai.stanford.edu/~amaas/data/sentiment/aclImdb_v1.tar.gz\n",
    "!tar -zxf ../data/aclImdb_v1.tar.gz -C ../data"
   ]
  },
  {
   "cell_type": "markdown",
   "metadata": {},
   "source": [
    "## Step 2: Preparing and Processing the data\n",
    "\n",
    "The data we have downloaded is split into various files, each of which contains a single review. It will be much easier going forward if we combine these individual files into two large files, one for training and one for testing."
   ]
  },
  {
   "cell_type": "code",
   "execution_count": 2,
   "metadata": {},
   "outputs": [],
   "source": [
    "import os\n",
    "import glob\n",
    "\n",
    "def read_imdb_data(data_dir='../data/aclImdb'):\n",
    "    data = {}\n",
    "    labels = {}\n",
    "    \n",
    "    for data_type in ['train', 'test']:\n",
    "        data[data_type] = {}\n",
    "        labels[data_type] = {}\n",
    "        \n",
    "        for sentiment in ['pos', 'neg']:\n",
    "            data[data_type][sentiment] = []\n",
    "            labels[data_type][sentiment] = []\n",
    "            \n",
    "            path = os.path.join(data_dir, data_type, sentiment, '*.txt')\n",
    "            files = glob.glob(path)\n",
    "            \n",
    "            for f in files:\n",
    "                with open(f) as review:\n",
    "                    data[data_type][sentiment].append(review.read())\n",
    "                    # Here we represent a positive review by '1' and a negative review by '0'\n",
    "                    labels[data_type][sentiment].append(1 if sentiment == 'pos' else 0)\n",
    "                    \n",
    "            assert len(data[data_type][sentiment]) == len(labels[data_type][sentiment]), \\\n",
    "                    \"{}/{} data size does not match labels size\".format(data_type, sentiment)\n",
    "                \n",
    "    return data, labels"
   ]
  },
  {
   "cell_type": "code",
   "execution_count": 3,
   "metadata": {},
   "outputs": [
    {
     "name": "stdout",
     "output_type": "stream",
     "text": [
      "IMDB reviews: train = 12500 pos / 12500 neg, test = 12500 pos / 12500 neg\n"
     ]
    }
   ],
   "source": [
    "data, labels = read_imdb_data()\n",
    "print(\"IMDB reviews: train = {} pos / {} neg, test = {} pos / {} neg\".format(\n",
    "            len(data['train']['pos']), len(data['train']['neg']),\n",
    "            len(data['test']['pos']), len(data['test']['neg'])))"
   ]
  },
  {
   "cell_type": "code",
   "execution_count": 4,
   "metadata": {},
   "outputs": [
    {
     "data": {
      "text/plain": [
       "\"When I was younger, I thought the first film was really good in childhood, so I decided to see the sequel. This is an example of why some films shouldn't have sequels, because the first film is usually best, and it is. Basically now that Ariel and Eric are married they have a daughter who isn't allowed outside the house because they are worried about the sister of Ursula (the octopus legged villain from film one), Morgana getting to her. When the kid gets out she asks Ursula's sister to turn her into a mermaid, like her Mum was. This makes Ariel go back to the sea to find her. The same good voice artists, it's just the story that could have had a bit more thought. Adequate!\""
      ]
     },
     "execution_count": 4,
     "metadata": {},
     "output_type": "execute_result"
    }
   ],
   "source": [
    "#Pullling an example for a negative review\n",
    "data['train']['neg'][10]"
   ]
  },
  {
   "cell_type": "code",
   "execution_count": 5,
   "metadata": {},
   "outputs": [],
   "source": [
    "from sklearn.utils import shuffle\n",
    "\n",
    "def prepare_imdb_data(data, labels):\n",
    "    \"\"\"Prepare training and test sets from IMDb movie reviews.\"\"\"\n",
    "    \n",
    "    #Combine positive and negative reviews and labels\n",
    "    data_train = data['train']['pos'] + data['train']['neg']\n",
    "    data_test = data['test']['pos'] + data['test']['neg']\n",
    "    labels_train = labels['train']['pos'] + labels['train']['neg']\n",
    "    labels_test = labels['test']['pos'] + labels['test']['neg']\n",
    "    \n",
    "    #Shuffle reviews and corresponding labels within training and test sets\n",
    "    data_train, labels_train = shuffle(data_train, labels_train)\n",
    "    data_test, labels_test = shuffle(data_test, labels_test)\n",
    "    \n",
    "    # Return a unified training data, test data, training labels, test labets\n",
    "    return data_train, data_test, labels_train, labels_test"
   ]
  },
  {
   "cell_type": "code",
   "execution_count": 6,
   "metadata": {},
   "outputs": [
    {
     "name": "stdout",
     "output_type": "stream",
     "text": [
      "IMDb reviews (combined): train = 25000, test = 25000\n"
     ]
    }
   ],
   "source": [
    "train_X, test_X, train_y, test_y = prepare_imdb_data(data, labels)\n",
    "print(\"IMDb reviews (combined): train = {}, test = {}\".format(len(train_X), len(test_X)))"
   ]
  },
  {
   "cell_type": "code",
   "execution_count": 7,
   "metadata": {},
   "outputs": [
    {
     "data": {
      "text/plain": [
       "'I had some time to kill before watching football so I saw this movie being offered on the scifi channel and it literally after watching it I thought I had encountered my version of mentally walking the Bataan death march as my conscious was beaten into submission by the awful movie which ripped off the Mummy series and Jurassic Park. It was so bad that I thought the opening credits were the highlight of the movie and then it went into such a abysmal descent that it made the recent drop in the stock market seem like a hiccup. The acting was so bad that I was hoping that one and all would be buried at the end. The lead by Casper Van Dien made me long for the high caliber acting of Steven Seagal in \"On Deadly Ground\" as his line reading was so wooden that Woody Woodpecker was thinking of making a cameo to sit on his shoulder. I also noticed that his emotional range is so limited that I was under the impression my kitten was more expressive when asking for popcorn to eat . The direction was so abysmal I looked back yearning to my nephew\\'s grade 3 play recital which had more pace and better vision and the fact that this movie seems to be have spliced together from afterthoughts of the aforementioned movie franchise it can not even be thought of as a homage. The FX of the movie was so bad that I thought the director and producers were enviormentally friendly by recycling cheap special effects from grade Z horror flicks from yesteryear. What Robert Wagner, Tom Bosley and Geoffrey Lewis were doing in this movies is beyond me and they should look at litigation against their agents for misrepresentation for getting them involved with such a dreck of a movie. My warning to one and all is watch this movie at your peril as this movie may cause your IQ to diminish with prolonged viewing. On a side note I noticed at IMDb that sometimes salaries for movies are published I was wondering if their is a way that actors that should give the salaries back for their poor performances in such movies. Beware and be safe avoid at all costs.'"
      ]
     },
     "execution_count": 7,
     "metadata": {},
     "output_type": "execute_result"
    }
   ],
   "source": [
    "train_X[100]"
   ]
  },
  {
   "cell_type": "markdown",
   "metadata": {},
   "source": [
    "## Processing the data\n",
    "\n",
    "Now that we have our training and testing datasets merged and ready to use, we need to start processing the raw data into something that will be useable by our machine learning algorithm. To begin with, we remove any html formatting and any non-alpha numeric characters that may appear in the reviews. We will do this in a very simplistic way using Python's regular expression module. We will discuss the reason for this rather simplistic pre-processing later on."
   ]
  },
  {
   "cell_type": "code",
   "execution_count": 8,
   "metadata": {},
   "outputs": [],
   "source": [
    "import re\n",
    "\n",
    "REPLACE_NO_SPACE = re.compile(\"(\\.)|(\\;)|(\\:)|(\\!)|(\\')|(\\?)|(\\,)|(\\\")|(\\()|(\\))|(\\[)|(\\])\")\n",
    "REPLACE_WITH_SPACE = re.compile(\"(<br\\s*/><br\\s*/>)|(\\-)|(\\/)\")\n",
    "\n",
    "def review_to_words(review):\n",
    "    words = REPLACE_NO_SPACE.sub(\"\", review.lower())\n",
    "    words = REPLACE_WITH_SPACE.sub(\" \", words)\n",
    "    return words"
   ]
  },
  {
   "cell_type": "code",
   "execution_count": 9,
   "metadata": {},
   "outputs": [
    {
     "name": "stdout",
     "output_type": "stream",
     "text": [
      "I had some time to kill before watching football so I saw this movie being offered on the scifi channel and it literally after watching it I thought I had encountered my version of mentally walking the Bataan death march as my conscious was beaten into submission by the awful movie which ripped off the Mummy series and Jurassic Park. It was so bad that I thought the opening credits were the highlight of the movie and then it went into such a abysmal descent that it made the recent drop in the stock market seem like a hiccup. The acting was so bad that I was hoping that one and all would be buried at the end. The lead by Casper Van Dien made me long for the high caliber acting of Steven Seagal in \"On Deadly Ground\" as his line reading was so wooden that Woody Woodpecker was thinking of making a cameo to sit on his shoulder. I also noticed that his emotional range is so limited that I was under the impression my kitten was more expressive when asking for popcorn to eat . The direction was so abysmal I looked back yearning to my nephew's grade 3 play recital which had more pace and better vision and the fact that this movie seems to be have spliced together from afterthoughts of the aforementioned movie franchise it can not even be thought of as a homage. The FX of the movie was so bad that I thought the director and producers were enviormentally friendly by recycling cheap special effects from grade Z horror flicks from yesteryear. What Robert Wagner, Tom Bosley and Geoffrey Lewis were doing in this movies is beyond me and they should look at litigation against their agents for misrepresentation for getting them involved with such a dreck of a movie. My warning to one and all is watch this movie at your peril as this movie may cause your IQ to diminish with prolonged viewing. On a side note I noticed at IMDb that sometimes salaries for movies are published I was wondering if their is a way that actors that should give the salaries back for their poor performances in such movies. Beware and be safe avoid at all costs.\n",
      "-------------\n"
     ]
    },
    {
     "data": {
      "text/plain": [
       "'i had some time to kill before watching football so i saw this movie being offered on the scifi channel and it literally after watching it i thought i had encountered my version of mentally walking the bataan death march as my conscious was beaten into submission by the awful movie which ripped off the mummy series and jurassic park it was so bad that i thought the opening credits were the highlight of the movie and then it went into such a abysmal descent that it made the recent drop in the stock market seem like a hiccup the acting was so bad that i was hoping that one and all would be buried at the end the lead by casper van dien made me long for the high caliber acting of steven seagal in on deadly ground as his line reading was so wooden that woody woodpecker was thinking of making a cameo to sit on his shoulder i also noticed that his emotional range is so limited that i was under the impression my kitten was more expressive when asking for popcorn to eat  the direction was so abysmal i looked back yearning to my nephews grade 3 play recital which had more pace and better vision and the fact that this movie seems to be have spliced together from afterthoughts of the aforementioned movie franchise it can not even be thought of as a homage the fx of the movie was so bad that i thought the director and producers were enviormentally friendly by recycling cheap special effects from grade z horror flicks from yesteryear what robert wagner tom bosley and geoffrey lewis were doing in this movies is beyond me and they should look at litigation against their agents for misrepresentation for getting them involved with such a dreck of a movie my warning to one and all is watch this movie at your peril as this movie may cause your iq to diminish with prolonged viewing on a side note i noticed at imdb that sometimes salaries for movies are published i was wondering if their is a way that actors that should give the salaries back for their poor performances in such movies beware and be safe avoid at all costs'"
      ]
     },
     "execution_count": 9,
     "metadata": {},
     "output_type": "execute_result"
    }
   ],
   "source": [
    "print(train_X[100])\n",
    "print('-------------')\n",
    "review_to_words(train_X[100])"
   ]
  },
  {
   "cell_type": "code",
   "execution_count": 10,
   "metadata": {},
   "outputs": [],
   "source": [
    "import pickle\n",
    "\n",
    "cache_dir = os.path.join(\"../cache\", \"sentiment_web_app\")  # where to store cache files\n",
    "os.makedirs(cache_dir, exist_ok=True)  # ensure cache directory exists\n",
    "\n",
    "def preprocess_data(data_train, data_test, labels_train, labels_test,\n",
    "                    cache_dir=cache_dir, cache_file=\"preprocessed_data.pkl\"):\n",
    "    \"\"\"Convert each review to words; read from cache if available.\"\"\"\n",
    "\n",
    "    # If cache_file is not None, try to read from it first\n",
    "    cache_data = None\n",
    "    if cache_file is not None:\n",
    "        try:\n",
    "            with open(os.path.join(cache_dir, cache_file), \"rb\") as f:\n",
    "                cache_data = pickle.load(f)\n",
    "            print(\"Read preprocessed data from cache file:\", cache_file)\n",
    "        except:\n",
    "            pass  # unable to read from cache, but that's okay\n",
    "    \n",
    "    # If cache is missing, then do the heavy lifting\n",
    "    if cache_data is None:\n",
    "        # Preprocess training and test data to obtain words for each review\n",
    "        #words_train = list(map(review_to_words, data_train))\n",
    "        #words_test = list(map(review_to_words, data_test))\n",
    "        words_train = [review_to_words(review) for review in data_train]\n",
    "        words_test = [review_to_words(review) for review in data_test]\n",
    "        \n",
    "        # Write to cache file for future runs\n",
    "        if cache_file is not None:\n",
    "            cache_data = dict(words_train=words_train, words_test=words_test,\n",
    "                              labels_train=labels_train, labels_test=labels_test)\n",
    "            with open(os.path.join(cache_dir, cache_file), \"wb\") as f:\n",
    "                pickle.dump(cache_data, f)\n",
    "            print(\"Wrote preprocessed data to cache file:\", cache_file)\n",
    "    else:\n",
    "        # Unpack data loaded from cache file\n",
    "        words_train, words_test, labels_train, labels_test = (cache_data['words_train'],\n",
    "                cache_data['words_test'], cache_data['labels_train'], cache_data['labels_test'])\n",
    "    \n",
    "    return words_train, words_test, labels_train, labels_test"
   ]
  },
  {
   "cell_type": "code",
   "execution_count": 11,
   "metadata": {},
   "outputs": [
    {
     "name": "stdout",
     "output_type": "stream",
     "text": [
      "Read preprocessed data from cache file: preprocessed_data.pkl\n",
      "0.4895198345184326 seconds to finish\n"
     ]
    }
   ],
   "source": [
    "# Preprocess data\n",
    "\n",
    "import time\n",
    "\n",
    "x=time.time()\n",
    "train_X, test_X, train_y, test_y = preprocess_data(train_X, test_X, train_y, test_y)\n",
    "print(time.time()-x,\"seconds to finish\")"
   ]
  },
  {
   "cell_type": "markdown",
   "metadata": {},
   "source": [
    "### Extract Bag-of-Words features\n",
    "\n",
    "For the model we will be implementing, rather than using the reviews directly, we are going to transform each review into a Bag-of-Words feature representation. Keep in mind that 'in the wild' we will only have access to the training set so our transformer can only use the training set to construct a representation."
   ]
  },
  {
   "cell_type": "code",
   "execution_count": 12,
   "metadata": {},
   "outputs": [
    {
     "name": "stderr",
     "output_type": "stream",
     "text": [
      "/home/ec2-user/anaconda3/envs/python3/lib/python3.6/site-packages/sklearn/externals/joblib/__init__.py:15: FutureWarning: sklearn.externals.joblib is deprecated in 0.21 and will be removed in 0.23. Please import this functionality directly from joblib, which can be installed with: pip install joblib. If this warning is raised when loading pickled models, you may need to re-serialize those models with scikit-learn 0.21+.\n",
      "  warnings.warn(msg, category=FutureWarning)\n"
     ]
    }
   ],
   "source": [
    "import numpy as np\n",
    "from sklearn.feature_extraction.text import CountVectorizer\n",
    "from sklearn.externals import joblib\n",
    "# joblib is an enhanced version of pickle that is more efficient for storing NumPy arrays\n",
    "\n",
    "def extract_BoW_features(words_train, words_test, vocabulary_size=5000,\n",
    "                         cache_dir=cache_dir, cache_file=\"bow_features.pkl\"):\n",
    "    \"\"\"Extract Bag-of-Words for a given set of documents, already preprocessed into words.\"\"\"\n",
    "    \n",
    "    # If cache_file is not None, try to read from it first\n",
    "    cache_data = None\n",
    "    if cache_file is not None:\n",
    "        try:\n",
    "            with open(os.path.join(cache_dir, cache_file), \"rb\") as f:\n",
    "                cache_data = joblib.load(f)\n",
    "            print(\"Read features from cache file:\", cache_file)\n",
    "        except:\n",
    "            pass  # unable to read from cache, but that's okay\n",
    "    \n",
    "    # If cache is missing, then do the heavy lifting\n",
    "    if cache_data is None:\n",
    "        # Fit a vectorizer to training documents and use it to transform them\n",
    "        # NOTE: Training documents have already been preprocessed and tokenized into words;\n",
    "        #       pass in dummy functions to skip those steps, e.g. preprocessor=lambda x: x\n",
    "        vectorizer = CountVectorizer(max_features=vocabulary_size)\n",
    "        features_train = vectorizer.fit_transform(words_train).toarray()\n",
    "\n",
    "        # Apply the same vectorizer to transform the test documents (ignore unknown words)\n",
    "        features_test = vectorizer.transform(words_test).toarray()\n",
    "        \n",
    "        # NOTE: Remember to convert the features using .toarray() for a compact representation\n",
    "        \n",
    "        # Write to cache file for future runs (store vocabulary as well)\n",
    "        if cache_file is not None:\n",
    "            vocabulary = vectorizer.vocabulary_\n",
    "            cache_data = dict(features_train=features_train, features_test=features_test,\n",
    "                             vocabulary=vocabulary)\n",
    "            with open(os.path.join(cache_dir, cache_file), \"wb\") as f:\n",
    "                joblib.dump(cache_data, f)\n",
    "            print(\"Wrote features to cache file:\", cache_file)\n",
    "    else:\n",
    "        # Unpack data loaded from cache file\n",
    "        features_train, features_test, vocabulary = (cache_data['features_train'],\n",
    "                cache_data['features_test'], cache_data['vocabulary'])\n",
    "    \n",
    "    # Return both the extracted features as well as the vocabulary\n",
    "    return features_train, features_test, vocabulary"
   ]
  },
  {
   "cell_type": "code",
   "execution_count": 13,
   "metadata": {},
   "outputs": [
    {
     "name": "stdout",
     "output_type": "stream",
     "text": [
      "Read features from cache file: bow_features.pkl\n"
     ]
    }
   ],
   "source": [
    "# Extract Bag of Words features for both training and test datasets\n",
    "train_X, test_X, vocabulary = extract_BoW_features(train_X, test_X)"
   ]
  },
  {
   "cell_type": "code",
   "execution_count": 14,
   "metadata": {},
   "outputs": [
    {
     "data": {
      "text/plain": [
       "25000"
      ]
     },
     "execution_count": 14,
     "metadata": {},
     "output_type": "execute_result"
    }
   ],
   "source": [
    "len(train_X)"
   ]
  },
  {
   "cell_type": "markdown",
   "metadata": {},
   "source": [
    "## Step 3: Upload data to S3\n",
    "\n",
    "Now that we have created the feature representation of our training (and testing) data, it is time to start setting up and using the XGBoost classifier provided by SageMaker.\n",
    "\n",
    "### Writing the datasets\n",
    "\n",
    "The XGBoost classifier that we will be using requires the dataset to be written to a file and stored using Amazon S3. To do this, we will start by splitting the training dataset into two parts, the data we will train the model with and a validation set. Then, we will write those datasets to a file locally and then upload the files to S3. In addition, we will write the test set to a file and upload that file to S3. This is so that we can use SageMakers Batch Transform functionality to test our model once we've fit it."
   ]
  },
  {
   "cell_type": "code",
   "execution_count": 15,
   "metadata": {},
   "outputs": [],
   "source": [
    "import pandas as pd\n",
    "\n",
    "# Earlier we shuffled the training dataset so to make things simple we can just assign\n",
    "# the first 10 000 reviews to the validation set and use the remaining reviews for training.\n",
    "val_X = pd.DataFrame(train_X[:10000])\n",
    "train_X = pd.DataFrame(train_X[10000:])\n",
    "\n",
    "val_y = pd.DataFrame(train_y[:10000])\n",
    "train_y = pd.DataFrame(train_y[10000:])"
   ]
  },
  {
   "cell_type": "markdown",
   "metadata": {},
   "source": [
    "The documentation for the XGBoost algorithm in SageMaker requires that the training and validation datasets should contain no headers or index and that the label should occur first for each sample.\n",
    "\n",
    "For more information about this and other algorithms, the SageMaker developer documentation can be found on __[Amazon's website.](https://docs.aws.amazon.com/sagemaker/latest/dg/)__"
   ]
  },
  {
   "cell_type": "code",
   "execution_count": 16,
   "metadata": {},
   "outputs": [],
   "source": [
    "# First we make sure that the local directory in which we'd like to store the training and validation csv files exists.\n",
    "data_dir = '../data/sentiment_web_app'\n",
    "if not os.path.exists(data_dir):\n",
    "    os.makedirs(data_dir)"
   ]
  },
  {
   "cell_type": "code",
   "execution_count": 17,
   "metadata": {},
   "outputs": [],
   "source": [
    "pd.DataFrame(test_X).to_csv(os.path.join(data_dir, 'test.csv'), header=False, index=False)\n",
    "\n",
    "pd.concat([val_y, val_X], axis=1).to_csv(os.path.join(data_dir, 'validation.csv'), header=False, index=False)\n",
    "pd.concat([train_y, train_X], axis=1).to_csv(os.path.join(data_dir, 'train.csv'), header=False, index=False)"
   ]
  },
  {
   "cell_type": "code",
   "execution_count": 18,
   "metadata": {},
   "outputs": [],
   "source": [
    "# To save a bit of memory we can set text_X, train_X, val_X, train_y and val_y to None.\n",
    "\n",
    "test_X = train_X = val_X = train_y = val_y = None"
   ]
  },
  {
   "cell_type": "markdown",
   "metadata": {},
   "source": [
    "### Uploading Training / Validation files to S3\n",
    "\n",
    "Amazon's S3 service allows us to store files that can be accessed by both the built-in training models such as the XGBoost model we will be using as well as custom models such as the one we will see a little later.\n",
    "\n",
    "For this and most other tasks we will be doing using SageMaker, there are two methods we could use. The first is to use the low level functionality of SageMaker which requires knowing each of the objects involved in the SageMaker environment. The second is to use the high level functionality in which certain choices have been made on the user's behalf. The low level approach benefits from allowing the user a great deal of flexibility while the high level approach makes development much quicker. For our purposes we will opt to use the high level approach although using the low-level approach is certainly an option.\n",
    "\n",
    "Recall the method `upload_data()` which is a member of the object representing our current SageMaker session. What this method does is upload the data to the default bucket (which is created if it does not exist) into the path described by the key_prefix variable. To see this for yourself, once you have uploaded the data files, go to the S3 console and look to see where the files have been uploaded.\n",
    "\n",
    "For additional resources, see the __[SageMaker API documentation](http://sagemaker.readthedocs.io/en/latest/)__ and in addition the __[SageMaker Developer Guide.](https://docs.aws.amazon.com/sagemaker/latest/dg/)__"
   ]
  },
  {
   "cell_type": "code",
   "execution_count": 19,
   "metadata": {},
   "outputs": [],
   "source": [
    "import sagemaker\n",
    "\n",
    "session = sagemaker.Session() # Store the current SageMaker session\n",
    "\n",
    "# S3 prefix (which folder will we use)\n",
    "prefix = 'sentiment-web-app'\n",
    "\n",
    "test_location = session.upload_data(os.path.join(data_dir, 'test.csv'), key_prefix=prefix)\n",
    "val_location = session.upload_data(os.path.join(data_dir, 'validation.csv'), key_prefix=prefix)\n",
    "train_location = session.upload_data(os.path.join(data_dir, 'train.csv'), key_prefix=prefix)"
   ]
  },
  {
   "cell_type": "markdown",
   "metadata": {},
   "source": [
    "## Step 4: Creating the XGBoost model\n",
    "\n",
    "Now that the data has been uploaded it is time to create the XGBoost model. To begin with, we need to do some setup. At this point it is worth discussing what a model is in SageMaker. It is easiest to think of a model of comprising three different objects in the SageMaker ecosystem, which interact with one another.\n",
    "\n",
    "- Model Artifacts\n",
    "- Training Code (Container)\n",
    "- Inference Code (Container)\n",
    "\n",
    "The Model Artifacts are what you might think of as the actual model itself. For example, if you were building a neural network, the model artifacts would be the weights of the various layers. In our case, for an XGBoost model, the artifacts are the actual trees that are created during training.\n",
    "\n",
    "The other two objects, the training code and the inference code are then used to manipulate the training artifacts. More precisely, the training code uses the training data that is provided and creates the model artifacts, while the inference code uses the model artifacts to make predictions on new data.\n",
    "\n",
    "The way that SageMaker runs the training and inference code is by making use of Docker containers. For now, think of a container as being a way of packaging code up so that dependencies aren't an issue."
   ]
  },
  {
   "cell_type": "code",
   "execution_count": 20,
   "metadata": {},
   "outputs": [],
   "source": [
    "from sagemaker import get_execution_role\n",
    "\n",
    "# Our current execution role is required when creating the model as the training\n",
    "# and inference code will need to access the model artifacts.\n",
    "role = get_execution_role()"
   ]
  },
  {
   "cell_type": "code",
   "execution_count": 21,
   "metadata": {},
   "outputs": [
    {
     "name": "stderr",
     "output_type": "stream",
     "text": [
      "'get_image_uri' method will be deprecated in favor of 'ImageURIProvider' class in SageMaker Python SDK v2.\n",
      "There is a more up to date SageMaker XGBoost image. To use the newer image, please set 'repo_version'='1.0-1'. For example:\n",
      "\tget_image_uri(region, 'xgboost', '1.0-1').\n"
     ]
    }
   ],
   "source": [
    "# We need to retrieve the location of the container which is provided by Amazon for using XGBoost.\n",
    "# As a matter of convenience, the training and inference code both use the same container.\n",
    "from sagemaker.amazon.amazon_estimator import get_image_uri\n",
    "\n",
    "container = get_image_uri(session.boto_region_name, 'xgboost')"
   ]
  },
  {
   "cell_type": "code",
   "execution_count": 22,
   "metadata": {},
   "outputs": [
    {
     "name": "stderr",
     "output_type": "stream",
     "text": [
      "Parameter image_name will be renamed to image_uri in SageMaker Python SDK v2.\n"
     ]
    }
   ],
   "source": [
    "# First we create a SageMaker estimator object for our model.\n",
    "xgb = sagemaker.estimator.Estimator(container, # The location of the container we wish to use\n",
    "                                    role,                                    # What is our current IAM Role\n",
    "                                    train_instance_count=1,                  # How many compute instances\n",
    "                                    train_instance_type='ml.m4.xlarge',      # What kind of compute instances\n",
    "                                    output_path='s3://{}/{}/output'.format(session.default_bucket(), prefix),\n",
    "                                    sagemaker_session=session)\n",
    "\n",
    "# And then set the algorithm specific parameters.\n",
    "xgb.set_hyperparameters(max_depth=5,\n",
    "                        eta=0.2,\n",
    "                        gamma=4,\n",
    "                        min_child_weight=6,\n",
    "                        subsample=0.8,\n",
    "                        silent=0,\n",
    "                        objective='binary:logistic',\n",
    "                        early_stopping_rounds=10,\n",
    "                        num_round=500)"
   ]
  },
  {
   "cell_type": "markdown",
   "metadata": {},
   "source": [
    "### Fit the XGBoost model\n",
    "\n",
    "Now that our model has been set up we simply need to attach the training and validation datasets and then ask SageMaker to set up the computation."
   ]
  },
  {
   "cell_type": "code",
   "execution_count": 23,
   "metadata": {},
   "outputs": [
    {
     "name": "stderr",
     "output_type": "stream",
     "text": [
      "'s3_input' class will be renamed to 'TrainingInput' in SageMaker Python SDK v2.\n",
      "'s3_input' class will be renamed to 'TrainingInput' in SageMaker Python SDK v2.\n"
     ]
    }
   ],
   "source": [
    "s3_input_train = sagemaker.s3_input(s3_data=train_location, content_type='csv')\n",
    "s3_input_validation = sagemaker.s3_input(s3_data=val_location, content_type='csv')"
   ]
  },
  {
   "cell_type": "code",
   "execution_count": 24,
   "metadata": {},
   "outputs": [
    {
     "name": "stdout",
     "output_type": "stream",
     "text": [
      "2020-07-29 01:50:02 Starting - Starting the training job...\n",
      "2020-07-29 01:50:05 Starting - Launching requested ML instances......\n",
      "2020-07-29 01:51:10 Starting - Preparing the instances for training...\n",
      "2020-07-29 01:52:03 Downloading - Downloading input data...\n",
      "2020-07-29 01:52:19 Training - Downloading the training image..\u001b[34mArguments: train\u001b[0m\n",
      "\u001b[34m[2020-07-29:01:52:39:INFO] Running standalone xgboost training.\u001b[0m\n",
      "\u001b[34m[2020-07-29:01:52:39:INFO] File size need to be processed in the node: 238.5mb. Available memory size in the node: 8476.51mb\u001b[0m\n",
      "\u001b[34m[2020-07-29:01:52:39:INFO] Determined delimiter of CSV input is ','\u001b[0m\n",
      "\u001b[34m[01:52:39] S3DistributionType set as FullyReplicated\u001b[0m\n",
      "\u001b[34m[01:52:41] 15000x5000 matrix with 75000000 entries loaded from /opt/ml/input/data/train?format=csv&label_column=0&delimiter=,\u001b[0m\n",
      "\u001b[34m[2020-07-29:01:52:41:INFO] Determined delimiter of CSV input is ','\u001b[0m\n",
      "\u001b[34m[01:52:41] S3DistributionType set as FullyReplicated\u001b[0m\n",
      "\u001b[34m[01:52:42] 10000x5000 matrix with 50000000 entries loaded from /opt/ml/input/data/validation?format=csv&label_column=0&delimiter=,\u001b[0m\n",
      "\u001b[34m[01:52:46] src/tree/updater_prune.cc:74: tree pruning end, 1 roots, 44 extra nodes, 4 pruned nodes, max_depth=5\u001b[0m\n",
      "\u001b[34m[0]#011train-error:0.304733#011validation-error:0.3151\u001b[0m\n",
      "\u001b[34mMultiple eval metrics have been passed: 'validation-error' will be used for early stopping.\n",
      "\u001b[0m\n",
      "\u001b[34mWill train until validation-error hasn't improved in 10 rounds.\u001b[0m\n",
      "\u001b[34m[01:52:47] src/tree/updater_prune.cc:74: tree pruning end, 1 roots, 38 extra nodes, 6 pruned nodes, max_depth=5\u001b[0m\n",
      "\u001b[34m[1]#011train-error:0.298133#011validation-error:0.3097\u001b[0m\n",
      "\u001b[34m[01:52:48] src/tree/updater_prune.cc:74: tree pruning end, 1 roots, 44 extra nodes, 8 pruned nodes, max_depth=5\u001b[0m\n",
      "\u001b[34m[2]#011train-error:0.297667#011validation-error:0.3097\u001b[0m\n",
      "\u001b[34m[01:52:50] src/tree/updater_prune.cc:74: tree pruning end, 1 roots, 34 extra nodes, 2 pruned nodes, max_depth=5\u001b[0m\n",
      "\u001b[34m[3]#011train-error:0.2752#011validation-error:0.2874\u001b[0m\n",
      "\u001b[34m[01:52:52] src/tree/updater_prune.cc:74: tree pruning end, 1 roots, 34 extra nodes, 8 pruned nodes, max_depth=5\u001b[0m\n",
      "\u001b[34m[4]#011train-error:0.260267#011validation-error:0.2748\u001b[0m\n",
      "\n",
      "2020-07-29 01:52:39 Training - Training image download completed. Training in progress.\u001b[34m[01:52:53] src/tree/updater_prune.cc:74: tree pruning end, 1 roots, 32 extra nodes, 8 pruned nodes, max_depth=5\u001b[0m\n",
      "\u001b[34m[5]#011train-error:0.2566#011validation-error:0.2719\u001b[0m\n",
      "\u001b[34m[01:52:54] src/tree/updater_prune.cc:74: tree pruning end, 1 roots, 38 extra nodes, 2 pruned nodes, max_depth=5\u001b[0m\n",
      "\u001b[34m[6]#011train-error:0.248333#011validation-error:0.2658\u001b[0m\n",
      "\u001b[34m[01:52:55] src/tree/updater_prune.cc:74: tree pruning end, 1 roots, 34 extra nodes, 4 pruned nodes, max_depth=5\u001b[0m\n",
      "\u001b[34m[7]#011train-error:0.241#011validation-error:0.2631\u001b[0m\n",
      "\u001b[34m[01:52:57] src/tree/updater_prune.cc:74: tree pruning end, 1 roots, 28 extra nodes, 12 pruned nodes, max_depth=5\u001b[0m\n",
      "\u001b[34m[8]#011train-error:0.234533#011validation-error:0.2547\u001b[0m\n",
      "\u001b[34m[01:52:58] src/tree/updater_prune.cc:74: tree pruning end, 1 roots, 26 extra nodes, 8 pruned nodes, max_depth=5\u001b[0m\n",
      "\u001b[34m[9]#011train-error:0.2258#011validation-error:0.247\u001b[0m\n",
      "\u001b[34m[01:52:59] src/tree/updater_prune.cc:74: tree pruning end, 1 roots, 38 extra nodes, 8 pruned nodes, max_depth=5\u001b[0m\n",
      "\u001b[34m[10]#011train-error:0.219267#011validation-error:0.2394\u001b[0m\n",
      "\u001b[34m[01:53:00] src/tree/updater_prune.cc:74: tree pruning end, 1 roots, 44 extra nodes, 10 pruned nodes, max_depth=5\u001b[0m\n",
      "\u001b[34m[11]#011train-error:0.218133#011validation-error:0.2388\u001b[0m\n",
      "\u001b[34m[01:53:02] src/tree/updater_prune.cc:74: tree pruning end, 1 roots, 26 extra nodes, 8 pruned nodes, max_depth=5\u001b[0m\n",
      "\u001b[34m[12]#011train-error:0.213133#011validation-error:0.2346\u001b[0m\n",
      "\u001b[34m[01:53:03] src/tree/updater_prune.cc:74: tree pruning end, 1 roots, 30 extra nodes, 8 pruned nodes, max_depth=5\u001b[0m\n",
      "\u001b[34m[13]#011train-error:0.209467#011validation-error:0.2311\u001b[0m\n",
      "\u001b[34m[01:53:04] src/tree/updater_prune.cc:74: tree pruning end, 1 roots, 34 extra nodes, 2 pruned nodes, max_depth=5\u001b[0m\n",
      "\u001b[34m[14]#011train-error:0.204467#011validation-error:0.2286\u001b[0m\n",
      "\u001b[34m[01:53:05] src/tree/updater_prune.cc:74: tree pruning end, 1 roots, 22 extra nodes, 12 pruned nodes, max_depth=5\u001b[0m\n",
      "\u001b[34m[15]#011train-error:0.202133#011validation-error:0.2252\u001b[0m\n",
      "\u001b[34m[01:53:07] src/tree/updater_prune.cc:74: tree pruning end, 1 roots, 26 extra nodes, 12 pruned nodes, max_depth=5\u001b[0m\n",
      "\u001b[34m[16]#011train-error:0.199067#011validation-error:0.222\u001b[0m\n",
      "\u001b[34m[01:53:08] src/tree/updater_prune.cc:74: tree pruning end, 1 roots, 40 extra nodes, 4 pruned nodes, max_depth=5\u001b[0m\n",
      "\u001b[34m[17]#011train-error:0.194267#011validation-error:0.2192\u001b[0m\n",
      "\u001b[34m[01:53:09] src/tree/updater_prune.cc:74: tree pruning end, 1 roots, 20 extra nodes, 8 pruned nodes, max_depth=5\u001b[0m\n",
      "\u001b[34m[18]#011train-error:0.1944#011validation-error:0.2149\u001b[0m\n",
      "\u001b[34m[01:53:10] src/tree/updater_prune.cc:74: tree pruning end, 1 roots, 26 extra nodes, 8 pruned nodes, max_depth=5\u001b[0m\n",
      "\u001b[34m[19]#011train-error:0.191#011validation-error:0.2125\u001b[0m\n",
      "\u001b[34m[01:53:12] src/tree/updater_prune.cc:74: tree pruning end, 1 roots, 30 extra nodes, 2 pruned nodes, max_depth=5\u001b[0m\n",
      "\u001b[34m[20]#011train-error:0.187#011validation-error:0.2103\u001b[0m\n",
      "\u001b[34m[01:53:13] src/tree/updater_prune.cc:74: tree pruning end, 1 roots, 22 extra nodes, 14 pruned nodes, max_depth=5\u001b[0m\n",
      "\u001b[34m[21]#011train-error:0.185467#011validation-error:0.2068\u001b[0m\n",
      "\u001b[34m[01:53:14] src/tree/updater_prune.cc:74: tree pruning end, 1 roots, 36 extra nodes, 4 pruned nodes, max_depth=5\u001b[0m\n",
      "\u001b[34m[22]#011train-error:0.182867#011validation-error:0.2066\u001b[0m\n",
      "\u001b[34m[01:53:16] src/tree/updater_prune.cc:74: tree pruning end, 1 roots, 30 extra nodes, 10 pruned nodes, max_depth=5\u001b[0m\n",
      "\u001b[34m[23]#011train-error:0.180467#011validation-error:0.2046\u001b[0m\n",
      "\u001b[34m[01:53:17] src/tree/updater_prune.cc:74: tree pruning end, 1 roots, 26 extra nodes, 10 pruned nodes, max_depth=5\u001b[0m\n",
      "\u001b[34m[24]#011train-error:0.179733#011validation-error:0.2031\u001b[0m\n",
      "\u001b[34m[01:53:18] src/tree/updater_prune.cc:74: tree pruning end, 1 roots, 28 extra nodes, 14 pruned nodes, max_depth=5\u001b[0m\n",
      "\u001b[34m[25]#011train-error:0.176133#011validation-error:0.2015\u001b[0m\n",
      "\u001b[34m[01:53:19] src/tree/updater_prune.cc:74: tree pruning end, 1 roots, 30 extra nodes, 6 pruned nodes, max_depth=5\u001b[0m\n",
      "\u001b[34m[26]#011train-error:0.173933#011validation-error:0.2002\u001b[0m\n",
      "\u001b[34m[01:53:21] src/tree/updater_prune.cc:74: tree pruning end, 1 roots, 22 extra nodes, 8 pruned nodes, max_depth=5\u001b[0m\n",
      "\u001b[34m[27]#011train-error:0.172333#011validation-error:0.199\u001b[0m\n",
      "\u001b[34m[01:53:22] src/tree/updater_prune.cc:74: tree pruning end, 1 roots, 32 extra nodes, 2 pruned nodes, max_depth=5\u001b[0m\n",
      "\u001b[34m[28]#011train-error:0.1698#011validation-error:0.1982\u001b[0m\n",
      "\u001b[34m[01:53:23] src/tree/updater_prune.cc:74: tree pruning end, 1 roots, 48 extra nodes, 2 pruned nodes, max_depth=5\u001b[0m\n",
      "\u001b[34m[29]#011train-error:0.165933#011validation-error:0.1966\u001b[0m\n",
      "\u001b[34m[01:53:24] src/tree/updater_prune.cc:74: tree pruning end, 1 roots, 32 extra nodes, 4 pruned nodes, max_depth=5\u001b[0m\n",
      "\u001b[34m[30]#011train-error:0.165067#011validation-error:0.1959\u001b[0m\n",
      "\u001b[34m[01:53:26] src/tree/updater_prune.cc:74: tree pruning end, 1 roots, 14 extra nodes, 10 pruned nodes, max_depth=5\u001b[0m\n",
      "\u001b[34m[31]#011train-error:0.1652#011validation-error:0.1952\u001b[0m\n",
      "\u001b[34m[01:53:27] src/tree/updater_prune.cc:74: tree pruning end, 1 roots, 24 extra nodes, 6 pruned nodes, max_depth=5\u001b[0m\n",
      "\u001b[34m[32]#011train-error:0.1638#011validation-error:0.1954\u001b[0m\n",
      "\u001b[34m[01:53:28] src/tree/updater_prune.cc:74: tree pruning end, 1 roots, 28 extra nodes, 12 pruned nodes, max_depth=5\u001b[0m\n",
      "\u001b[34m[33]#011train-error:0.162267#011validation-error:0.1935\u001b[0m\n",
      "\u001b[34m[01:53:29] src/tree/updater_prune.cc:74: tree pruning end, 1 roots, 22 extra nodes, 8 pruned nodes, max_depth=5\u001b[0m\n",
      "\u001b[34m[34]#011train-error:0.1614#011validation-error:0.1921\u001b[0m\n",
      "\u001b[34m[01:53:31] src/tree/updater_prune.cc:74: tree pruning end, 1 roots, 34 extra nodes, 2 pruned nodes, max_depth=5\u001b[0m\n",
      "\u001b[34m[35]#011train-error:0.159733#011validation-error:0.1899\u001b[0m\n",
      "\u001b[34m[01:53:32] src/tree/updater_prune.cc:74: tree pruning end, 1 roots, 30 extra nodes, 6 pruned nodes, max_depth=5\u001b[0m\n",
      "\u001b[34m[36]#011train-error:0.157733#011validation-error:0.1895\u001b[0m\n"
     ]
    },
    {
     "name": "stdout",
     "output_type": "stream",
     "text": [
      "\u001b[34m[01:53:33] src/tree/updater_prune.cc:74: tree pruning end, 1 roots, 34 extra nodes, 4 pruned nodes, max_depth=5\u001b[0m\n",
      "\u001b[34m[37]#011train-error:0.1562#011validation-error:0.1873\u001b[0m\n",
      "\u001b[34m[01:53:34] src/tree/updater_prune.cc:74: tree pruning end, 1 roots, 18 extra nodes, 12 pruned nodes, max_depth=5\u001b[0m\n",
      "\u001b[34m[38]#011train-error:0.154467#011validation-error:0.1863\u001b[0m\n",
      "\u001b[34m[01:53:36] src/tree/updater_prune.cc:74: tree pruning end, 1 roots, 30 extra nodes, 10 pruned nodes, max_depth=5\u001b[0m\n",
      "\u001b[34m[39]#011train-error:0.152667#011validation-error:0.1854\u001b[0m\n",
      "\u001b[34m[01:53:37] src/tree/updater_prune.cc:74: tree pruning end, 1 roots, 34 extra nodes, 4 pruned nodes, max_depth=5\u001b[0m\n",
      "\u001b[34m[40]#011train-error:0.151867#011validation-error:0.1843\u001b[0m\n",
      "\u001b[34m[01:53:38] src/tree/updater_prune.cc:74: tree pruning end, 1 roots, 12 extra nodes, 6 pruned nodes, max_depth=5\u001b[0m\n",
      "\u001b[34m[41]#011train-error:0.151067#011validation-error:0.1827\u001b[0m\n",
      "\u001b[34m[01:53:39] src/tree/updater_prune.cc:74: tree pruning end, 1 roots, 16 extra nodes, 8 pruned nodes, max_depth=5\u001b[0m\n",
      "\u001b[34m[42]#011train-error:0.1506#011validation-error:0.1817\u001b[0m\n",
      "\u001b[34m[01:53:41] src/tree/updater_prune.cc:74: tree pruning end, 1 roots, 24 extra nodes, 12 pruned nodes, max_depth=5\u001b[0m\n",
      "\u001b[34m[43]#011train-error:0.147933#011validation-error:0.1816\u001b[0m\n",
      "\u001b[34m[01:53:42] src/tree/updater_prune.cc:74: tree pruning end, 1 roots, 28 extra nodes, 6 pruned nodes, max_depth=5\u001b[0m\n",
      "\u001b[34m[44]#011train-error:0.145667#011validation-error:0.1807\u001b[0m\n",
      "\u001b[34m[01:53:43] src/tree/updater_prune.cc:74: tree pruning end, 1 roots, 18 extra nodes, 8 pruned nodes, max_depth=5\u001b[0m\n",
      "\u001b[34m[45]#011train-error:0.143733#011validation-error:0.1793\u001b[0m\n",
      "\u001b[34m[01:53:45] src/tree/updater_prune.cc:74: tree pruning end, 1 roots, 32 extra nodes, 8 pruned nodes, max_depth=5\u001b[0m\n",
      "\u001b[34m[46]#011train-error:0.143#011validation-error:0.1794\u001b[0m\n",
      "\u001b[34m[01:53:46] src/tree/updater_prune.cc:74: tree pruning end, 1 roots, 26 extra nodes, 2 pruned nodes, max_depth=5\u001b[0m\n",
      "\u001b[34m[47]#011train-error:0.142067#011validation-error:0.1782\u001b[0m\n",
      "\u001b[34m[01:53:47] src/tree/updater_prune.cc:74: tree pruning end, 1 roots, 20 extra nodes, 8 pruned nodes, max_depth=5\u001b[0m\n",
      "\u001b[34m[48]#011train-error:0.142067#011validation-error:0.1778\u001b[0m\n",
      "\u001b[34m[01:53:48] src/tree/updater_prune.cc:74: tree pruning end, 1 roots, 22 extra nodes, 6 pruned nodes, max_depth=5\u001b[0m\n",
      "\u001b[34m[49]#011train-error:0.140733#011validation-error:0.177\u001b[0m\n",
      "\u001b[34m[01:53:50] src/tree/updater_prune.cc:74: tree pruning end, 1 roots, 30 extra nodes, 8 pruned nodes, max_depth=5\u001b[0m\n",
      "\u001b[34m[50]#011train-error:0.1398#011validation-error:0.1768\u001b[0m\n",
      "\u001b[34m[01:53:51] src/tree/updater_prune.cc:74: tree pruning end, 1 roots, 28 extra nodes, 4 pruned nodes, max_depth=5\u001b[0m\n",
      "\u001b[34m[51]#011train-error:0.138733#011validation-error:0.1758\u001b[0m\n",
      "\u001b[34m[01:53:52] src/tree/updater_prune.cc:74: tree pruning end, 1 roots, 16 extra nodes, 6 pruned nodes, max_depth=5\u001b[0m\n",
      "\u001b[34m[52]#011train-error:0.1382#011validation-error:0.1757\u001b[0m\n",
      "\u001b[34m[01:53:53] src/tree/updater_prune.cc:74: tree pruning end, 1 roots, 14 extra nodes, 6 pruned nodes, max_depth=5\u001b[0m\n",
      "\u001b[34m[53]#011train-error:0.1368#011validation-error:0.1744\u001b[0m\n",
      "\u001b[34m[01:53:55] src/tree/updater_prune.cc:74: tree pruning end, 1 roots, 22 extra nodes, 10 pruned nodes, max_depth=5\u001b[0m\n",
      "\u001b[34m[54]#011train-error:0.135133#011validation-error:0.1755\u001b[0m\n",
      "\u001b[34m[01:53:56] src/tree/updater_prune.cc:74: tree pruning end, 1 roots, 36 extra nodes, 2 pruned nodes, max_depth=5\u001b[0m\n",
      "\u001b[34m[55]#011train-error:0.133067#011validation-error:0.1758\u001b[0m\n",
      "\u001b[34m[01:53:57] src/tree/updater_prune.cc:74: tree pruning end, 1 roots, 24 extra nodes, 12 pruned nodes, max_depth=5\u001b[0m\n",
      "\u001b[34m[56]#011train-error:0.1318#011validation-error:0.1745\u001b[0m\n",
      "\u001b[34m[01:53:58] src/tree/updater_prune.cc:74: tree pruning end, 1 roots, 12 extra nodes, 10 pruned nodes, max_depth=5\u001b[0m\n",
      "\u001b[34m[57]#011train-error:0.130267#011validation-error:0.1739\u001b[0m\n",
      "\u001b[34m[01:54:00] src/tree/updater_prune.cc:74: tree pruning end, 1 roots, 18 extra nodes, 20 pruned nodes, max_depth=5\u001b[0m\n",
      "\u001b[34m[58]#011train-error:0.1306#011validation-error:0.1732\u001b[0m\n",
      "\u001b[34m[01:54:01] src/tree/updater_prune.cc:74: tree pruning end, 1 roots, 16 extra nodes, 10 pruned nodes, max_depth=5\u001b[0m\n",
      "\u001b[34m[59]#011train-error:0.129933#011validation-error:0.1731\u001b[0m\n",
      "\u001b[34m[01:54:02] src/tree/updater_prune.cc:74: tree pruning end, 1 roots, 30 extra nodes, 8 pruned nodes, max_depth=5\u001b[0m\n",
      "\u001b[34m[60]#011train-error:0.13#011validation-error:0.1724\u001b[0m\n",
      "\u001b[34m[01:54:03] src/tree/updater_prune.cc:74: tree pruning end, 1 roots, 14 extra nodes, 6 pruned nodes, max_depth=5\u001b[0m\n",
      "\u001b[34m[61]#011train-error:0.1294#011validation-error:0.1709\u001b[0m\n",
      "\u001b[34m[01:54:05] src/tree/updater_prune.cc:74: tree pruning end, 1 roots, 24 extra nodes, 6 pruned nodes, max_depth=5\u001b[0m\n",
      "\u001b[34m[62]#011train-error:0.126667#011validation-error:0.1709\u001b[0m\n",
      "\u001b[34m[01:54:06] src/tree/updater_prune.cc:74: tree pruning end, 1 roots, 12 extra nodes, 10 pruned nodes, max_depth=5\u001b[0m\n",
      "\u001b[34m[63]#011train-error:0.124733#011validation-error:0.1699\u001b[0m\n",
      "\u001b[34m[01:54:07] src/tree/updater_prune.cc:74: tree pruning end, 1 roots, 38 extra nodes, 6 pruned nodes, max_depth=5\u001b[0m\n",
      "\u001b[34m[64]#011train-error:0.124067#011validation-error:0.1696\u001b[0m\n",
      "\u001b[34m[01:54:08] src/tree/updater_prune.cc:74: tree pruning end, 1 roots, 14 extra nodes, 2 pruned nodes, max_depth=5\u001b[0m\n",
      "\u001b[34m[65]#011train-error:0.123#011validation-error:0.1682\u001b[0m\n",
      "\u001b[34m[01:54:10] src/tree/updater_prune.cc:74: tree pruning end, 1 roots, 24 extra nodes, 6 pruned nodes, max_depth=5\u001b[0m\n",
      "\u001b[34m[66]#011train-error:0.1226#011validation-error:0.1675\u001b[0m\n",
      "\u001b[34m[01:54:11] src/tree/updater_prune.cc:74: tree pruning end, 1 roots, 26 extra nodes, 14 pruned nodes, max_depth=5\u001b[0m\n",
      "\u001b[34m[67]#011train-error:0.121667#011validation-error:0.1669\u001b[0m\n",
      "\u001b[34m[01:54:12] src/tree/updater_prune.cc:74: tree pruning end, 1 roots, 30 extra nodes, 6 pruned nodes, max_depth=5\u001b[0m\n",
      "\u001b[34m[68]#011train-error:0.1208#011validation-error:0.1665\u001b[0m\n",
      "\u001b[34m[01:54:13] src/tree/updater_prune.cc:74: tree pruning end, 1 roots, 20 extra nodes, 12 pruned nodes, max_depth=5\u001b[0m\n",
      "\u001b[34m[69]#011train-error:0.119933#011validation-error:0.166\u001b[0m\n",
      "\u001b[34m[01:54:15] src/tree/updater_prune.cc:74: tree pruning end, 1 roots, 28 extra nodes, 8 pruned nodes, max_depth=5\u001b[0m\n",
      "\u001b[34m[70]#011train-error:0.1184#011validation-error:0.1657\u001b[0m\n",
      "\u001b[34m[01:54:16] src/tree/updater_prune.cc:74: tree pruning end, 1 roots, 10 extra nodes, 6 pruned nodes, max_depth=5\u001b[0m\n",
      "\u001b[34m[71]#011train-error:0.118733#011validation-error:0.1651\u001b[0m\n",
      "\u001b[34m[01:54:17] src/tree/updater_prune.cc:74: tree pruning end, 1 roots, 12 extra nodes, 6 pruned nodes, max_depth=5\u001b[0m\n",
      "\u001b[34m[72]#011train-error:0.118267#011validation-error:0.1638\u001b[0m\n",
      "\u001b[34m[01:54:19] src/tree/updater_prune.cc:74: tree pruning end, 1 roots, 22 extra nodes, 10 pruned nodes, max_depth=5\u001b[0m\n",
      "\u001b[34m[73]#011train-error:0.117533#011validation-error:0.164\u001b[0m\n",
      "\u001b[34m[01:54:20] src/tree/updater_prune.cc:74: tree pruning end, 1 roots, 14 extra nodes, 12 pruned nodes, max_depth=5\u001b[0m\n",
      "\u001b[34m[74]#011train-error:0.117267#011validation-error:0.1635\u001b[0m\n",
      "\u001b[34m[01:54:21] src/tree/updater_prune.cc:74: tree pruning end, 1 roots, 16 extra nodes, 12 pruned nodes, max_depth=5\u001b[0m\n",
      "\u001b[34m[75]#011train-error:0.116533#011validation-error:0.163\u001b[0m\n",
      "\u001b[34m[01:54:22] src/tree/updater_prune.cc:74: tree pruning end, 1 roots, 24 extra nodes, 8 pruned nodes, max_depth=5\u001b[0m\n",
      "\u001b[34m[76]#011train-error:0.115933#011validation-error:0.1624\u001b[0m\n",
      "\u001b[34m[01:54:23] src/tree/updater_prune.cc:74: tree pruning end, 1 roots, 12 extra nodes, 10 pruned nodes, max_depth=5\u001b[0m\n",
      "\u001b[34m[77]#011train-error:0.115667#011validation-error:0.1618\u001b[0m\n",
      "\u001b[34m[01:54:25] src/tree/updater_prune.cc:74: tree pruning end, 1 roots, 20 extra nodes, 12 pruned nodes, max_depth=5\u001b[0m\n",
      "\u001b[34m[78]#011train-error:0.113933#011validation-error:0.1617\u001b[0m\n",
      "\u001b[34m[01:54:26] src/tree/updater_prune.cc:74: tree pruning end, 1 roots, 26 extra nodes, 8 pruned nodes, max_depth=5\u001b[0m\n",
      "\u001b[34m[79]#011train-error:0.1142#011validation-error:0.1611\u001b[0m\n",
      "\u001b[34m[01:54:27] src/tree/updater_prune.cc:74: tree pruning end, 1 roots, 26 extra nodes, 10 pruned nodes, max_depth=5\u001b[0m\n",
      "\u001b[34m[80]#011train-error:0.112933#011validation-error:0.1602\u001b[0m\n",
      "\u001b[34m[01:54:29] src/tree/updater_prune.cc:74: tree pruning end, 1 roots, 14 extra nodes, 10 pruned nodes, max_depth=5\u001b[0m\n",
      "\u001b[34m[81]#011train-error:0.113133#011validation-error:0.1606\u001b[0m\n",
      "\u001b[34m[01:54:30] src/tree/updater_prune.cc:74: tree pruning end, 1 roots, 18 extra nodes, 6 pruned nodes, max_depth=5\u001b[0m\n",
      "\u001b[34m[82]#011train-error:0.112533#011validation-error:0.16\u001b[0m\n",
      "\u001b[34m[01:54:31] src/tree/updater_prune.cc:74: tree pruning end, 1 roots, 10 extra nodes, 8 pruned nodes, max_depth=5\u001b[0m\n",
      "\u001b[34m[83]#011train-error:0.111733#011validation-error:0.1596\u001b[0m\n",
      "\u001b[34m[01:54:32] src/tree/updater_prune.cc:74: tree pruning end, 1 roots, 18 extra nodes, 8 pruned nodes, max_depth=5\u001b[0m\n",
      "\u001b[34m[84]#011train-error:0.111933#011validation-error:0.1608\u001b[0m\n"
     ]
    },
    {
     "name": "stdout",
     "output_type": "stream",
     "text": [
      "\u001b[34m[01:54:34] src/tree/updater_prune.cc:74: tree pruning end, 1 roots, 26 extra nodes, 8 pruned nodes, max_depth=5\u001b[0m\n",
      "\u001b[34m[85]#011train-error:0.1104#011validation-error:0.1605\u001b[0m\n",
      "\u001b[34m[01:54:35] src/tree/updater_prune.cc:74: tree pruning end, 1 roots, 30 extra nodes, 12 pruned nodes, max_depth=5\u001b[0m\n",
      "\u001b[34m[86]#011train-error:0.108667#011validation-error:0.1596\u001b[0m\n",
      "\u001b[34m[01:54:36] src/tree/updater_prune.cc:74: tree pruning end, 1 roots, 24 extra nodes, 8 pruned nodes, max_depth=5\u001b[0m\n",
      "\u001b[34m[87]#011train-error:0.108133#011validation-error:0.1604\u001b[0m\n",
      "\u001b[34m[01:54:37] src/tree/updater_prune.cc:74: tree pruning end, 1 roots, 24 extra nodes, 8 pruned nodes, max_depth=5\u001b[0m\n",
      "\u001b[34m[88]#011train-error:0.1082#011validation-error:0.1585\u001b[0m\n",
      "\u001b[34m[01:54:39] src/tree/updater_prune.cc:74: tree pruning end, 1 roots, 16 extra nodes, 8 pruned nodes, max_depth=5\u001b[0m\n",
      "\u001b[34m[89]#011train-error:0.108067#011validation-error:0.1585\u001b[0m\n",
      "\u001b[34m[01:54:40] src/tree/updater_prune.cc:74: tree pruning end, 1 roots, 16 extra nodes, 12 pruned nodes, max_depth=5\u001b[0m\n",
      "\u001b[34m[90]#011train-error:0.1072#011validation-error:0.158\u001b[0m\n",
      "\u001b[34m[01:54:41] src/tree/updater_prune.cc:74: tree pruning end, 1 roots, 18 extra nodes, 10 pruned nodes, max_depth=5\u001b[0m\n",
      "\u001b[34m[91]#011train-error:0.106533#011validation-error:0.1571\u001b[0m\n",
      "\u001b[34m[01:54:42] src/tree/updater_prune.cc:74: tree pruning end, 1 roots, 10 extra nodes, 2 pruned nodes, max_depth=5\u001b[0m\n",
      "\u001b[34m[92]#011train-error:0.105933#011validation-error:0.157\u001b[0m\n",
      "\u001b[34m[01:54:44] src/tree/updater_prune.cc:74: tree pruning end, 1 roots, 18 extra nodes, 8 pruned nodes, max_depth=5\u001b[0m\n",
      "\u001b[34m[93]#011train-error:0.106067#011validation-error:0.157\u001b[0m\n",
      "\u001b[34m[01:54:45] src/tree/updater_prune.cc:74: tree pruning end, 1 roots, 18 extra nodes, 10 pruned nodes, max_depth=5\u001b[0m\n",
      "\u001b[34m[94]#011train-error:0.105733#011validation-error:0.1573\u001b[0m\n",
      "\u001b[34m[01:54:46] src/tree/updater_prune.cc:74: tree pruning end, 1 roots, 14 extra nodes, 4 pruned nodes, max_depth=5\u001b[0m\n",
      "\u001b[34m[95]#011train-error:0.104667#011validation-error:0.1564\u001b[0m\n",
      "\u001b[34m[01:54:47] src/tree/updater_prune.cc:74: tree pruning end, 1 roots, 12 extra nodes, 4 pruned nodes, max_depth=5\u001b[0m\n",
      "\u001b[34m[96]#011train-error:0.104333#011validation-error:0.1566\u001b[0m\n",
      "\u001b[34m[01:54:49] src/tree/updater_prune.cc:74: tree pruning end, 1 roots, 18 extra nodes, 6 pruned nodes, max_depth=5\u001b[0m\n",
      "\u001b[34m[97]#011train-error:0.1042#011validation-error:0.1566\u001b[0m\n",
      "\u001b[34m[01:54:50] src/tree/updater_prune.cc:74: tree pruning end, 1 roots, 22 extra nodes, 10 pruned nodes, max_depth=5\u001b[0m\n",
      "\u001b[34m[98]#011train-error:0.1038#011validation-error:0.1556\u001b[0m\n",
      "\u001b[34m[01:54:51] src/tree/updater_prune.cc:74: tree pruning end, 1 roots, 22 extra nodes, 6 pruned nodes, max_depth=5\u001b[0m\n",
      "\u001b[34m[99]#011train-error:0.103867#011validation-error:0.1557\u001b[0m\n",
      "\u001b[34m[01:54:53] src/tree/updater_prune.cc:74: tree pruning end, 1 roots, 14 extra nodes, 12 pruned nodes, max_depth=5\u001b[0m\n",
      "\u001b[34m[100]#011train-error:0.103933#011validation-error:0.155\u001b[0m\n",
      "\u001b[34m[01:54:54] src/tree/updater_prune.cc:74: tree pruning end, 1 roots, 16 extra nodes, 10 pruned nodes, max_depth=5\u001b[0m\n",
      "\u001b[34m[101]#011train-error:0.102933#011validation-error:0.1547\u001b[0m\n",
      "\u001b[34m[01:54:55] src/tree/updater_prune.cc:74: tree pruning end, 1 roots, 14 extra nodes, 4 pruned nodes, max_depth=5\u001b[0m\n",
      "\u001b[34m[102]#011train-error:0.102533#011validation-error:0.1554\u001b[0m\n",
      "\u001b[34m[01:54:56] src/tree/updater_prune.cc:74: tree pruning end, 1 roots, 16 extra nodes, 12 pruned nodes, max_depth=5\u001b[0m\n",
      "\u001b[34m[103]#011train-error:0.102333#011validation-error:0.1545\u001b[0m\n",
      "\u001b[34m[01:54:58] src/tree/updater_prune.cc:74: tree pruning end, 1 roots, 20 extra nodes, 10 pruned nodes, max_depth=5\u001b[0m\n",
      "\u001b[34m[104]#011train-error:0.101#011validation-error:0.1548\u001b[0m\n",
      "\u001b[34m[01:54:59] src/tree/updater_prune.cc:74: tree pruning end, 1 roots, 26 extra nodes, 18 pruned nodes, max_depth=5\u001b[0m\n",
      "\u001b[34m[105]#011train-error:0.099467#011validation-error:0.1547\u001b[0m\n",
      "\u001b[34m[01:55:00] src/tree/updater_prune.cc:74: tree pruning end, 1 roots, 14 extra nodes, 12 pruned nodes, max_depth=5\u001b[0m\n",
      "\u001b[34m[106]#011train-error:0.0992#011validation-error:0.1544\u001b[0m\n",
      "\u001b[34m[01:55:01] src/tree/updater_prune.cc:74: tree pruning end, 1 roots, 18 extra nodes, 4 pruned nodes, max_depth=5\u001b[0m\n",
      "\u001b[34m[107]#011train-error:0.098533#011validation-error:0.1535\u001b[0m\n",
      "\u001b[34m[01:55:03] src/tree/updater_prune.cc:74: tree pruning end, 1 roots, 24 extra nodes, 8 pruned nodes, max_depth=5\u001b[0m\n",
      "\u001b[34m[108]#011train-error:0.097467#011validation-error:0.1538\u001b[0m\n",
      "\u001b[34m[01:55:04] src/tree/updater_prune.cc:74: tree pruning end, 1 roots, 16 extra nodes, 4 pruned nodes, max_depth=5\u001b[0m\n",
      "\u001b[34m[109]#011train-error:0.096867#011validation-error:0.1533\u001b[0m\n",
      "\u001b[34m[01:55:05] src/tree/updater_prune.cc:74: tree pruning end, 1 roots, 12 extra nodes, 12 pruned nodes, max_depth=5\u001b[0m\n",
      "\u001b[34m[110]#011train-error:0.096667#011validation-error:0.1529\u001b[0m\n",
      "\u001b[34m[01:55:06] src/tree/updater_prune.cc:74: tree pruning end, 1 roots, 18 extra nodes, 6 pruned nodes, max_depth=5\u001b[0m\n",
      "\u001b[34m[111]#011train-error:0.097067#011validation-error:0.1524\u001b[0m\n",
      "\u001b[34m[01:55:08] src/tree/updater_prune.cc:74: tree pruning end, 1 roots, 10 extra nodes, 12 pruned nodes, max_depth=5\u001b[0m\n",
      "\u001b[34m[112]#011train-error:0.097267#011validation-error:0.1521\u001b[0m\n",
      "\u001b[34m[01:55:09] src/tree/updater_prune.cc:74: tree pruning end, 1 roots, 14 extra nodes, 6 pruned nodes, max_depth=5\u001b[0m\n",
      "\u001b[34m[113]#011train-error:0.097267#011validation-error:0.1513\u001b[0m\n",
      "\u001b[34m[01:55:10] src/tree/updater_prune.cc:74: tree pruning end, 1 roots, 16 extra nodes, 8 pruned nodes, max_depth=5\u001b[0m\n",
      "\u001b[34m[114]#011train-error:0.096733#011validation-error:0.1513\u001b[0m\n",
      "\u001b[34m[01:55:11] src/tree/updater_prune.cc:74: tree pruning end, 1 roots, 14 extra nodes, 6 pruned nodes, max_depth=5\u001b[0m\n",
      "\u001b[34m[115]#011train-error:0.096533#011validation-error:0.1519\u001b[0m\n",
      "\u001b[34m[01:55:13] src/tree/updater_prune.cc:74: tree pruning end, 1 roots, 12 extra nodes, 12 pruned nodes, max_depth=5\u001b[0m\n",
      "\u001b[34m[116]#011train-error:0.096533#011validation-error:0.1521\u001b[0m\n",
      "\u001b[34m[01:55:14] src/tree/updater_prune.cc:74: tree pruning end, 1 roots, 16 extra nodes, 12 pruned nodes, max_depth=5\u001b[0m\n",
      "\u001b[34m[117]#011train-error:0.096133#011validation-error:0.1514\u001b[0m\n",
      "\u001b[34m[01:55:15] src/tree/updater_prune.cc:74: tree pruning end, 1 roots, 18 extra nodes, 6 pruned nodes, max_depth=5\u001b[0m\n",
      "\u001b[34m[118]#011train-error:0.095867#011validation-error:0.1517\u001b[0m\n",
      "\u001b[34m[01:55:17] src/tree/updater_prune.cc:74: tree pruning end, 1 roots, 10 extra nodes, 6 pruned nodes, max_depth=5\u001b[0m\n",
      "\u001b[34m[119]#011train-error:0.095467#011validation-error:0.1513\u001b[0m\n",
      "\u001b[34m[01:55:18] src/tree/updater_prune.cc:74: tree pruning end, 1 roots, 12 extra nodes, 8 pruned nodes, max_depth=5\u001b[0m\n",
      "\u001b[34m[120]#011train-error:0.094333#011validation-error:0.151\u001b[0m\n",
      "\u001b[34m[01:55:19] src/tree/updater_prune.cc:74: tree pruning end, 1 roots, 12 extra nodes, 2 pruned nodes, max_depth=5\u001b[0m\n",
      "\u001b[34m[121]#011train-error:0.094133#011validation-error:0.15\u001b[0m\n",
      "\u001b[34m[01:55:20] src/tree/updater_prune.cc:74: tree pruning end, 1 roots, 24 extra nodes, 6 pruned nodes, max_depth=5\u001b[0m\n",
      "\u001b[34m[122]#011train-error:0.093733#011validation-error:0.1508\u001b[0m\n",
      "\u001b[34m[01:55:22] src/tree/updater_prune.cc:74: tree pruning end, 1 roots, 12 extra nodes, 6 pruned nodes, max_depth=5\u001b[0m\n",
      "\u001b[34m[123]#011train-error:0.0932#011validation-error:0.1501\u001b[0m\n",
      "\u001b[34m[01:55:23] src/tree/updater_prune.cc:74: tree pruning end, 1 roots, 16 extra nodes, 0 pruned nodes, max_depth=5\u001b[0m\n",
      "\u001b[34m[124]#011train-error:0.092667#011validation-error:0.1502\u001b[0m\n",
      "\u001b[34m[01:55:24] src/tree/updater_prune.cc:74: tree pruning end, 1 roots, 10 extra nodes, 4 pruned nodes, max_depth=5\u001b[0m\n",
      "\u001b[34m[125]#011train-error:0.0926#011validation-error:0.1501\u001b[0m\n",
      "\u001b[34m[01:55:25] src/tree/updater_prune.cc:74: tree pruning end, 1 roots, 20 extra nodes, 6 pruned nodes, max_depth=5\u001b[0m\n",
      "\u001b[34m[126]#011train-error:0.0924#011validation-error:0.1507\u001b[0m\n",
      "\u001b[34m[01:55:27] src/tree/updater_prune.cc:74: tree pruning end, 1 roots, 12 extra nodes, 12 pruned nodes, max_depth=5\u001b[0m\n",
      "\u001b[34m[127]#011train-error:0.092067#011validation-error:0.1504\u001b[0m\n",
      "\u001b[34m[01:55:28] src/tree/updater_prune.cc:74: tree pruning end, 1 roots, 20 extra nodes, 4 pruned nodes, max_depth=5\u001b[0m\n",
      "\u001b[34m[128]#011train-error:0.091067#011validation-error:0.1497\u001b[0m\n",
      "\u001b[34m[01:55:29] src/tree/updater_prune.cc:74: tree pruning end, 1 roots, 12 extra nodes, 4 pruned nodes, max_depth=5\u001b[0m\n",
      "\u001b[34m[129]#011train-error:0.091133#011validation-error:0.1497\u001b[0m\n",
      "\u001b[34m[01:55:30] src/tree/updater_prune.cc:74: tree pruning end, 1 roots, 16 extra nodes, 8 pruned nodes, max_depth=5\u001b[0m\n",
      "\u001b[34m[130]#011train-error:0.091667#011validation-error:0.151\u001b[0m\n",
      "\u001b[34m[01:55:32] src/tree/updater_prune.cc:74: tree pruning end, 1 roots, 26 extra nodes, 12 pruned nodes, max_depth=5\u001b[0m\n",
      "\u001b[34m[131]#011train-error:0.090667#011validation-error:0.1499\u001b[0m\n",
      "\u001b[34m[01:55:33] src/tree/updater_prune.cc:74: tree pruning end, 1 roots, 12 extra nodes, 4 pruned nodes, max_depth=5\u001b[0m\n",
      "\u001b[34m[132]#011train-error:0.091#011validation-error:0.1497\u001b[0m\n"
     ]
    },
    {
     "name": "stdout",
     "output_type": "stream",
     "text": [
      "\u001b[34m[01:55:34] src/tree/updater_prune.cc:74: tree pruning end, 1 roots, 14 extra nodes, 12 pruned nodes, max_depth=5\u001b[0m\n",
      "\u001b[34m[133]#011train-error:0.090933#011validation-error:0.1498\u001b[0m\n",
      "\u001b[34m[01:55:35] src/tree/updater_prune.cc:74: tree pruning end, 1 roots, 12 extra nodes, 10 pruned nodes, max_depth=5\u001b[0m\n",
      "\u001b[34m[134]#011train-error:0.0908#011validation-error:0.1492\u001b[0m\n",
      "\u001b[34m[01:55:37] src/tree/updater_prune.cc:74: tree pruning end, 1 roots, 14 extra nodes, 10 pruned nodes, max_depth=5\u001b[0m\n",
      "\u001b[34m[135]#011train-error:0.090533#011validation-error:0.1482\u001b[0m\n",
      "\u001b[34m[01:55:38] src/tree/updater_prune.cc:74: tree pruning end, 1 roots, 16 extra nodes, 8 pruned nodes, max_depth=5\u001b[0m\n",
      "\u001b[34m[136]#011train-error:0.090067#011validation-error:0.1486\u001b[0m\n",
      "\u001b[34m[01:55:39] src/tree/updater_prune.cc:74: tree pruning end, 1 roots, 16 extra nodes, 2 pruned nodes, max_depth=5\u001b[0m\n",
      "\u001b[34m[137]#011train-error:0.090133#011validation-error:0.1499\u001b[0m\n",
      "\u001b[34m[01:55:41] src/tree/updater_prune.cc:74: tree pruning end, 1 roots, 10 extra nodes, 2 pruned nodes, max_depth=5\u001b[0m\n",
      "\u001b[34m[138]#011train-error:0.090333#011validation-error:0.1504\u001b[0m\n",
      "\u001b[34m[01:55:42] src/tree/updater_prune.cc:74: tree pruning end, 1 roots, 14 extra nodes, 4 pruned nodes, max_depth=5\u001b[0m\n",
      "\u001b[34m[139]#011train-error:0.090267#011validation-error:0.1502\u001b[0m\n",
      "\u001b[34m[01:55:43] src/tree/updater_prune.cc:74: tree pruning end, 1 roots, 16 extra nodes, 6 pruned nodes, max_depth=5\u001b[0m\n",
      "\u001b[34m[140]#011train-error:0.09#011validation-error:0.1497\u001b[0m\n",
      "\u001b[34m[01:55:44] src/tree/updater_prune.cc:74: tree pruning end, 1 roots, 16 extra nodes, 20 pruned nodes, max_depth=5\u001b[0m\n",
      "\u001b[34m[141]#011train-error:0.089933#011validation-error:0.1499\u001b[0m\n",
      "\u001b[34m[01:55:46] src/tree/updater_prune.cc:74: tree pruning end, 1 roots, 26 extra nodes, 10 pruned nodes, max_depth=5\u001b[0m\n",
      "\u001b[34m[142]#011train-error:0.0888#011validation-error:0.1497\u001b[0m\n",
      "\u001b[34m[01:55:47] src/tree/updater_prune.cc:74: tree pruning end, 1 roots, 16 extra nodes, 2 pruned nodes, max_depth=5\u001b[0m\n",
      "\u001b[34m[143]#011train-error:0.088667#011validation-error:0.1496\u001b[0m\n",
      "\u001b[34m[01:55:48] src/tree/updater_prune.cc:74: tree pruning end, 1 roots, 18 extra nodes, 2 pruned nodes, max_depth=5\u001b[0m\n",
      "\u001b[34m[144]#011train-error:0.088333#011validation-error:0.149\u001b[0m\n",
      "\u001b[34m[01:55:49] src/tree/updater_prune.cc:74: tree pruning end, 1 roots, 20 extra nodes, 12 pruned nodes, max_depth=5\u001b[0m\n",
      "\u001b[34m[145]#011train-error:0.087933#011validation-error:0.1488\u001b[0m\n",
      "\u001b[34mStopping. Best iteration:\u001b[0m\n",
      "\u001b[34m[135]#011train-error:0.090533#011validation-error:0.1482\n",
      "\u001b[0m\n",
      "\n",
      "2020-07-29 01:55:59 Uploading - Uploading generated training model\n",
      "2020-07-29 01:55:59 Completed - Training job completed\n",
      "Training seconds: 236\n",
      "Billable seconds: 236\n"
     ]
    }
   ],
   "source": [
    "xgb.fit({'train': s3_input_train, 'validation': s3_input_validation})"
   ]
  },
  {
   "cell_type": "markdown",
   "metadata": {},
   "source": [
    "## Step 5: Testing the model\n",
    "\n",
    "Now that we've fit our XGBoost model, it's time to see how well it performs. To do this we will use SageMakers Batch Transform functionality. Batch Transform is a convenient way to perform inference on a large dataset in a way that is not realtime. That is, we don't necessarily need to use our model's results immediately and instead we can perform inference on a large number of samples. An example of this in industry might be performing an end of month report. This method of inference can also be useful to us as it means that we can perform inference on our entire test set. \n",
    "\n",
    "To perform a Batch Transformation we need to first create a transformer objects from our trained estimator object."
   ]
  },
  {
   "cell_type": "code",
   "execution_count": 25,
   "metadata": {},
   "outputs": [
    {
     "name": "stderr",
     "output_type": "stream",
     "text": [
      "Parameter image will be renamed to image_uri in SageMaker Python SDK v2.\n"
     ]
    }
   ],
   "source": [
    "xgb_transformer = xgb.transformer(instance_count = 1, instance_type = 'ml.m4.xlarge')"
   ]
  },
  {
   "cell_type": "markdown",
   "metadata": {},
   "source": [
    "Next we actually perform the transform job. When doing so we need to make sure to specify the type of data we are sending so that it is serialized correctly in the background. In our case we are providing our model with csv data so we specify `text/csv`. Also, if the test data that we have provided is too large to process all at once then we need to specify how the data file should be split up. Since each line is a single entry in our data set we tell SageMaker that it can split the input on each line."
   ]
  },
  {
   "cell_type": "code",
   "execution_count": 26,
   "metadata": {},
   "outputs": [],
   "source": [
    "xgb_transformer.transform(test_location, content_type='text/csv', split_type='Line')"
   ]
  },
  {
   "cell_type": "markdown",
   "metadata": {},
   "source": [
    "Currently the transform job is running but it is doing so in the background. Since we wish to wait until the transform job is done and we would like a bit of feedback we can run the `wait()` method."
   ]
  },
  {
   "cell_type": "code",
   "execution_count": 27,
   "metadata": {},
   "outputs": [
    {
     "name": "stdout",
     "output_type": "stream",
     "text": [
      ".....................\u001b[34mArguments: serve\u001b[0m\n",
      "\u001b[34m[2020-07-29 01:59:49 +0000] [1] [INFO] Starting gunicorn 19.7.1\u001b[0m\n",
      "\u001b[34m[2020-07-29 01:59:49 +0000] [1] [INFO] Listening at: http://0.0.0.0:8080 (1)\u001b[0m\n",
      "\u001b[34m[2020-07-29 01:59:49 +0000] [1] [INFO] Using worker: gevent\u001b[0m\n",
      "\u001b[34m[2020-07-29 01:59:49 +0000] [37] [INFO] Booting worker with pid: 37\u001b[0m\n",
      "\u001b[34m[2020-07-29 01:59:49 +0000] [38] [INFO] Booting worker with pid: 38\u001b[0m\n",
      "\u001b[34m[2020-07-29 01:59:49 +0000] [39] [INFO] Booting worker with pid: 39\u001b[0m\n",
      "\u001b[34m[2020-07-29 01:59:49 +0000] [40] [INFO] Booting worker with pid: 40\u001b[0m\n",
      "\u001b[34m[2020-07-29:01:59:49:INFO] Model loaded successfully for worker : 37\u001b[0m\n",
      "\u001b[34m[2020-07-29:01:59:49:INFO] Model loaded successfully for worker : 39\u001b[0m\n",
      "\u001b[34m[2020-07-29:01:59:49:INFO] Model loaded successfully for worker : 38\u001b[0m\n",
      "\u001b[34m[2020-07-29:01:59:49:INFO] Model loaded successfully for worker : 40\u001b[0m\n",
      "\u001b[34m[2020-07-29:02:00:12:INFO] Sniff delimiter as ','\u001b[0m\n",
      "\u001b[34m[2020-07-29:02:00:12:INFO] Determined delimiter of CSV input is ','\u001b[0m\n",
      "\u001b[34m[2020-07-29:02:00:12:INFO] Sniff delimiter as ','\u001b[0m\n",
      "\u001b[34m[2020-07-29:02:00:12:INFO] Determined delimiter of CSV input is ','\u001b[0m\n",
      "\u001b[34m[2020-07-29:02:00:12:INFO] Sniff delimiter as ','\u001b[0m\n",
      "\u001b[34m[2020-07-29:02:00:12:INFO] Determined delimiter of CSV input is ','\u001b[0m\n",
      "\u001b[34m[2020-07-29:02:00:13:INFO] Sniff delimiter as ','\u001b[0m\n",
      "\u001b[34m[2020-07-29:02:00:13:INFO] Determined delimiter of CSV input is ','\u001b[0m\n",
      "\u001b[34m[2020-07-29:02:00:14:INFO] Sniff delimiter as ','\u001b[0m\n",
      "\u001b[34m[2020-07-29:02:00:14:INFO] Determined delimiter of CSV input is ','\u001b[0m\n",
      "\u001b[34m[2020-07-29:02:00:15:INFO] Sniff delimiter as ','\u001b[0m\n",
      "\u001b[34m[2020-07-29:02:00:15:INFO] Determined delimiter of CSV input is ','\u001b[0m\n",
      "\u001b[34m[2020-07-29:02:00:16:INFO] Sniff delimiter as ','\u001b[0m\n",
      "\u001b[34m[2020-07-29:02:00:16:INFO] Determined delimiter of CSV input is ','\u001b[0m\n",
      "\u001b[34m[2020-07-29:02:00:16:INFO] Sniff delimiter as ','\u001b[0m\n",
      "\u001b[34m[2020-07-29:02:00:16:INFO] Determined delimiter of CSV input is ','\u001b[0m\n",
      "\u001b[34m[2020-07-29:02:00:16:INFO] Sniff delimiter as ','\u001b[0m\n",
      "\u001b[34m[2020-07-29:02:00:16:INFO] Determined delimiter of CSV input is ','\u001b[0m\n",
      "\u001b[34m[2020-07-29:02:00:16:INFO] Sniff delimiter as ','\u001b[0m\n",
      "\u001b[34m[2020-07-29:02:00:16:INFO] Determined delimiter of CSV input is ','\u001b[0m\n",
      "\u001b[32m2020-07-29T02:00:09.944:[sagemaker logs]: MaxConcurrentTransforms=4, MaxPayloadInMB=6, BatchStrategy=MULTI_RECORD\u001b[0m\n",
      "\u001b[34m[2020-07-29:02:00:18:INFO] Sniff delimiter as ','\u001b[0m\n",
      "\u001b[34m[2020-07-29:02:00:18:INFO] Determined delimiter of CSV input is ','\u001b[0m\n",
      "\u001b[34m[2020-07-29:02:00:18:INFO] Sniff delimiter as ','\u001b[0m\n",
      "\u001b[34m[2020-07-29:02:00:18:INFO] Determined delimiter of CSV input is ','\u001b[0m\n",
      "\u001b[35m[2020-07-29:02:00:18:INFO] Sniff delimiter as ','\u001b[0m\n",
      "\u001b[35m[2020-07-29:02:00:18:INFO] Determined delimiter of CSV input is ','\u001b[0m\n",
      "\u001b[35m[2020-07-29:02:00:18:INFO] Sniff delimiter as ','\u001b[0m\n",
      "\u001b[35m[2020-07-29:02:00:18:INFO] Determined delimiter of CSV input is ','\u001b[0m\n",
      "\u001b[34m[2020-07-29:02:00:18:INFO] Sniff delimiter as ','\u001b[0m\n",
      "\u001b[34m[2020-07-29:02:00:18:INFO] Determined delimiter of CSV input is ','\u001b[0m\n",
      "\u001b[34m[2020-07-29:02:00:19:INFO] Sniff delimiter as ','\u001b[0m\n",
      "\u001b[34m[2020-07-29:02:00:19:INFO] Determined delimiter of CSV input is ','\u001b[0m\n",
      "\u001b[35m[2020-07-29:02:00:18:INFO] Sniff delimiter as ','\u001b[0m\n",
      "\u001b[35m[2020-07-29:02:00:18:INFO] Determined delimiter of CSV input is ','\u001b[0m\n",
      "\u001b[35m[2020-07-29:02:00:19:INFO] Sniff delimiter as ','\u001b[0m\n",
      "\u001b[35m[2020-07-29:02:00:19:INFO] Determined delimiter of CSV input is ','\u001b[0m\n",
      "\u001b[34m[2020-07-29:02:00:21:INFO] Sniff delimiter as ','\u001b[0m\n",
      "\u001b[34m[2020-07-29:02:00:21:INFO] Determined delimiter of CSV input is ','\u001b[0m\n",
      "\u001b[34m[2020-07-29:02:00:21:INFO] Sniff delimiter as ','\u001b[0m\n",
      "\u001b[34m[2020-07-29:02:00:21:INFO] Determined delimiter of CSV input is ','\u001b[0m\n",
      "\u001b[34m[2020-07-29:02:00:21:INFO] Sniff delimiter as ','\u001b[0m\n",
      "\u001b[34m[2020-07-29:02:00:21:INFO] Determined delimiter of CSV input is ','\u001b[0m\n",
      "\u001b[34m[2020-07-29:02:00:21:INFO] Sniff delimiter as ','\u001b[0m\n",
      "\u001b[34m[2020-07-29:02:00:21:INFO] Determined delimiter of CSV input is ','\u001b[0m\n",
      "\u001b[35m[2020-07-29:02:00:21:INFO] Sniff delimiter as ','\u001b[0m\n",
      "\u001b[35m[2020-07-29:02:00:21:INFO] Determined delimiter of CSV input is ','\u001b[0m\n",
      "\u001b[35m[2020-07-29:02:00:21:INFO] Sniff delimiter as ','\u001b[0m\n",
      "\u001b[35m[2020-07-29:02:00:21:INFO] Determined delimiter of CSV input is ','\u001b[0m\n",
      "\u001b[35m[2020-07-29:02:00:21:INFO] Sniff delimiter as ','\u001b[0m\n",
      "\u001b[35m[2020-07-29:02:00:21:INFO] Determined delimiter of CSV input is ','\u001b[0m\n",
      "\u001b[35m[2020-07-29:02:00:21:INFO] Sniff delimiter as ','\u001b[0m\n",
      "\u001b[35m[2020-07-29:02:00:21:INFO] Determined delimiter of CSV input is ','\u001b[0m\n",
      "\u001b[34m[2020-07-29:02:00:23:INFO] Sniff delimiter as ','\u001b[0m\n",
      "\u001b[34m[2020-07-29:02:00:23:INFO] Determined delimiter of CSV input is ','\u001b[0m\n",
      "\u001b[34m[2020-07-29:02:00:23:INFO] Sniff delimiter as ','\u001b[0m\n",
      "\u001b[34m[2020-07-29:02:00:23:INFO] Determined delimiter of CSV input is ','\u001b[0m\n",
      "\u001b[34m[2020-07-29:02:00:23:INFO] Sniff delimiter as ','\u001b[0m\n",
      "\u001b[34m[2020-07-29:02:00:23:INFO] Determined delimiter of CSV input is ','\u001b[0m\n",
      "\u001b[35m[2020-07-29:02:00:23:INFO] Sniff delimiter as ','\u001b[0m\n",
      "\u001b[35m[2020-07-29:02:00:23:INFO] Determined delimiter of CSV input is ','\u001b[0m\n",
      "\u001b[35m[2020-07-29:02:00:23:INFO] Sniff delimiter as ','\u001b[0m\n",
      "\u001b[35m[2020-07-29:02:00:23:INFO] Determined delimiter of CSV input is ','\u001b[0m\n",
      "\u001b[35m[2020-07-29:02:00:23:INFO] Sniff delimiter as ','\u001b[0m\n",
      "\u001b[35m[2020-07-29:02:00:23:INFO] Determined delimiter of CSV input is ','\u001b[0m\n",
      "\u001b[34m[2020-07-29:02:00:24:INFO] Sniff delimiter as ','\u001b[0m\n",
      "\u001b[34m[2020-07-29:02:00:24:INFO] Determined delimiter of CSV input is ','\u001b[0m\n",
      "\u001b[35m[2020-07-29:02:00:24:INFO] Sniff delimiter as ','\u001b[0m\n",
      "\u001b[35m[2020-07-29:02:00:24:INFO] Determined delimiter of CSV input is ','\u001b[0m\n",
      "\u001b[34m[2020-07-29:02:00:25:INFO] Sniff delimiter as ','\u001b[0m\n",
      "\u001b[34m[2020-07-29:02:00:25:INFO] Determined delimiter of CSV input is ','\u001b[0m\n",
      "\u001b[34m[2020-07-29:02:00:26:INFO] Sniff delimiter as ','\u001b[0m\n",
      "\u001b[34m[2020-07-29:02:00:26:INFO] Determined delimiter of CSV input is ','\u001b[0m\n",
      "\u001b[34m[2020-07-29:02:00:26:INFO] Sniff delimiter as ','\u001b[0m\n",
      "\u001b[34m[2020-07-29:02:00:26:INFO] Determined delimiter of CSV input is ','\u001b[0m\n",
      "\u001b[35m[2020-07-29:02:00:25:INFO] Sniff delimiter as ','\u001b[0m\n",
      "\u001b[35m[2020-07-29:02:00:25:INFO] Determined delimiter of CSV input is ','\u001b[0m\n",
      "\u001b[35m[2020-07-29:02:00:26:INFO] Sniff delimiter as ','\u001b[0m\n",
      "\u001b[35m[2020-07-29:02:00:26:INFO] Determined delimiter of CSV input is ','\u001b[0m\n",
      "\u001b[35m[2020-07-29:02:00:26:INFO] Sniff delimiter as ','\u001b[0m\n",
      "\u001b[35m[2020-07-29:02:00:26:INFO] Determined delimiter of CSV input is ','\u001b[0m\n",
      "\u001b[34m[2020-07-29:02:00:26:INFO] Sniff delimiter as ','\u001b[0m\n",
      "\u001b[34m[2020-07-29:02:00:26:INFO] Determined delimiter of CSV input is ','\u001b[0m\n",
      "\u001b[35m[2020-07-29:02:00:26:INFO] Sniff delimiter as ','\u001b[0m\n",
      "\u001b[35m[2020-07-29:02:00:26:INFO] Determined delimiter of CSV input is ','\u001b[0m\n",
      "\n",
      "\u001b[34m[2020-07-29:02:00:28:INFO] Sniff delimiter as ','\u001b[0m\n",
      "\u001b[34m[2020-07-29:02:00:28:INFO] Determined delimiter of CSV input is ','\u001b[0m\n",
      "\u001b[34m[2020-07-29:02:00:28:INFO] Sniff delimiter as ','\u001b[0m\n",
      "\u001b[35m[2020-07-29:02:00:28:INFO] Sniff delimiter as ','\u001b[0m\n",
      "\u001b[35m[2020-07-29:02:00:28:INFO] Determined delimiter of CSV input is ','\u001b[0m\n",
      "\u001b[35m[2020-07-29:02:00:28:INFO] Sniff delimiter as ','\u001b[0m\n",
      "\u001b[34m[2020-07-29:02:00:28:INFO] Determined delimiter of CSV input is ','\u001b[0m\n",
      "\u001b[35m[2020-07-29:02:00:28:INFO] Determined delimiter of CSV input is ','\u001b[0m\n",
      "\u001b[34m[2020-07-29:02:00:29:INFO] Sniff delimiter as ','\u001b[0m\n",
      "\u001b[34m[2020-07-29:02:00:29:INFO] Determined delimiter of CSV input is ','\u001b[0m\n",
      "\u001b[35m[2020-07-29:02:00:29:INFO] Sniff delimiter as ','\u001b[0m\n",
      "\u001b[35m[2020-07-29:02:00:29:INFO] Determined delimiter of CSV input is ','\u001b[0m\n",
      "\u001b[34m[2020-07-29:02:00:30:INFO] Sniff delimiter as ','\u001b[0m\n",
      "\u001b[34m[2020-07-29:02:00:30:INFO] Determined delimiter of CSV input is ','\u001b[0m\n",
      "\u001b[34m[2020-07-29:02:00:31:INFO] Sniff delimiter as ','\u001b[0m\n",
      "\u001b[34m[2020-07-29:02:00:31:INFO] Determined delimiter of CSV input is ','\u001b[0m\n",
      "\u001b[34m[2020-07-29:02:00:31:INFO] Sniff delimiter as ','\u001b[0m\n",
      "\u001b[34m[2020-07-29:02:00:31:INFO] Determined delimiter of CSV input is ','\u001b[0m\n",
      "\u001b[34m[2020-07-29:02:00:31:INFO] Sniff delimiter as ','\u001b[0m\n",
      "\u001b[34m[2020-07-29:02:00:31:INFO] Determined delimiter of CSV input is ','\u001b[0m\n",
      "\u001b[35m[2020-07-29:02:00:30:INFO] Sniff delimiter as ','\u001b[0m\n",
      "\u001b[35m[2020-07-29:02:00:30:INFO] Determined delimiter of CSV input is ','\u001b[0m\n",
      "\u001b[35m[2020-07-29:02:00:31:INFO] Sniff delimiter as ','\u001b[0m\n",
      "\u001b[35m[2020-07-29:02:00:31:INFO] Determined delimiter of CSV input is ','\u001b[0m\n",
      "\u001b[35m[2020-07-29:02:00:31:INFO] Sniff delimiter as ','\u001b[0m\n",
      "\u001b[35m[2020-07-29:02:00:31:INFO] Determined delimiter of CSV input is ','\u001b[0m\n",
      "\u001b[35m[2020-07-29:02:00:31:INFO] Sniff delimiter as ','\u001b[0m\n",
      "\u001b[35m[2020-07-29:02:00:31:INFO] Determined delimiter of CSV input is ','\u001b[0m\n"
     ]
    },
    {
     "name": "stdout",
     "output_type": "stream",
     "text": [
      "\u001b[34m[2020-07-29:02:00:35:INFO] Sniff delimiter as ','\u001b[0m\n",
      "\u001b[34m[2020-07-29:02:00:35:INFO] Determined delimiter of CSV input is ','\u001b[0m\n",
      "\u001b[34m[2020-07-29:02:00:35:INFO] Sniff delimiter as ','\u001b[0m\n",
      "\u001b[34m[2020-07-29:02:00:35:INFO] Determined delimiter of CSV input is ','\u001b[0m\n",
      "\u001b[35m[2020-07-29:02:00:35:INFO] Sniff delimiter as ','\u001b[0m\n",
      "\u001b[35m[2020-07-29:02:00:35:INFO] Determined delimiter of CSV input is ','\u001b[0m\n",
      "\u001b[35m[2020-07-29:02:00:35:INFO] Sniff delimiter as ','\u001b[0m\n",
      "\u001b[35m[2020-07-29:02:00:35:INFO] Determined delimiter of CSV input is ','\u001b[0m\n"
     ]
    }
   ],
   "source": [
    "xgb_transformer.wait()"
   ]
  },
  {
   "cell_type": "code",
   "execution_count": 28,
   "metadata": {},
   "outputs": [
    {
     "name": "stdout",
     "output_type": "stream",
     "text": [
      "Filesystem      Size  Used Avail Use% Mounted on\r\n",
      "devtmpfs        2.0G   64K  2.0G   1% /dev\r\n",
      "tmpfs           2.0G     0  2.0G   0% /dev/shm\r\n",
      "/dev/xvda1      109G   80G   29G  74% /\r\n",
      "/dev/xvdf       4.9G  3.6G  1.1G  78% /home/ec2-user/SageMaker\r\n"
     ]
    }
   ],
   "source": [
    "!df -h"
   ]
  },
  {
   "cell_type": "markdown",
   "metadata": {},
   "source": [
    "Now the transform job has executed and the result, the estimated sentiment of each review, has been saved on S3. Since we would rather work on this file locally we can perform a bit of notebook magic to copy the file to the `data_dir`."
   ]
  },
  {
   "cell_type": "code",
   "execution_count": 29,
   "metadata": {},
   "outputs": [
    {
     "name": "stdout",
     "output_type": "stream",
     "text": [
      "Completed 256.0 KiB/369.2 KiB (4.0 MiB/s) with 1 file(s) remaining\r",
      "Completed 369.2 KiB/369.2 KiB (5.7 MiB/s) with 1 file(s) remaining\r",
      "download: s3://sagemaker-us-east-2-844360148025/xgboost-2020-07-29-01-56-35-660/test.csv.out to ../data/sentiment_web_app/test.csv.out\r\n"
     ]
    }
   ],
   "source": [
    "!aws s3 cp --recursive $xgb_transformer.output_path $data_dir"
   ]
  },
  {
   "cell_type": "markdown",
   "metadata": {},
   "source": [
    "The last step is now to read in the output from our model, convert the output to something a little more usable, in this case we want the sentiment to be either `1` (positive) or `0` (negative), and then compare to the ground truth labels."
   ]
  },
  {
   "cell_type": "code",
   "execution_count": 30,
   "metadata": {},
   "outputs": [],
   "source": [
    "predictions = pd.read_csv(os.path.join(data_dir, 'test.csv.out'), header=None)\n",
    "predictions = [round(num) for num in predictions.squeeze().values]"
   ]
  },
  {
   "cell_type": "code",
   "execution_count": 31,
   "metadata": {},
   "outputs": [
    {
     "data": {
      "text/plain": [
       "0.85616"
      ]
     },
     "execution_count": 31,
     "metadata": {},
     "output_type": "execute_result"
    }
   ],
   "source": [
    "from sklearn.metrics import accuracy_score\n",
    "accuracy_score(test_y, predictions)"
   ]
  },
  {
   "cell_type": "markdown",
   "metadata": {},
   "source": [
    "## Step 6: Deploying the model\n",
    "\n",
    "Once we construct and fit our model, SageMaker stores the resulting model artifacts and we can use those to deploy an endpoint (inference code). To see this, look in the SageMaker console and you should see that a model has been created along with a link to the S3 location where the model artifacts have been stored.\n",
    "\n",
    "Deploying an endpoint is a lot like training the model with a few important differences. The first is that a deployed model doesn't change the model artifacts, so as you send it various testing instances the model won't change. Another difference is that since we aren't performing a fixed computation, as we were in the training step or while performing a batch transform, the compute instance that gets started stays running until we tell it to stop. This is important to note as if we forget and leave it running we will be charged the entire time.\n",
    "\n",
    "In other words **If you are no longer using a deployed endpoint, shut it down!**"
   ]
  },
  {
   "cell_type": "code",
   "execution_count": 32,
   "metadata": {},
   "outputs": [
    {
     "name": "stderr",
     "output_type": "stream",
     "text": [
      "Parameter image will be renamed to image_uri in SageMaker Python SDK v2.\n",
      "Using already existing model: xgboost-2020-07-29-01-50-02-462\n"
     ]
    },
    {
     "name": "stdout",
     "output_type": "stream",
     "text": [
      "---------------!"
     ]
    }
   ],
   "source": [
    "xgb_predictor = xgb.deploy(initial_instance_count = 1, instance_type = 'ml.m4.xlarge')"
   ]
  },
  {
   "cell_type": "markdown",
   "metadata": {},
   "source": [
    "### Testing the model (again)\n",
    "\n",
    "Now that we have deployed our endpoint, we can send the testing data to it and get back the inference results. We already did this earlier using the batch transform functionality of SageMaker, however, we will test our model again using the newly deployed endpoint so that we can make sure that it works properly and to get a bit of a feel for how the endpoint works.\n",
    "\n",
    "When using the created endpoint it is important to know that we are limited in the amount of information we can send in each call so we need to break the testing data up into chunks and then send each chunk. Also, we need to serialize our data before we send it to the endpoint to ensure that our data is transmitted properly. Fortunately, SageMaker can do the serialization part for us provided we tell it the format of our data."
   ]
  },
  {
   "cell_type": "code",
   "execution_count": 33,
   "metadata": {},
   "outputs": [],
   "source": [
    "from sagemaker.predictor import csv_serializer\n",
    "\n",
    "# We need to tell the endpoint what format the data we are sending is in so that SageMaker can perform the serialization.\n",
    "xgb_predictor.content_type = 'text/csv'\n",
    "xgb_predictor.serializer = csv_serializer"
   ]
  },
  {
   "cell_type": "code",
   "execution_count": 34,
   "metadata": {},
   "outputs": [],
   "source": [
    "# We split the data into chunks and send each chunk seperately, accumulating the results.\n",
    "\n",
    "def predict(data, rows=512):\n",
    "    split_array = np.array_split(data, int(data.shape[0] / float(rows) + 1))\n",
    "    predictions = ''\n",
    "    for array in split_array:\n",
    "        predictions = ','.join([predictions, xgb_predictor.predict(array).decode('utf-8')])\n",
    "    \n",
    "    return np.fromstring(predictions[1:], sep=',')"
   ]
  },
  {
   "cell_type": "code",
   "execution_count": 35,
   "metadata": {},
   "outputs": [],
   "source": [
    "test_X = pd.read_csv(os.path.join(data_dir, 'test.csv'), header=None).values\n",
    "\n",
    "predictions = predict(test_X)\n",
    "predictions = [round(num) for num in predictions]"
   ]
  },
  {
   "cell_type": "markdown",
   "metadata": {},
   "source": [
    "Lastly, we check to see what the accuracy of our model is."
   ]
  },
  {
   "cell_type": "code",
   "execution_count": 36,
   "metadata": {},
   "outputs": [
    {
     "data": {
      "text/plain": [
       "0.85616"
      ]
     },
     "execution_count": 36,
     "metadata": {},
     "output_type": "execute_result"
    }
   ],
   "source": [
    "from sklearn.metrics import accuracy_score\n",
    "accuracy_score(test_y, predictions)"
   ]
  },
  {
   "cell_type": "markdown",
   "metadata": {},
   "source": [
    "And the results here should agree with the model testing that we did earlier using the batch transform job.\n",
    "\n",
    "### Cleaning up\n",
    "\n",
    "Now that we've determined that deploying our model works as expected, we are going to shut it down. Remember that the longer the endpoint is left running, the greater the cost and since we have a bit more work to do before we are able to use our endpoint with our simple web app, we should shut everything down."
   ]
  },
  {
   "cell_type": "code",
   "execution_count": 37,
   "metadata": {},
   "outputs": [],
   "source": [
    "xgb_predictor.delete_endpoint()"
   ]
  },
  {
   "cell_type": "markdown",
   "metadata": {},
   "source": [
    "## Step 7: Putting our model to work\n",
    "\n",
    "As we've mentioned a few times now, our goal is to have our model deployed and then access it using a very simple web app. The intent is for this web app to take some user submitted data (a review), send it off to our endpoint (the model) and then display the result.\n",
    "\n",
    "However, there is a small catch. Currently the only way we can access the endpoint to send it data is using the SageMaker API. We can, if we wish, expose the actual URL that our model's endpoint is receiving data from, however, if we just send it data ourselves we will not get anything in return. This is because the endpoint created by SageMaker requires the entity accessing it have the correct permissions. So, we would need to somehow authenticate our web app with AWS.\n",
    "\n",
    "Having a website that authenticates to AWS seems a bit beyond the scope of this lesson so we will opt for an alternative approach. Namely, we will create a new endpoint which does not require authentication and which acts as a proxy for the SageMaker endpoint.\n",
    "\n",
    "As an additional constraint, we will try to avoid doing any data processing in the web app itself. Remember that when we constructed and tested our model we started with a movie review, then we simplified it by removing any html formatting and punctuation, then we constructed a bag of words embedding and the resulting vector is what we sent to our model. All of this needs to be done to our user input as well.\n",
    "\n",
    "Fortunately we can do all of this data processing in the backend, using Amazon's Lambda service.\n",
    "\n",
    "<img src=\"Web App Diagram.svg\">\n",
    "\n",
    "The diagram above gives an overview of how the various services will work together. On the far right is the model which we trained above and which will be deployed using SageMaker. On the far left is our web app that collects a user's movie review, sends it off and expects a positive or negative sentiment in return.\n",
    "\n",
    "In the middle is where some of the magic happens. We will construct a Lambda function, which you can think of as a straightforward Python function that can be executed whenever a specified event occurs. This Python function will do the data processing we need to perform on a user submitted review. In addition, we will give this function permission to send and recieve data from a SageMaker endpoint.\n",
    "\n",
    "Lastly, the method we will use to execute the Lambda function is a new endpoint that we will create using API Gateway. This endpoint will be a url that listens for data to be sent to it. Once it gets some data it will pass that data on to the Lambda function and then return whatever the Lambda function returns. Essentially it will act as an interface that lets our web app communicate with the Lambda function.\n",
    "\n",
    "### Processing a single review\n",
    "\n",
    "For now, suppose we are given a movie review by our user in the form of a string, like so:"
   ]
  },
  {
   "cell_type": "code",
   "execution_count": 61,
   "metadata": {},
   "outputs": [],
   "source": [
    "test_review = \"Nothing but a disgusting materialistic pageant of glistening abed remote control greed zombies, totally devoid of any heart or heat. A romantic comedy that has zero romantic chemestry and zero laughs!\"\n",
    "\n",
    "test_review=\"fucking crap shit movie that no one would watch!\""
   ]
  },
  {
   "cell_type": "markdown",
   "metadata": {},
   "source": [
    "How do we go from this string to the bag of words feature vector that is expected by our model?\n",
    "\n",
    "If we recall at the beginning of this notebook, the first step is to remove any unnecessary characters using the `review_to_words` method. Remember that we intentionally did this in a very simplistic way. This is because we are going to have to copy this method to our (eventual) Lambda function (we will go into more detail later) and this means it needs to be rather simplistic."
   ]
  },
  {
   "cell_type": "code",
   "execution_count": 62,
   "metadata": {},
   "outputs": [
    {
     "name": "stdout",
     "output_type": "stream",
     "text": [
      "fucking crap shit movie that no one would watch\n"
     ]
    }
   ],
   "source": [
    "test_words = review_to_words(test_review)\n",
    "print(test_words)"
   ]
  },
  {
   "cell_type": "markdown",
   "metadata": {},
   "source": [
    "Next, we need to construct a bag of words embedding of the `test_words` string. To do this, remember that a bag of words embedding uses a `vocabulary` consisting of the most frequently appearing words in a set of documents. Then, for each word in the vocabulary we record the number of times that word appears in `test_words`. We constructed the `vocabulary` earlier using the training set for our problem so encoding `test_words` is relatively straightforward."
   ]
  },
  {
   "cell_type": "code",
   "execution_count": 54,
   "metadata": {},
   "outputs": [],
   "source": [
    "def bow_encoding(words, vocabulary):\n",
    "    bow = [0] * len(vocabulary) # Start by setting the count for each word in the vocabulary to zero.\n",
    "    for word in words.split():  # For each word in the string\n",
    "        if word in vocabulary:  # If the word is one that occurs in the vocabulary, increase its count.\n",
    "            bow[vocabulary[word]] += 1\n",
    "    return bow"
   ]
  },
  {
   "cell_type": "code",
   "execution_count": 63,
   "metadata": {},
   "outputs": [
    {
     "name": "stdout",
     "output_type": "stream",
     "text": [
      "[0, 0, 0, 0, 0, 0, 0, 0, 0, 0, 0, 0, 0, 0, 0, 0, 0, 0, 0, 0, 0, 0, 0, 0, 0, 0, 0, 0, 0, 0, 0, 0, 0, 0, 0, 0, 0, 0, 0, 0, 0, 0, 0, 0, 0, 0, 0, 0, 0, 0, 0, 0, 0, 0, 0, 0, 0, 0, 0, 0, 0, 0, 0, 0, 0, 0, 0, 0, 0, 0, 0, 0, 0, 0, 0, 0, 0, 0, 0, 0, 0, 0, 0, 0, 0, 0, 0, 0, 0, 0, 0, 0, 0, 0, 0, 0, 0, 0, 0, 0, 0, 0, 0, 0, 0, 0, 0, 0, 0, 0, 0, 0, 0, 0, 0, 0, 0, 0, 0, 0, 0, 0, 0, 0, 0, 0, 0, 0, 0, 0, 0, 0, 0, 0, 0, 0, 0, 0, 0, 0, 0, 0, 0, 0, 0, 0, 0, 0, 0, 0, 0, 0, 0, 0, 0, 0, 0, 0, 0, 0, 0, 0, 0, 0, 0, 0, 0, 0, 0, 0, 0, 0, 0, 0, 0, 0, 0, 0, 0, 0, 0, 0, 0, 0, 0, 0, 0, 0, 0, 0, 0, 0, 0, 0, 0, 0, 0, 0, 0, 0, 0, 0, 0, 0, 0, 0, 0, 0, 0, 0, 0, 0, 0, 0, 0, 0, 0, 0, 0, 0, 0, 0, 0, 0, 0, 0, 0, 0, 0, 0, 0, 0, 0, 0, 0, 0, 0, 0, 0, 0, 0, 0, 0, 0, 0, 0, 0, 0, 0, 0, 0, 0, 0, 0, 0, 0, 0, 0, 0, 0, 0, 0, 0, 0, 0, 0, 0, 0, 0, 0, 0, 0, 0, 0, 0, 0, 0, 0, 0, 0, 0, 0, 0, 0, 0, 0, 0, 0, 0, 0, 0, 0, 0, 0, 0, 0, 0, 0, 0, 0, 0, 0, 0, 0, 0, 0, 0, 0, 0, 0, 0, 0, 0, 0, 0, 0, 0, 0, 0, 0, 0, 0, 0, 0, 0, 0, 0, 0, 0, 0, 0, 0, 0, 0, 0, 0, 0, 0, 0, 0, 0, 0, 0, 0, 0, 0, 0, 0, 0, 0, 0, 0, 0, 0, 0, 0, 0, 0, 0, 0, 0, 0, 0, 0, 0, 0, 0, 0, 0, 0, 0, 0, 0, 0, 0, 0, 0, 0, 0, 0, 0, 0, 0, 0, 0, 0, 0, 0, 0, 0, 0, 0, 0, 0, 0, 0, 0, 0, 0, 0, 0, 0, 0, 0, 0, 0, 0, 0, 0, 0, 0, 0, 0, 0, 0, 0, 0, 0, 0, 0, 0, 0, 0, 0, 0, 0, 0, 0, 0, 0, 0, 0, 0, 0, 0, 0, 0, 0, 0, 0, 0, 0, 0, 0, 0, 0, 0, 0, 0, 0, 0, 0, 0, 0, 0, 0, 0, 0, 0, 0, 0, 0, 0, 0, 0, 0, 0, 0, 0, 0, 0, 0, 0, 0, 0, 0, 0, 0, 0, 0, 0, 0, 0, 0, 0, 0, 0, 0, 0, 0, 0, 0, 0, 0, 0, 0, 0, 0, 0, 0, 0, 0, 0, 0, 0, 0, 0, 0, 0, 0, 0, 0, 0, 0, 0, 0, 0, 0, 0, 0, 0, 0, 0, 0, 0, 0, 0, 0, 0, 0, 0, 0, 0, 0, 0, 0, 0, 0, 0, 0, 0, 0, 0, 0, 0, 0, 0, 0, 0, 0, 0, 0, 0, 0, 0, 0, 0, 0, 0, 0, 0, 0, 0, 0, 0, 0, 0, 0, 0, 0, 0, 0, 0, 0, 0, 0, 0, 0, 0, 0, 0, 0, 0, 0, 0, 0, 0, 0, 0, 0, 0, 0, 0, 0, 0, 0, 0, 0, 0, 0, 0, 0, 0, 0, 0, 0, 0, 0, 0, 0, 0, 0, 0, 0, 0, 0, 0, 0, 0, 0, 0, 0, 0, 0, 0, 0, 0, 0, 0, 0, 0, 0, 0, 0, 0, 0, 0, 0, 0, 0, 0, 0, 0, 0, 0, 0, 0, 0, 0, 0, 0, 0, 0, 0, 0, 0, 0, 0, 0, 0, 0, 0, 0, 0, 0, 0, 0, 0, 0, 0, 0, 0, 0, 0, 0, 0, 0, 0, 0, 0, 0, 0, 0, 0, 0, 0, 0, 0, 0, 0, 0, 0, 0, 0, 0, 0, 0, 0, 0, 0, 0, 0, 0, 0, 0, 0, 0, 0, 0, 0, 0, 0, 0, 0, 0, 0, 0, 0, 0, 0, 0, 0, 0, 0, 0, 0, 0, 0, 0, 0, 0, 0, 0, 0, 0, 0, 0, 0, 0, 0, 0, 0, 0, 0, 0, 0, 0, 0, 0, 0, 0, 0, 0, 0, 0, 0, 0, 0, 0, 0, 0, 0, 0, 0, 0, 0, 0, 0, 0, 0, 0, 0, 0, 0, 0, 0, 0, 0, 0, 0, 0, 0, 0, 0, 0, 0, 0, 0, 0, 0, 0, 0, 0, 0, 0, 0, 0, 0, 0, 0, 0, 0, 0, 0, 0, 0, 0, 0, 0, 0, 0, 0, 0, 0, 0, 0, 0, 0, 0, 0, 0, 0, 0, 0, 0, 0, 0, 0, 0, 0, 0, 0, 0, 0, 0, 0, 0, 0, 0, 0, 0, 0, 0, 0, 0, 0, 0, 0, 0, 0, 0, 0, 0, 0, 0, 0, 0, 0, 0, 0, 0, 0, 0, 0, 0, 0, 0, 0, 0, 0, 0, 0, 0, 0, 0, 0, 0, 0, 0, 0, 0, 0, 0, 0, 0, 0, 0, 0, 0, 0, 0, 0, 0, 0, 0, 0, 0, 0, 0, 0, 0, 0, 0, 0, 0, 0, 0, 0, 0, 0, 0, 0, 0, 0, 0, 0, 0, 0, 0, 0, 0, 0, 0, 0, 0, 0, 0, 0, 0, 0, 0, 0, 0, 0, 0, 0, 0, 0, 0, 0, 0, 0, 0, 0, 0, 0, 0, 0, 0, 0, 0, 0, 0, 0, 0, 0, 0, 0, 0, 0, 0, 0, 0, 0, 0, 0, 0, 0, 0, 0, 0, 0, 0, 0, 0, 0, 0, 0, 0, 0, 0, 0, 0, 0, 0, 0, 0, 0, 0, 0, 0, 0, 0, 0, 0, 0, 0, 0, 0, 0, 0, 0, 0, 0, 0, 0, 0, 0, 0, 0, 0, 0, 0, 0, 0, 0, 0, 0, 0, 0, 0, 0, 0, 0, 0, 0, 0, 0, 0, 0, 0, 1, 0, 0, 0, 0, 0, 0, 0, 0, 0, 0, 0, 0, 0, 0, 0, 0, 0, 0, 0, 0, 0, 0, 0, 0, 0, 0, 0, 0, 0, 0, 0, 0, 0, 0, 0, 0, 0, 0, 0, 0, 0, 0, 0, 0, 0, 0, 0, 0, 0, 0, 0, 0, 0, 0, 0, 0, 0, 0, 0, 0, 0, 0, 0, 0, 0, 0, 0, 0, 0, 0, 0, 0, 0, 0, 0, 0, 0, 0, 0, 0, 0, 0, 0, 0, 0, 0, 0, 0, 0, 0, 0, 0, 0, 0, 0, 0, 0, 0, 0, 0, 0, 0, 0, 0, 0, 0, 0, 0, 0, 0, 0, 0, 0, 0, 0, 0, 0, 0, 0, 0, 0, 0, 0, 0, 0, 0, 0, 0, 0, 0, 0, 0, 0, 0, 0, 0, 0, 0, 0, 0, 0, 0, 0, 0, 0, 0, 0, 0, 0, 0, 0, 0, 0, 0, 0, 0, 0, 0, 0, 0, 0, 0, 0, 0, 0, 0, 0, 0, 0, 0, 0, 0, 0, 0, 0, 0, 0, 0, 0, 0, 0, 0, 0, 0, 0, 0, 0, 0, 0, 0, 0, 0, 0, 0, 0, 0, 0, 0, 0, 0, 0, 0, 0, 0, 0, 0, 0, 0, 0, 0, 0, 0, 0, 0, 0, 0, 0, 0, 0, 0, 0, 0, 0, 0, 0, 0, 0, 0, 0, 0, 0, 0, 0, 0, 0, 0, 0, 0, 0, 0, 0, 0, 0, 0, 0, 0, 0, 0, 0, 0, 0, 0, 0, 0, 0, 0, 0, 0, 0, 0, 0, 0, 0, 0, 0, 0, 0, 0, 0, 0, 0, 0, 0, 0, 0, 0, 0, 0, 0, 0, 0, 0, 0, 0, 0, 0, 0, 0, 0, 0, 0, 0, 0, 0, 0, 0, 0, 0, 0, 0, 0, 0, 0, 0, 0, 0, 0, 0, 0, 0, 0, 0, 0, 0, 0, 0, 0, 0, 0, 0, 0, 0, 0, 0, 0, 0, 0, 0, 0, 0, 0, 0, 0, 0, 0, 0, 0, 0, 0, 0, 0, 0, 0, 0, 0, 0, 0, 0, 0, 0, 0, 0, 0, 0, 0, 0, 0, 0, 0, 0, 0, 0, 0, 0, 0, 0, 0, 0, 0, 0, 0, 0, 0, 0, 0, 0, 0, 0, 0, 0, 0, 0, 0, 0, 0, 0, 0, 0, 0, 0, 0, 0, 0, 0, 0, 0, 0, 0, 0, 0, 0, 0, 0, 0, 0, 0, 0, 0, 0, 0, 0, 0, 0, 0, 0, 0, 0, 0, 0, 0, 0, 0, 0, 0, 0, 0, 0, 0, 0, 0, 0, 0, 0, 0, 0, 0, 0, 0, 0, 0, 0, 0, 0, 0, 0, 0, 0, 0, 0, 0, 0, 0, 0, 0, 0, 0, 0, 0, 0, 0, 0, 0, 0, 0, 0, 0, 0, 0, 0, 0, 0, 0, 0, 0, 0, 0, 0, 0, 0, 0, 0, 0, 0, 0, 0, 0, 0, 0, 0, 0, 0, 0, 0, 0, 0, 0, 0, 0, 0, 0, 0, 0, 0, 0, 0, 0, 0, 0, 0, 0, 0, 0, 0, 0, 0, 0, 0, 0, 0, 0, 0, 0, 0, 0, 0, 0, 0, 0, 0, 0, 0, 0, 0, 0, 0, 0, 0, 0, 0, 0, 0, 0, 0, 0, 0, 0, 0, 0, 0, 0, 0, 0, 0, 0, 0, 0, 0, 0, 0, 0, 0, 0, 0, 0, 0, 0, 0, 0, 0, 0, 0, 0, 0, 0, 0, 0, 0, 0, 0, 0, 0, 0, 0, 0, 0, 0, 0, 0, 0, 0, 0, 0, 0, 0, 0, 0, 0, 0, 0, 0, 0, 0, 0, 0, 0, 0, 0, 0, 0, 0, 0, 0, 0, 0, 0, 0, 0, 0, 0, 0, 0, 0, 0, 0, 0, 0, 0, 0, 0, 0, 0, 0, 0, 0, 0, 0, 0, 0, 0, 0, 0, 0, 0, 0, 0, 0, 0, 0, 0, 0, 0, 0, 0, 0, 0, 0, 0, 0, 0, 0, 0, 0, 0, 0, 0, 0, 0, 0, 0, 0, 0, 0, 0, 0, 0, 0, 0, 0, 0, 0, 0, 0, 0, 0, 0, 0, 0, 0, 0, 0, 0, 0, 0, 0, 0, 0, 0, 0, 0, 0, 0, 0, 0, 0, 0, 0, 0, 0, 0, 0, 0, 0, 0, 0, 0, 0, 0, 0, 0, 0, 0, 0, 0, 0, 0, 0, 0, 0, 0, 0, 0, 0, 0, 0, 0, 0, 0, 0, 0, 0, 0, 0, 0, 0, 0, 0, 0, 0, 0, 0, 0, 0, 0, 0, 0, 0, 0, 0, 0, 0, 0, 0, 0, 0, 0, 0, 0, 0, 0, 0, 0, 0, 0, 0, 0, 0, 0, 0, 0, 0, 0, 0, 0, 0, 0, 0, 0, 0, 0, 0, 0, 0, 0, 0, 0, 0, 0, 0, 0, 0, 0, 0, 0, 0, 0, 0, 0, 0, 0, 0, 0, 0, 0, 0, 0, 0, 0, 0, 0, 0, 0, 0, 0, 0, 0, 0, 0, 0, 0, 0, 0, 0, 0, 0, 0, 0, 0, 0, 0, 0, 0, 0, 0, 0, 0, 0, 0, 0, 0, 0, 0, 0, 0, 0, 0, 0, 0, 0, 0, 0, 0, 0, 0, 0, 0, 0, 0, 0, 0, 0, 0, 0, 0, 0, 0, 0, 0, 0, 0, 0, 0, 0, 0, 0, 0, 0, 0, 0, 0, 0, 0, 0, 0, 0, 0, 0, 0, 0, 0, 0, 0, 0, 0, 0, 0, 0, 0, 0, 0, 0, 0, 0, 0, 0, 0, 0, 0, 0, 0, 0, 0, 0, 0, 0, 0, 0, 0, 0, 0, 0, 0, 0, 0, 0, 0, 0, 0, 0, 0, 0, 0, 0, 0, 0, 0, 0, 0, 0, 0, 0, 0, 0, 0, 0, 0, 0, 0, 0, 0, 0, 0, 0, 0, 0, 0, 0, 0, 0, 0, 0, 0, 0, 0, 0, 0, 0, 0, 0, 0, 0, 0, 0, 0, 0, 0, 0, 0, 0, 0, 0, 0, 0, 0, 0, 0, 0, 0, 0, 0, 0, 0, 0, 0, 0, 0, 0, 0, 0, 0, 0, 0, 0, 0, 0, 0, 0, 0, 0, 0, 0, 0, 0, 0, 0, 0, 0, 0, 0, 0, 0, 0, 0, 0, 0, 0, 0, 0, 0, 0, 0, 0, 0, 0, 0, 0, 0, 0, 0, 0, 0, 0, 0, 0, 0, 0, 0, 0, 0, 0, 0, 0, 0, 0, 0, 0, 0, 0, 0, 0, 0, 0, 0, 0, 0, 0, 0, 0, 0, 0, 0, 0, 0, 0, 0, 0, 0, 0, 0, 0, 0, 0, 0, 0, 0, 0, 0, 0, 0, 0, 0, 0, 0, 0, 0, 0, 0, 0, 0, 0, 0, 0, 0, 0, 0, 0, 0, 0, 0, 0, 0, 0, 0, 0, 0, 0, 0, 0, 0, 0, 0, 0, 0, 0, 0, 0, 0, 0, 0, 0, 0, 0, 0, 0, 0, 0, 0, 0, 0, 0, 0, 0, 0, 0, 0, 0, 0, 0, 0, 0, 0, 0, 0, 0, 0, 0, 0, 0, 0, 0, 0, 0, 0, 0, 0, 0, 0, 0, 0, 0, 0, 0, 0, 0, 0, 0, 0, 0, 0, 0, 0, 0, 0, 0, 0, 0, 0, 0, 0, 0, 0, 0, 0, 0, 0, 0, 0, 0, 0, 0, 0, 0, 0, 0, 0, 0, 0, 0, 0, 0, 0, 0, 0, 0, 0, 0, 0, 0, 0, 0, 0, 0, 0, 0, 0, 0, 0, 0, 0, 0, 0, 0, 0, 0, 0, 0, 0, 0, 0, 0, 0, 0, 0, 0, 0, 0, 0, 0, 0, 0, 0, 0, 0, 0, 0, 0, 0, 0, 0, 0, 0, 0, 0, 0, 0, 0, 0, 0, 0, 0, 0, 0, 0, 0, 0, 0, 0, 0, 0, 0, 0, 0, 0, 0, 0, 0, 0, 0, 0, 0, 0, 0, 0, 0, 0, 0, 0, 0, 0, 0, 0, 0, 0, 0, 0, 0, 0, 0, 0, 0, 0, 0, 0, 0, 0, 0, 0, 0, 0, 0, 0, 0, 0, 0, 0, 0, 0, 0, 0, 0, 0, 0, 0, 0, 0, 0, 0, 0, 0, 0, 0, 0, 0, 0, 0, 0, 0, 0, 0, 0, 0, 0, 0, 0, 0, 0, 0, 0, 0, 0, 0, 0, 0, 0, 0, 0, 0, 0, 0, 0, 0, 0, 0, 0, 0, 0, 0, 0, 0, 0, 0, 0, 0, 0, 0, 0, 0, 0, 0, 0, 0, 0, 0, 0, 0, 0, 0, 0, 0, 0, 0, 0, 0, 0, 0, 0, 0, 0, 0, 0, 0, 0, 0, 0, 0, 0, 0, 0, 0, 0, 0, 0, 0, 0, 0, 0, 0, 0, 0, 0, 0, 0, 0, 0, 0, 0, 0, 0, 0, 0, 0, 0, 0, 0, 0, 0, 0, 0, 0, 0, 0, 0, 0, 0, 0, 0, 0, 0, 0, 0, 0, 0, 0, 0, 0, 0, 0, 0, 0, 0, 0, 0, 0, 0, 0, 0, 0, 0, 0, 0, 0, 0, 0, 0, 0, 0, 0, 0, 0, 0, 0, 0, 0, 0, 0, 0, 0, 0, 0, 0, 0, 0, 0, 0, 0, 0, 0, 0, 0, 0, 0, 0, 0, 0, 0, 0, 0, 0, 0, 0, 0, 0, 0, 0, 0, 0, 0, 0, 0, 0, 0, 0, 0, 0, 0, 0, 0, 0, 0, 0, 0, 0, 0, 0, 0, 0, 0, 0, 0, 0, 0, 0, 0, 0, 0, 0, 0, 0, 0, 0, 0, 0, 0, 0, 0, 0, 0, 0, 0, 0, 0, 0, 0, 0, 0, 0, 0, 0, 0, 0, 0, 0, 0, 0, 0, 0, 0, 0, 0, 0, 0, 0, 0, 0, 0, 0, 0, 0, 0, 0, 0, 0, 0, 0, 0, 0, 0, 0, 0, 0, 0, 0, 0, 0, 0, 0, 0, 0, 0, 0, 0, 0, 0, 0, 0, 0, 0, 0, 0, 0, 0, 0, 0, 0, 0, 0, 0, 0, 0, 0, 0, 0, 0, 0, 0, 0, 0, 0, 0, 0, 0, 0, 0, 0, 0, 0, 0, 0, 0, 0, 0, 0, 0, 0, 0, 0, 0, 0, 0, 0, 0, 0, 0, 0, 0, 0, 0, 0, 0, 0, 0, 0, 0, 0, 0, 0, 0, 0, 0, 0, 0, 0, 0, 0, 0, 0, 0, 0, 0, 0, 0, 0, 0, 0, 0, 0, 0, 0, 0, 0, 0, 0, 0, 0, 0, 0, 0, 0, 0, 0, 0, 0, 0, 0, 0, 0, 0, 0, 0, 0, 0, 0, 0, 0, 0, 0, 0, 0, 0, 0, 0, 0, 0, 0, 0, 0, 0, 0, 0, 0, 0, 0, 0, 0, 0, 0, 0, 0, 0, 0, 0, 0, 0, 0, 0, 0, 0, 0, 0, 0, 0, 0, 0, 0, 0, 0, 0, 0, 0, 0, 0, 0, 0, 0, 0, 0, 0, 0, 0, 0, 0, 0, 0, 0, 0, 0, 0, 0, 0, 0, 0, 0, 0, 0, 0, 0, 0, 0, 0, 0, 0, 0, 0, 0, 0, 0, 0, 0, 0, 0, 0, 0, 0, 0, 0, 0, 0, 0, 0, 0, 0, 0, 0, 0, 0, 0, 0, 0, 0, 0, 0, 0, 0, 0, 0, 0, 0, 0, 0, 0, 0, 0, 0, 0, 0, 0, 0, 0, 0, 0, 0, 0, 0, 0, 0, 0, 0, 0, 0, 0, 0, 0, 0, 0, 0, 0, 0, 0, 0, 0, 0, 0, 0, 0, 0, 1, 0, 0, 0, 0, 0, 0, 0, 0, 0, 0, 0, 0, 0, 0, 0, 0, 0, 0, 0, 0, 0, 0, 0, 0, 0, 0, 0, 0, 0, 0, 0, 0, 0, 0, 0, 0, 0, 0, 0, 0, 0, 0, 0, 0, 0, 0, 0, 0, 0, 0, 0, 0, 0, 0, 0, 0, 0, 0, 0, 0, 0, 0, 0, 0, 0, 0, 0, 0, 0, 0, 0, 0, 0, 0, 0, 0, 0, 0, 0, 0, 0, 0, 0, 0, 0, 0, 0, 0, 0, 0, 0, 0, 0, 1, 0, 0, 0, 0, 0, 0, 0, 0, 0, 0, 0, 0, 0, 0, 0, 0, 0, 0, 0, 0, 0, 0, 0, 0, 0, 0, 0, 0, 0, 0, 0, 0, 0, 0, 0, 0, 0, 0, 0, 0, 0, 0, 0, 0, 0, 0, 0, 0, 0, 0, 0, 0, 0, 0, 0, 0, 0, 0, 0, 0, 0, 0, 0, 0, 0, 0, 0, 0, 0, 0, 0, 0, 0, 0, 0, 0, 0, 0, 0, 0, 0, 0, 0, 0, 0, 0, 1, 0, 0, 0, 0, 0, 0, 0, 0, 0, 0, 0, 0, 0, 0, 0, 0, 0, 0, 0, 0, 0, 0, 0, 0, 0, 0, 0, 0, 0, 0, 0, 0, 0, 0, 0, 0, 0, 0, 0, 0, 0, 0, 0, 0, 0, 0, 0, 0, 0, 0, 0, 0, 0, 0, 0, 0, 0, 0, 0, 0, 0, 0, 0, 0, 0, 0, 0, 0, 0, 0, 0, 0, 0, 0, 0, 0, 0, 0, 0, 0, 0, 0, 0, 0, 0, 0, 0, 0, 0, 0, 0, 0, 0, 0, 0, 0, 0, 0, 0, 0, 0, 0, 0, 0, 0, 0, 0, 0, 0, 0, 0, 0, 0, 0, 0, 0, 0, 0, 0, 0, 0, 0, 0, 0, 0, 0, 0, 0, 0, 0, 0, 0, 0, 0, 0, 0, 0, 0, 0, 0, 0, 0, 0, 0, 0, 0, 0, 0, 0, 0, 0, 0, 0, 0, 0, 0, 0, 0, 0, 0, 0, 0, 0, 0, 0, 0, 0, 0, 0, 0, 0, 0, 0, 0, 0, 0, 0, 0, 0, 0, 0, 0, 0, 0, 0, 0, 0, 0, 0, 0, 0, 0, 0, 0, 0, 0, 0, 0, 0, 0, 0, 0, 0, 0, 0, 0, 0, 0, 0, 0, 0, 0, 0, 0, 0, 0, 0, 0, 0, 0, 0, 0, 0, 0, 0, 0, 0, 0, 0, 0, 0, 0, 0, 0, 0, 0, 0, 0, 0, 0, 0, 0, 0, 0, 0, 0, 0, 0, 0, 0, 0, 0, 0, 0, 0, 0, 0, 0, 0, 0, 0, 0, 0, 0, 0, 0, 0, 0, 0, 0, 0, 0, 0, 0, 0, 0, 0, 0, 0, 0, 0, 0, 0, 0, 0, 0, 0, 0, 0, 0, 0, 0, 0, 0, 0, 0, 0, 0, 0, 0, 0, 0, 0, 0, 0, 0, 0, 0, 0, 0, 0, 0, 0, 0, 0, 0, 0, 0, 0, 0, 0, 0, 0, 0, 0, 0, 0, 0, 0, 0, 0, 0, 0, 0, 0, 0, 0, 0, 0, 0, 0, 0, 0, 0, 0, 0, 0, 0, 0, 0, 0, 0, 0, 0, 0, 0, 0, 0, 0, 0, 0, 0, 0, 0, 0, 0, 0, 0, 0, 0, 0, 0, 0, 0, 0, 0, 0, 0, 0, 0, 0, 0, 0, 0, 0, 0, 0, 0, 0, 0, 0, 0, 0, 0, 0, 0, 0, 0, 0, 0, 0, 0, 0, 0, 0, 0, 0, 0, 0, 0, 0, 0, 0, 0, 0, 0, 0, 0, 0, 0, 0, 0, 0, 0, 0, 0, 0, 0, 0, 0, 0, 0, 0, 0, 0, 0, 0, 0, 0, 0, 0, 0, 0, 0, 0, 0, 0, 0, 0, 0, 0, 0, 0, 0, 0, 0, 0, 0, 0, 0, 0, 0, 0, 0, 0, 0, 0, 0, 0, 0, 0, 0, 0, 0, 0, 0, 0, 0, 0, 0, 0, 0, 0, 0, 0, 0, 0, 0, 0, 0, 0, 0, 0, 0, 0, 0, 0, 0, 0, 0, 0, 0, 0, 0, 0, 0, 0, 0, 0, 0, 0, 0, 0, 0, 0, 0, 0, 0, 0, 0, 0, 0, 0, 0, 0, 0, 0, 0, 0, 0, 0, 0, 0, 0, 0, 0, 0, 0, 0, 0, 0, 0, 0, 0, 0, 0, 0, 0, 0, 0, 0, 0, 0, 0, 0, 0, 0, 0, 0, 0, 0, 0, 0, 0, 0, 0, 0, 0, 0, 0, 0, 0, 0, 0, 0, 0, 0, 0, 0, 0, 0, 0, 0, 0, 0, 0, 0, 0, 0, 0, 0, 0, 0, 0, 0, 0, 0, 0, 0, 0, 0, 0, 0, 0, 0, 0, 0, 0, 0, 0, 0, 0, 0, 0, 0, 0, 0, 0, 0, 0, 0, 0, 0, 0, 0, 0, 0, 0, 0, 0, 0, 0, 0, 0, 0, 0, 0, 0, 0, 0, 0, 0, 0, 0, 0, 0, 0, 0, 0, 0, 0, 0, 0, 0, 0, 0, 0, 0, 0, 0, 0, 0, 0, 0, 0, 0, 0, 0, 0, 0, 0, 0, 0, 0, 0, 0, 0, 0, 0, 0, 0, 0, 0, 0, 0, 0, 0, 0, 0, 0, 0, 0, 0, 0, 0, 0, 0, 0, 0, 0, 0, 0, 0, 0, 0, 0, 0, 0, 0, 0, 0, 0, 0, 0, 0, 0, 0, 0, 0, 0, 0, 0, 0, 0, 0, 0, 0, 0, 0, 0, 0, 0, 0, 0, 0, 0, 0, 0, 0, 0, 0, 0, 0, 0, 0, 0, 0, 0, 0, 0, 0, 0, 0, 0, 0, 0, 0, 0, 0, 0, 0, 0, 0, 0, 0, 0, 0, 0, 0, 0, 0, 0, 0, 0, 0, 0, 0, 0, 0, 0, 0, 0, 0, 0, 0, 0, 0, 0, 0, 0, 0, 0, 0, 0, 0, 0, 0, 0, 0, 0, 0, 0, 0, 0, 0, 0, 0, 0, 0, 0, 0, 0, 0, 0, 0, 0, 0, 0, 0, 0, 0, 0, 0, 0, 0, 0, 0, 0, 0, 0, 0, 0, 0, 0, 0, 0, 0, 0, 0, 0, 0, 0, 0, 0, 0, 0, 0, 0, 0, 0, 0, 0, 0, 0, 0, 0, 0, 0, 0, 0, 0, 0, 0, 0, 0, 0, 0, 0, 0, 0, 0, 0, 0, 0, 0, 0, 0, 0, 0, 0, 0, 0, 0, 0, 0, 0, 0, 0, 0, 0, 0, 0, 0, 0, 0, 0, 0, 0, 0, 0, 0, 0, 0, 0, 0, 0, 0, 0, 0, 0, 0, 0, 0, 0, 0, 0, 0, 0, 0, 0, 0, 0, 0, 0, 0, 0, 0, 0, 0, 0, 0, 0, 0, 0, 0, 0, 0, 0, 0, 0, 0, 0, 0, 0, 0, 0, 0, 0, 0, 0, 0, 0, 0, 0, 0, 0, 0, 0, 0, 0, 0, 0, 0, 0, 0, 0, 0, 0, 0, 0, 0, 0, 0, 0, 0, 0, 0, 0, 0, 0, 0, 0, 0, 0, 0, 0, 0, 0, 0, 0, 0, 0, 0, 0, 0, 0, 0, 0, 0, 0, 0, 0, 0, 0, 0, 0, 0, 0, 0, 0, 0, 0, 0, 0, 0, 0, 0, 0, 0, 0, 0, 0, 0, 0, 0, 0, 0, 0, 0, 0, 0, 0, 0, 0, 0, 0, 0, 0, 0, 0, 0, 0, 0, 0, 0, 0, 0, 0, 0, 0, 0, 0, 0, 0, 0, 0, 0, 0, 0, 0, 0, 0, 0, 0, 0, 0, 0, 0, 0, 0, 0, 0, 0, 0, 0, 0, 0, 0, 0, 0, 0, 0, 0, 0, 0, 0, 0, 0, 0, 0, 0, 0, 0, 0, 0, 0, 0, 0, 0, 0, 0, 0, 0, 0, 0, 0, 0, 0, 0, 0, 0, 0, 0, 0, 0, 0, 0, 0, 0, 0, 0, 0, 0, 0, 0, 0, 0, 0, 0, 0, 0, 0, 0, 0, 0, 0, 0, 0, 0, 0, 0, 0, 0, 0, 0, 0, 0, 0, 0, 0, 0, 0, 0, 0, 0, 0, 0, 0, 0, 0, 0, 0, 0, 0, 0, 0, 0, 0, 0, 0, 0, 0, 0, 0, 0, 0, 0, 0, 0, 0, 0, 0, 0, 0, 0, 0, 0, 0, 0, 0, 0, 0, 0, 0, 0, 0, 0, 0, 0, 0, 0, 0, 0, 0, 0, 0, 0, 0, 0, 0, 0, 0, 0, 0, 0, 0, 0, 0, 0, 0, 0, 0, 0, 0, 0, 0, 0, 0, 0, 0, 0, 0, 0, 0, 0, 0, 0, 0, 0, 0, 0, 0, 0, 0, 0, 0, 0, 0, 0, 0, 0, 0, 0, 0, 0, 0, 0, 0, 0, 0, 0, 0, 0, 0, 0, 0, 0, 0, 0, 0, 0, 0, 0, 0, 0, 0, 0, 0, 0, 0, 0, 0, 0, 0, 0, 0, 0, 0, 0, 0, 0, 0, 0, 0, 0, 0, 0, 0, 0, 0, 0, 0, 0, 0, 0, 0, 0, 0, 0, 0, 0, 0, 0, 0, 0, 0, 1, 0, 0, 0, 0, 0, 0, 0, 0, 0, 0, 0, 0, 0, 0, 0, 0, 0, 0, 0, 0, 0, 0, 0, 0, 0, 0, 0, 0, 0, 0, 0, 0, 0, 0, 0, 0, 0, 0, 0, 0, 0, 0, 0, 0, 0, 0, 0, 0, 0, 0, 0, 0, 0, 0, 0, 0, 0, 0, 0, 0, 0, 0, 0, 0, 0, 0, 0, 0, 0, 0, 0, 0, 0, 0, 0, 0, 0, 0, 0, 0, 0, 0, 0, 0, 0, 0, 0, 0, 0, 0, 0, 0, 0, 0, 0, 0, 0, 0, 0, 0, 0, 0, 0, 0, 0, 0, 0, 0, 0, 0, 0, 0, 0, 0, 0, 0, 0, 0, 0, 0, 0, 0, 0, 0, 0, 0, 0, 0, 0, 0, 0, 0, 0, 0, 0, 0, 0, 0, 0, 0, 0, 0, 0, 0, 0, 0, 0, 0, 0, 0, 0, 0, 0, 0, 0, 0, 0, 0, 0, 0, 0, 0, 0, 0, 0, 0, 0, 0, 0, 0, 0, 0, 0, 0, 0, 0, 0, 0, 0, 0, 0, 0, 0, 0, 0, 0, 0, 0, 0, 0, 0, 0, 0, 0, 0, 0, 0, 0, 0, 0, 0, 0, 0, 0, 0, 0, 0, 0, 0, 0, 0, 0, 0, 0, 0, 0, 0, 0, 0, 0, 0, 0, 0, 0, 0, 0, 0, 0, 0, 0, 0, 0, 0, 0, 0, 0, 0, 0, 0, 0, 0, 0, 0, 0, 0, 0, 0, 0, 0, 0, 0, 0, 0, 0, 0, 0, 0, 0, 0, 0, 0, 0, 0, 0, 0, 0, 0, 0, 0, 0, 0, 0, 0, 0, 0, 0, 0, 0, 0, 0, 0, 0, 0, 0, 0, 0, 0, 0, 0, 0, 0, 0, 0, 0, 0, 0, 0, 0, 0, 0, 0, 0, 0, 0, 0, 0, 0, 0, 0, 0, 0, 0, 0, 0, 0, 0, 0, 0, 0, 0, 0, 0, 0, 0, 0, 0, 0, 0, 0, 0, 0, 0, 0, 0, 0, 0, 0, 0, 0, 0, 0, 0, 0, 0, 0, 0, 0, 0, 0, 0, 0, 0, 0, 0, 0, 0, 0, 0, 0, 0, 0, 0, 0, 0, 0, 0, 0, 0, 0, 0, 0, 0, 0, 0, 0, 0, 0, 0, 0, 0, 0, 0, 0, 0, 0, 0, 1, 0, 0, 0, 0, 0, 0, 0, 0, 0, 0, 0, 0, 0, 0, 0, 0, 0, 0, 0, 0, 0, 0, 0, 0, 0, 0, 0, 0, 0, 0, 0, 0, 0, 0, 0, 0, 0, 0, 0, 0, 0, 0, 0, 0, 0, 0, 0, 0, 0, 0, 0, 0, 0, 0, 0, 0, 0, 0, 0, 0, 0, 0, 0, 0, 0, 0, 0, 0, 0, 0, 0, 0, 0, 0, 0, 0, 0, 0, 0, 0, 0, 0, 0, 0, 0, 0, 0, 0, 0, 0, 0, 0, 0, 0, 0, 0, 0, 0, 0, 0, 0, 0, 0, 0, 0, 0, 0, 0, 0, 0, 0, 0, 0, 0, 0, 0, 0, 0, 0, 0, 0, 0, 0, 0, 0, 0, 0, 0, 0, 0, 0, 0, 0, 0, 0, 0, 0, 0, 0, 0, 0, 0, 0, 0, 0, 1, 0, 0, 0, 0, 0, 0, 0, 0, 0, 0, 0, 0, 0, 0, 0, 0, 0, 0, 0, 0, 0, 0, 0, 0, 0, 0, 0, 0, 0, 0, 0, 0, 0, 0, 0, 0, 0, 0, 0, 0, 0, 0]\n"
     ]
    }
   ],
   "source": [
    "test_bow = bow_encoding(test_words, vocabulary)\n",
    "print(test_bow)"
   ]
  },
  {
   "cell_type": "code",
   "execution_count": 57,
   "metadata": {},
   "outputs": [
    {
     "data": {
      "text/plain": [
       "5000"
      ]
     },
     "execution_count": 57,
     "metadata": {},
     "output_type": "execute_result"
    }
   ],
   "source": [
    "len(test_bow)"
   ]
  },
  {
   "cell_type": "markdown",
   "metadata": {},
   "source": [
    "So now we know how to construct a bag of words encoding of a user provided review, how to we send it to our endpoint? First, we need to start the endpoint back up."
   ]
  },
  {
   "cell_type": "code",
   "execution_count": 43,
   "metadata": {},
   "outputs": [
    {
     "name": "stderr",
     "output_type": "stream",
     "text": [
      "Parameter image will be renamed to image_uri in SageMaker Python SDK v2.\n",
      "Using already existing model: xgboost-2020-07-29-01-50-02-462\n"
     ]
    },
    {
     "name": "stdout",
     "output_type": "stream",
     "text": [
      "---------------!"
     ]
    }
   ],
   "source": [
    "xgb_predictor = xgb.deploy(initial_instance_count = 1, instance_type = 'ml.m4.xlarge')"
   ]
  },
  {
   "cell_type": "markdown",
   "metadata": {},
   "source": [
    "At this point we could just do the same thing that we did earlier when we tested our deployed model and send `test_bow` to our endpoint using the `xgb_predictor` object. However, when we eventually construct our Lambda function we won't have access to this object, so how do we call a SageMaker endpoint?\n",
    "\n",
    "It turns out that Python functions that are used in Lambda have access to another Amazon library called `boto3`. This library provides an API for working with Amazon services, including SageMaker. To start with, we need to get a handle to the SageMaker runtime."
   ]
  },
  {
   "cell_type": "code",
   "execution_count": 44,
   "metadata": {},
   "outputs": [],
   "source": [
    "import boto3\n",
    "\n",
    "runtime = boto3.Session().client('sagemaker-runtime')"
   ]
  },
  {
   "cell_type": "markdown",
   "metadata": {},
   "source": [
    "And now that we have access to the SageMaker runtime, we can ask it to make use of (invoke) an endpoint that has already been created. However, we need to provide SageMaker with the name of the deployed endpoint. To find this out we can print it out using the `xgb_predictor` object."
   ]
  },
  {
   "cell_type": "code",
   "execution_count": 45,
   "metadata": {},
   "outputs": [
    {
     "data": {
      "text/plain": [
       "'xgboost-2020-07-29-01-50-02-462'"
      ]
     },
     "execution_count": 45,
     "metadata": {},
     "output_type": "execute_result"
    }
   ],
   "source": [
    "xgb_predictor.endpoint"
   ]
  },
  {
   "cell_type": "markdown",
   "metadata": {},
   "source": [
    "Using the SageMaker runtime and the name of our endpoint, we can invoke the endpoint and send it the `test_bow` data."
   ]
  },
  {
   "cell_type": "code",
   "execution_count": 46,
   "metadata": {},
   "outputs": [
    {
     "ename": "ParamValidationError",
     "evalue": "Parameter validation failed:\nInvalid type for parameter Body, value: [0, 0, 0, 0, 0, 0, 0, 0, 0, 0, 0, 0, 0, 0, 0, 0, 0, 0, 0, 0, 0, 0, 0, 0, 0, 0, 0, 0, 0, 0, 0, 0, 0, 0, 0, 0, 0, 0, 0, 0, 0, 0, 0, 0, 0, 0, 0, 0, 0, 0, 0, 0, 0, 0, 0, 0, 0, 0, 0, 0, 0, 0, 0, 0, 0, 0, 0, 0, 0, 0, 0, 0, 0, 0, 0, 0, 0, 0, 0, 0, 0, 0, 0, 0, 0, 0, 0, 0, 0, 0, 0, 0, 0, 0, 0, 0, 0, 0, 0, 0, 0, 0, 0, 0, 0, 0, 0, 0, 0, 0, 0, 0, 0, 0, 0, 0, 0, 0, 0, 0, 0, 0, 0, 0, 0, 0, 0, 0, 0, 0, 0, 0, 0, 0, 0, 0, 0, 0, 0, 0, 0, 0, 0, 0, 0, 0, 0, 0, 0, 0, 0, 0, 0, 0, 0, 0, 0, 0, 0, 0, 0, 0, 0, 0, 0, 0, 0, 0, 0, 0, 0, 0, 0, 0, 0, 0, 0, 0, 0, 0, 0, 0, 0, 0, 0, 0, 0, 0, 0, 0, 0, 0, 0, 0, 0, 0, 0, 0, 0, 0, 0, 0, 0, 0, 0, 0, 0, 0, 0, 0, 0, 0, 0, 0, 0, 0, 0, 0, 0, 0, 0, 0, 0, 0, 0, 0, 1, 0, 0, 0, 0, 0, 0, 0, 0, 0, 0, 0, 0, 0, 0, 0, 0, 0, 0, 0, 0, 0, 0, 0, 0, 0, 0, 0, 0, 0, 1, 0, 0, 0, 0, 0, 0, 0, 0, 0, 0, 0, 0, 0, 0, 0, 0, 0, 0, 0, 0, 0, 0, 0, 0, 0, 0, 0, 0, 0, 0, 0, 0, 0, 0, 0, 0, 0, 0, 0, 0, 0, 0, 0, 0, 0, 0, 0, 0, 0, 0, 0, 0, 0, 0, 0, 0, 0, 0, 0, 0, 0, 0, 0, 0, 0, 0, 0, 0, 0, 0, 0, 0, 0, 0, 0, 0, 0, 0, 0, 0, 0, 0, 0, 0, 0, 0, 0, 0, 0, 0, 0, 0, 0, 0, 0, 0, 0, 0, 0, 0, 0, 0, 0, 0, 0, 0, 0, 0, 0, 0, 0, 0, 0, 0, 0, 0, 0, 0, 0, 0, 0, 0, 0, 0, 0, 0, 0, 0, 0, 0, 0, 0, 0, 0, 0, 0, 0, 0, 0, 0, 0, 0, 0, 0, 0, 0, 0, 0, 0, 0, 0, 0, 0, 0, 0, 0, 0, 0, 0, 0, 0, 0, 0, 0, 0, 0, 0, 0, 0, 0, 0, 0, 0, 0, 0, 0, 0, 0, 0, 0, 0, 0, 0, 0, 0, 0, 0, 0, 0, 0, 0, 0, 0, 0, 0, 0, 0, 0, 0, 0, 0, 0, 0, 0, 0, 0, 0, 0, 0, 0, 0, 0, 0, 0, 0, 0, 0, 0, 0, 0, 0, 0, 0, 0, 0, 0, 0, 0, 0, 0, 0, 0, 0, 0, 0, 0, 0, 0, 0, 0, 0, 0, 0, 0, 0, 0, 0, 0, 0, 0, 0, 0, 0, 0, 0, 0, 0, 0, 0, 0, 0, 0, 0, 0, 0, 0, 0, 0, 0, 0, 0, 0, 0, 0, 0, 0, 0, 0, 0, 0, 0, 0, 0, 0, 0, 0, 0, 0, 0, 0, 0, 0, 0, 0, 0, 0, 0, 0, 0, 0, 0, 0, 0, 0, 0, 0, 0, 0, 0, 0, 0, 0, 0, 0, 0, 0, 0, 0, 0, 0, 0, 0, 0, 0, 0, 0, 0, 0, 0, 0, 0, 0, 0, 0, 0, 0, 0, 0, 0, 0, 0, 0, 0, 0, 0, 0, 0, 0, 0, 0, 0, 0, 0, 0, 0, 0, 0, 0, 0, 0, 0, 0, 0, 0, 0, 0, 0, 0, 0, 0, 0, 0, 0, 0, 0, 0, 0, 0, 0, 1, 0, 0, 0, 0, 0, 0, 0, 0, 0, 0, 0, 0, 0, 0, 0, 0, 0, 0, 0, 0, 0, 0, 0, 0, 0, 0, 0, 0, 0, 0, 0, 0, 0, 0, 0, 0, 0, 0, 0, 0, 0, 0, 0, 0, 0, 0, 0, 0, 0, 0, 0, 0, 0, 0, 0, 0, 0, 0, 0, 0, 0, 0, 0, 0, 0, 0, 0, 0, 0, 0, 0, 0, 0, 0, 0, 0, 0, 0, 0, 0, 0, 0, 0, 0, 0, 0, 0, 0, 0, 0, 0, 0, 0, 0, 0, 0, 0, 0, 0, 0, 0, 0, 0, 0, 0, 0, 0, 0, 0, 0, 0, 0, 0, 0, 0, 0, 0, 0, 0, 0, 0, 0, 0, 0, 0, 0, 0, 0, 0, 0, 0, 0, 0, 0, 0, 0, 0, 0, 0, 0, 0, 0, 0, 0, 0, 0, 0, 0, 0, 0, 0, 0, 0, 0, 0, 0, 0, 0, 0, 0, 0, 0, 0, 0, 0, 0, 0, 0, 0, 0, 0, 0, 0, 0, 0, 0, 0, 0, 0, 0, 0, 0, 0, 0, 0, 0, 0, 0, 0, 0, 0, 0, 0, 0, 0, 0, 0, 0, 0, 0, 0, 0, 0, 0, 0, 0, 0, 0, 0, 0, 0, 0, 0, 0, 0, 0, 0, 0, 0, 0, 0, 0, 0, 0, 0, 0, 0, 0, 0, 0, 0, 0, 0, 0, 0, 0, 0, 0, 0, 0, 0, 0, 0, 0, 0, 0, 0, 0, 0, 0, 0, 0, 0, 1, 0, 0, 0, 0, 0, 0, 0, 0, 0, 0, 0, 0, 0, 0, 0, 0, 0, 0, 0, 0, 0, 0, 0, 0, 0, 0, 0, 0, 0, 0, 0, 0, 0, 0, 0, 0, 0, 0, 0, 0, 0, 0, 0, 0, 0, 0, 0, 0, 0, 0, 0, 0, 0, 0, 0, 0, 0, 0, 0, 0, 0, 0, 0, 0, 0, 0, 0, 0, 0, 0, 0, 0, 0, 0, 0, 0, 0, 0, 0, 0, 0, 0, 0, 0, 0, 0, 1, 0, 0, 0, 0, 0, 0, 0, 0, 0, 0, 0, 0, 0, 0, 0, 0, 0, 0, 0, 0, 0, 0, 0, 0, 0, 0, 0, 0, 0, 0, 0, 0, 0, 0, 0, 0, 0, 0, 0, 0, 0, 0, 0, 0, 0, 0, 0, 0, 0, 0, 0, 0, 0, 0, 0, 0, 0, 0, 0, 0, 0, 0, 0, 0, 0, 0, 0, 0, 0, 0, 0, 0, 0, 0, 0, 0, 0, 0, 0, 0, 0, 0, 0, 0, 0, 0, 0, 0, 0, 0, 0, 0, 0, 0, 0, 0, 0, 0, 0, 0, 0, 0, 0, 0, 0, 0, 0, 0, 0, 0, 0, 0, 0, 0, 0, 0, 0, 0, 0, 0, 0, 0, 0, 0, 0, 0, 0, 0, 0, 0, 0, 0, 0, 0, 0, 0, 0, 0, 0, 0, 0, 0, 0, 0, 0, 0, 0, 0, 0, 0, 0, 0, 0, 0, 0, 0, 0, 0, 0, 0, 0, 0, 0, 0, 0, 0, 0, 0, 0, 0, 0, 0, 0, 0, 0, 0, 0, 0, 0, 0, 0, 0, 0, 0, 0, 0, 0, 0, 0, 0, 0, 0, 0, 0, 0, 0, 0, 0, 0, 0, 0, 0, 0, 0, 0, 0, 0, 0, 0, 0, 0, 0, 0, 0, 0, 0, 0, 0, 0, 0, 0, 0, 0, 0, 0, 0, 0, 0, 0, 0, 0, 0, 0, 0, 0, 0, 0, 0, 0, 0, 0, 0, 0, 0, 0, 0, 0, 0, 0, 0, 0, 0, 1, 0, 0, 0, 0, 0, 0, 0, 0, 0, 0, 0, 0, 0, 0, 0, 0, 0, 0, 0, 0, 0, 0, 0, 0, 0, 0, 0, 0, 0, 0, 0, 0, 0, 0, 0, 0, 0, 0, 0, 0, 0, 0, 0, 0, 0, 0, 0, 0, 0, 0, 0, 0, 0, 0, 0, 1, 0, 0, 0, 0, 0, 0, 0, 0, 0, 0, 0, 0, 0, 0, 0, 0, 0, 0, 0, 0, 0, 0, 0, 0, 0, 0, 0, 0, 0, 0, 0, 0, 0, 0, 0, 0, 0, 0, 0, 0, 0, 0, 0, 0, 0, 0, 0, 0, 0, 0, 0, 0, 0, 0, 0, 0, 0, 0, 0, 0, 0, 0, 0, 0, 0, 0, 0, 0, 0, 0, 0, 0, 0, 0, 0, 0, 0, 0, 0, 0, 0, 0, 0, 0, 0, 0, 0, 0, 0, 0, 0, 0, 0, 0, 0, 0, 0, 0, 0, 0, 0, 0, 0, 0, 0, 0, 0, 0, 0, 0, 0, 0, 0, 0, 0, 0, 0, 0, 0, 0, 0, 0, 0, 0, 0, 0, 0, 0, 0, 0, 0, 0, 0, 0, 0, 0, 0, 0, 0, 0, 0, 0, 0, 0, 0, 0, 0, 0, 0, 0, 0, 0, 0, 0, 0, 0, 0, 0, 0, 0, 0, 0, 0, 0, 0, 0, 0, 0, 0, 0, 0, 0, 0, 0, 0, 0, 0, 0, 0, 0, 0, 0, 0, 0, 0, 0, 0, 0, 0, 0, 0, 0, 0, 0, 0, 0, 0, 0, 0, 0, 0, 0, 0, 0, 0, 0, 0, 0, 0, 0, 0, 0, 0, 0, 0, 0, 0, 0, 0, 0, 0, 0, 0, 0, 0, 0, 0, 0, 0, 0, 0, 0, 0, 0, 0, 0, 0, 0, 0, 0, 0, 0, 0, 0, 0, 0, 0, 0, 0, 0, 0, 0, 0, 0, 0, 0, 0, 0, 0, 0, 0, 0, 0, 0, 0, 0, 0, 0, 0, 0, 0, 0, 0, 0, 0, 0, 0, 0, 0, 0, 0, 0, 0, 0, 0, 0, 0, 0, 0, 0, 0, 0, 0, 0, 0, 0, 0, 0, 0, 0, 0, 0, 0, 0, 0, 0, 0, 0, 0, 0, 0, 0, 0, 0, 0, 0, 0, 0, 0, 0, 0, 0, 0, 0, 0, 0, 0, 0, 0, 0, 0, 0, 0, 0, 0, 0, 0, 0, 0, 0, 0, 0, 0, 0, 0, 0, 0, 0, 0, 0, 0, 0, 0, 0, 0, 0, 0, 0, 0, 0, 0, 0, 0, 0, 0, 0, 0, 0, 0, 0, 0, 0, 0, 0, 0, 0, 0, 0, 0, 0, 0, 0, 0, 0, 0, 0, 0, 0, 0, 0, 0, 0, 0, 0, 0, 0, 0, 0, 0, 0, 0, 0, 0, 0, 0, 0, 0, 0, 0, 0, 0, 0, 0, 0, 0, 0, 0, 0, 0, 0, 0, 0, 0, 0, 0, 0, 0, 0, 0, 0, 0, 0, 0, 0, 0, 0, 0, 0, 0, 0, 0, 0, 0, 0, 0, 0, 0, 0, 0, 0, 0, 0, 0, 0, 0, 0, 0, 0, 0, 0, 0, 0, 0, 0, 0, 0, 0, 0, 0, 0, 0, 0, 0, 0, 0, 0, 0, 0, 0, 0, 0, 0, 0, 0, 0, 0, 0, 0, 0, 0, 0, 0, 0, 0, 0, 0, 0, 0, 0, 0, 0, 0, 0, 0, 0, 0, 0, 0, 0, 0, 0, 0, 0, 0, 0, 0, 0, 0, 0, 0, 0, 0, 0, 0, 0, 0, 0, 0, 0, 0, 0, 0, 0, 0, 0, 0, 0, 0, 0, 0, 0, 0, 0, 0, 0, 0, 0, 0, 0, 0, 0, 0, 0, 0, 0, 0, 0, 0, 0, 0, 0, 0, 0, 0, 0, 0, 0, 0, 0, 0, 0, 0, 0, 0, 0, 0, 0, 0, 0, 0, 0, 0, 0, 0, 0, 0, 0, 0, 0, 0, 0, 0, 0, 0, 0, 0, 0, 0, 0, 0, 0, 0, 0, 0, 0, 0, 0, 0, 0, 0, 0, 0, 0, 0, 0, 0, 0, 0, 0, 0, 0, 0, 0, 0, 0, 0, 0, 0, 0, 0, 0, 0, 0, 0, 0, 0, 0, 0, 0, 0, 0, 0, 0, 0, 0, 0, 0, 0, 0, 0, 0, 0, 0, 0, 0, 0, 0, 0, 0, 0, 0, 0, 0, 0, 0, 0, 0, 0, 0, 0, 0, 0, 0, 0, 0, 0, 0, 0, 0, 0, 0, 1, 0, 0, 0, 0, 0, 0, 0, 0, 0, 0, 0, 0, 0, 0, 0, 0, 0, 0, 0, 0, 0, 0, 0, 0, 0, 0, 0, 0, 0, 0, 0, 0, 0, 0, 0, 0, 0, 0, 0, 0, 0, 0, 0, 0, 0, 0, 0, 0, 0, 0, 0, 0, 0, 0, 0, 0, 0, 0, 0, 0, 0, 0, 0, 0, 0, 0, 0, 0, 0, 0, 0, 0, 0, 0, 1, 0, 0, 0, 0, 0, 0, 0, 0, 0, 0, 0, 0, 0, 0, 0, 0, 0, 0, 0, 0, 1, 0, 0, 1, 0, 0, 0, 0, 0, 0, 0, 0, 0, 0, 0, 0, 0, 0, 0, 0, 0, 0, 0, 0, 0, 0, 0, 0, 0, 0, 0, 0, 0, 0, 0, 0, 0, 0, 0, 0, 0, 0, 0, 0, 0, 0, 0, 0, 0, 0, 0, 0, 0, 0, 0, 0, 0, 0, 0, 0, 0, 0, 0, 0, 0, 0, 0, 0, 0, 0, 0, 0, 0, 0, 0, 0, 0, 0, 0, 0, 0, 0, 0, 0, 0, 0, 0, 0, 0, 0, 0, 0, 0, 0, 0, 0, 0, 0, 0, 0, 0, 0, 0, 0, 0, 0, 0, 0, 0, 0, 0, 0, 0, 0, 0, 0, 0, 0, 0, 0, 0, 0, 0, 0, 0, 0, 0, 0, 0, 0, 0, 0, 0, 0, 0, 0, 0, 0, 0, 0, 0, 0, 0, 0, 0, 0, 0, 0, 0, 0, 0, 0, 0, 0, 0, 0, 0, 0, 0, 0, 0, 0, 0, 0, 0, 0, 0, 0, 0, 0, 0, 0, 0, 0, 0, 0, 0, 0, 0, 0, 0, 0, 0, 0, 0, 0, 0, 0, 0, 0, 0, 0, 0, 0, 0, 0, 0, 0, 0, 0, 0, 0, 0, 0, 0, 0, 0, 0, 0, 0, 0, 0, 0, 0, 0, 0, 0, 0, 0, 0, 0, 0, 0, 0, 0, 0, 0, 0, 0, 0, 0, 0, 0, 0, 0, 0, 0, 0, 0, 0, 0, 0, 0, 0, 0, 0, 0, 0, 0, 0, 0, 0, 0, 0, 0, 0, 0, 0, 0, 0, 0, 0, 0, 0, 0, 0, 0, 0, 0, 0, 0, 0, 0, 0, 0, 0, 0, 0, 0, 0, 0, 0, 0, 0, 0, 0, 0, 0, 0, 0, 0, 0, 0, 0, 0, 0, 0, 0, 0, 0, 0, 0, 0, 0, 0, 0, 0, 0, 0, 0, 0, 0, 0, 0, 0, 0, 0, 0, 0, 0, 0, 0, 0, 0, 0, 0, 0, 0, 0, 0, 0, 0, 0, 0, 0, 0, 0, 0, 0, 0, 0, 0, 0, 0, 0, 0, 0, 0, 0, 0, 0, 0, 0, 0, 0, 0, 0, 0, 0, 0, 0, 0, 0, 0, 0, 0, 0, 0, 0, 0, 0, 0, 0, 0, 0, 0, 0, 0, 0, 0, 0, 0, 0, 0, 0, 0, 0, 0, 0, 0, 0, 0, 0, 0, 0, 0, 0, 0, 0, 0, 0, 0, 0, 0, 0, 0, 0, 0, 0, 0, 0, 0, 0, 0, 0, 0, 0, 0, 0, 0, 0, 0, 0, 0, 0, 0, 0, 0, 0, 0, 0, 0, 0, 0, 0, 0, 0, 0, 0, 0, 0, 0, 0, 0, 0, 0, 0, 0, 0, 0, 0, 0, 0, 0, 0, 0, 0, 0, 0, 0, 0, 0, 0, 0, 0, 0, 0, 0, 0, 0, 1, 0, 0, 0, 0, 0, 0, 0, 0, 0, 0, 0, 0, 0, 0, 0, 0, 0, 0, 0, 0, 0, 0, 0, 0, 0, 0, 0, 0, 0, 0, 0, 0, 0, 0, 0, 0, 0, 0, 0, 0, 0, 0, 0, 0, 0, 0, 0, 0, 0, 0, 0, 0, 0, 0, 0, 0, 0, 0, 0, 0, 0, 0, 0, 0, 0, 0, 0, 0, 0, 0, 0, 0, 0, 0, 0, 0, 0, 0, 0, 0, 0, 0, 0, 0, 0, 0, 0, 0, 0, 0, 0, 0, 0, 0, 0, 0, 0, 0, 0, 0, 0, 0, 0, 0, 0, 0, 0, 0, 0, 0, 0, 0, 0, 0, 0, 0, 0, 0, 0, 0, 0, 0, 0, 0, 0, 0, 0, 0, 0, 0, 0, 0, 0, 0, 0, 0, 0, 0, 0, 0, 0, 0, 0, 0, 0, 0, 0, 0, 0, 0, 0, 0, 0, 0, 0, 0, 0, 0, 0, 0, 0, 0, 0, 0, 0, 0, 0, 0, 0, 0, 0, 0, 0, 0, 0, 0, 0, 0, 0, 0, 0, 0, 0, 0, 0, 0, 0, 0, 0, 0, 0, 0, 0, 0, 0, 0, 0, 0, 0, 0, 0, 0, 0, 0, 0, 0, 0, 0, 0, 0, 0, 0, 0, 0, 0, 0, 0, 0, 0, 0, 0, 0, 0, 0, 0, 0, 0, 0, 0, 0, 0, 0, 0, 0, 0, 0, 0, 0, 0, 0, 0, 0, 0, 0, 0, 0, 0, 0, 0, 0, 0, 0, 0, 0, 0, 0, 0, 0, 0, 0, 0, 0, 0, 0, 0, 0, 0, 0, 0, 0, 0, 0, 0, 0, 0, 0, 0, 0, 0, 0, 0, 0, 0, 0, 0, 0, 0, 0, 0, 0, 0, 0, 0, 0, 0, 0, 0, 0, 0, 0, 0, 0, 0, 0, 0, 0, 0, 0, 0, 0, 0, 0, 0, 0, 0, 0, 0, 0, 0, 0, 0, 0, 0, 0, 0, 0, 0, 0, 0, 0, 0, 0, 0, 0, 0, 0, 0, 0, 0, 0, 0, 0, 0, 0, 0, 0, 0, 0, 0, 0, 0, 0, 0, 0, 0, 0, 0, 0, 0, 0, 0, 0, 0, 0, 0, 0, 0, 0, 0, 0, 0, 0, 0, 0, 0, 0, 0, 0, 0, 0, 0, 0, 0, 0, 0, 0, 0, 0, 0, 0, 0, 0, 0, 0, 0, 0, 0, 0, 0, 0, 0, 0, 0, 0, 0, 0, 0, 0, 0, 0, 0, 0, 0, 0, 0, 0, 0, 0, 0, 0, 0, 0, 0, 0, 0, 0, 0, 0, 0, 0, 0, 0, 0, 0, 0, 0, 0, 0, 0, 0, 0, 0, 0, 0, 0, 0, 0, 0, 0, 0, 0, 0, 0, 0, 0, 0, 0, 0, 0, 0, 0, 0, 0, 0, 0, 0, 0, 0, 0, 0, 0, 0, 0, 0, 0, 0, 0, 0, 0, 0, 0, 0, 0, 0, 0, 0, 0, 0, 0, 0, 0, 0, 0, 0, 0, 0, 0, 0, 0, 0, 0, 0, 0, 0, 0, 0, 0, 0, 0, 0, 0, 0, 1, 0, 0, 0, 0, 0, 0, 0, 0, 0, 0, 0, 0, 0, 0, 0, 0, 0, 0, 0, 0, 0, 0, 0, 0, 0, 0, 0, 0, 0, 0, 0, 0, 0, 0, 0, 2, 0, 0, 0, 0, 0, 0, 0, 0, 0, 0, 0, 0, 0, 0, 0, 0, 0, 0, 0, 0, 0, 0, 0, 0, 0, 0, 0, 0, 0, 0, 0, 0, 0, 0, 0, 0, 0, 0, 0, 0, 1, 0, 0, 0, 0, 0, 0, 0, 0, 0, 0, 0, 0, 0, 0, 0, 0, 0, 0, 0, 0, 0, 0, 0, 0, 0, 0, 0, 0, 0, 0, 0, 0, 0, 0, 0, 0, 0, 0, 0, 0, 0, 0, 0, 0, 0, 0, 0, 0, 0, 0, 0, 0, 0, 0, 0, 0, 0, 0, 0, 0, 0, 0, 0, 0, 0, 0, 0, 0, 0, 0, 0, 0, 0, 0, 0, 0, 0, 0, 0, 0, 0, 0, 0, 0, 0, 0, 0, 0, 0, 0, 0, 0, 0, 0, 0, 0, 0, 0, 0, 0, 0, 0, 0, 0, 0, 0, 0, 0, 0, 0, 0, 0, 0, 0, 0, 0, 0, 0, 0, 0, 0, 0, 0, 0, 0, 0, 0, 0, 0, 0, 0, 0, 0, 0, 0, 0, 0, 0, 0, 0, 0, 0, 0, 0, 0, 0, 0, 0, 0, 0, 0, 0, 0, 0, 0, 0, 0, 0, 0, 0, 0, 0, 0, 0, 0, 0, 0, 0, 0, 0, 0, 0, 0, 0, 0, 0, 0, 0, 0, 0, 0, 0, 0, 0, 0, 0, 0, 0, 0, 0, 0, 0, 0, 0, 0, 0, 0, 0, 0, 0, 0, 0, 0, 0, 0, 0, 0, 0, 0, 0, 0, 0, 0, 0, 0, 0, 0, 0, 0, 0, 0, 0, 0, 0, 0, 0, 0, 0, 0, 0, 0, 0, 0, 0, 0, 0, 0, 0, 0, 0, 0, 0, 0, 0, 0, 0, 0, 0, 0, 0, 0, 0, 0, 0, 0, 0, 0, 0, 0, 0, 0, 0, 0, 0, 0, 0, 0, 0, 0, 0, 0, 0, 0, 0, 0, 0, 0, 0, 0, 0, 0, 0, 0, 0, 0, 0, 0, 0, 0, 0, 0, 0, 0, 0, 0, 0, 0, 0, 0, 0, 0, 0, 0, 0, 0, 0, 0, 0, 0, 0, 0, 0, 0, 0, 0, 0, 0, 0, 0, 0, 0, 0, 0, 0, 0, 0, 0, 0, 0, 0, 0, 0, 0, 0, 0, 0, 0, 0, 0, 0, 0, 0, 0, 0, 0, 0, 0, 0, 0, 0, 0, 0, 0, 0, 0, 0, 0, 0, 0, 0, 0, 0, 0, 0, 0, 0, 0, 0, 0, 0, 0, 0, 0, 0, 0, 0, 0, 0, 0, 0, 0, 0, 0, 0, 0, 0, 0, 0, 0, 0, 0, 0, 0, 0, 0, 0, 0, 0, 0, 0, 0, 0, 0, 0, 0, 0, 0, 0, 0, 0, 0, 0, 0, 0, 0, 0, 0, 0, 0, 0, 0, 0, 0, 0, 0, 0, 0, 0, 0, 0, 0, 0, 0, 0, 0, 0, 0, 0, 0, 0, 0, 0, 0, 0, 0, 0, 0, 0, 0, 0, 0, 0, 0, 0, 0, 0, 0, 0, 0, 0, 0, 0, 0, 0, 0, 0, 0, 0, 0, 0, 0, 0, 0, 0, 0, 0, 0, 0, 0, 0, 0, 0, 0, 0, 0, 0, 0, 0, 0, 0, 0, 0, 0, 0, 0, 0, 0, 1, 0, 0, 0, 0, 0, 0, 0, 0, 0, 0, 0, 0, 0, 0, 0, 0, 0, 0, 0, 0, 0, 0, 0, 0, 0, 0, 0, 0, 0, 0, 0, 0, 0, 0, 0, 0, 0, 0, 0, 0, 0, 0, 0, 0, 0, 0, 0, 0, 0, 0, 0, 0, 0, 0, 0, 0, 0, 0, 0, 0, 0, 0, 0, 0, 0, 0, 0, 0, 0, 0, 0, 0, 0, 0, 0, 0, 0, 0, 0, 0, 0, 0, 0, 0, 0, 0, 0, 0, 0, 0, 0, 0, 0, 0, 0, 0, 0, 0, 0, 0, 0, 0, 0, 0, 0, 0, 0, 0, 0, 0, 2, 0, 0, 0, 0, 0, 0, 0, 0, 0, 0, 0, 0, 0, 0, 0, 0, 0, 0, 0, 0, 0, 0, 0, 0, 0, 0, 0, 0, 0, 0, 0, 0, 0, 0, 0, 0, 0, 0, 0, 0, 0, 0, 0, 0, 0, 0, 0, 0, 0, 0, 0, 0, 0, 0, 0, 0, 0, 0, 0, 0, 0, 0, 0, 0, 0, 0, 0, 0, 0, 0, 0, 0, 0, 0, 0, 0, 0, 0, 0, 0, 0, 0, 0, 0, 0, 0, 0, 0, 0, 0, 0, 0, 0, 0, 0, 0, 0, 0, 0, 0, 0, 0, 0, 0, 0, 0, 0, 0, 0, 0, 0, 0, 0, 0, 0, 0, 0, 0, 0, 0, 0, 0, 0, 0, 0, 0, 0, 0, 0, 0, 0, 0, 0, 0, 0, 0, 0, 0, 0, 0, 0, 0, 0, 0, 0, 0, 0, 0, 0, 0, 0, 0, 0, 0, 0, 0, 0, 0, 0, 0, 0, 0, 0, 0, 0, 0, 0, 0, 0, 0, 0, 0, 0, 0, 0, 0, 0, 0, 0, 0, 0, 0, 0, 0, 0, 0, 0, 0, 0, 0, 0, 0, 0, 0, 0, 0, 0, 0, 0, 0, 0, 0, 0, 0, 0, 0, 0, 0, 0, 0, 0, 0, 0, 0, 0, 0, 0, 0, 0, 0, 0, 0, 0, 0, 0, 0, 0, 0, 0, 0, 0, 0, 0, 0, 0, 0, 0, 0, 0, 0, 0, 0, 0, 0, 0, 0, 0, 0, 0, 0, 0, 0, 0, 0, 0, 0, 0, 0, 0, 0, 0, 0, 0, 0, 0, 0, 0, 0, 0, 0, 0, 0, 0, 0, 0, 0, 0, 0, 0, 0, 0, 0, 0, 0, 0, 0, 0, 0, 0, 0, 0, 0, 0, 0, 0, 0, 0, 0, 0, 0, 0, 0, 0, 0, 0, 0, 0, 0, 0, 0, 0, 0, 0, 0, 0, 0, 0, 0, 0, 0, 0, 0, 0, 0, 0, 0, 0, 0, 0, 0, 0, 0, 0, 0, 0, 0, 0, 0, 0, 0, 0, 0, 0, 0, 0, 0, 0, 0, 0, 0, 0, 0, 0, 0, 0, 0, 0, 0, 0, 0, 0, 0, 0, 0, 0, 0, 0, 0, 0, 0, 0, 0, 0, 0, 0, 0, 0, 0, 0, 0, 0, 0, 0, 0, 0, 0, 0, 0, 0, 0, 0, 0, 0, 0, 0, 0, 0, 0, 0, 0, 0, 0, 0, 0, 0, 0, 0, 0, 0, 0, 0, 0, 0, 0, 0, 0, 0, 0, 0, 0, 0, 0, 0, 0, 0, 0, 0, 0, 0, 0, 0, 0, 0, 0, 0, 0, 0, 0, 0, 0, 0, 0, 0, 0, 0, 0, 0, 0, 0, 0, 0, 0, 0, 0, 0, 0, 0, 0, 0, 0, 0, 0, 0, 0, 0, 0, 0, 0, 0, 0, 0, 0, 0, 0, 0, 0, 0, 0, 0, 0, 0, 0, 0, 0, 0, 0, 0, 0, 0, 0, 0, 0, 0, 0, 0, 0, 0, 0, 0, 0, 0, 0, 0, 0, 0, 0, 0, 0, 0, 0, 0, 0, 0, 0, 0, 0, 0, 0, 0, 0, 0, 0, 0, 0, 0, 0, 0, 0, 0, 0, 0, 0, 0, 0, 0, 0, 0, 0, 0, 0, 0, 0, 0, 0, 0, 0, 0, 0, 0, 0, 0, 0, 0, 0, 0, 0, 0, 0, 0, 0, 0, 0, 0, 0, 0, 0, 0, 0, 0, 0, 0, 0, 0, 0, 0, 0, 0, 0, 0, 0, 0, 0, 0, 0, 0, 0, 0, 0, 0, 0, 0, 0, 0, 0, 0, 0, 0, 0, 0, 0, 0, 0, 0, 0, 0, 0, 0, 0, 0, 0, 0, 0, 0, 0, 0, 0, 0, 0, 0, 0, 0, 0, 0, 0, 0, 0, 0, 0, 0, 0, 0, 0, 0, 0, 0, 0, 0, 0, 0, 0, 0, 0, 0, 0, 0, 0, 0, 0, 0, 0, 0, 0, 0, 0, 0, 0, 0, 0, 0, 0, 0, 0, 0, 0, 0, 0, 0, 0, 0, 0, 0, 0, 0, 0, 0, 0, 0, 0, 0, 0, 0, 0, 0, 0, 0, 0, 0, 0, 0, 0, 1, 0, 0, 0, 0, 0, 0, 0, 0, 0, 0, 0, 0, 0, 0, 0, 0, 0, 0, 0, 0, 0, 0, 0, 0, 0, 0, 0, 0, 0, 0, 0, 0, 0, 0, 0, 0, 0, 0, 0, 0, 0, 0, 0, 0, 0, 0, 0, 0, 0, 0, 0, 0, 0, 0, 0, 0, 0, 0, 0, 0, 0, 0, 0, 0, 0, 0, 0, 0, 0, 0, 0, 0, 0, 0, 0, 0, 0, 0, 0, 0, 0, 0, 0, 0, 0, 0, 0, 0, 0, 0, 0, 0, 0, 0, 0, 0, 0, 0, 0, 0, 0, 0, 0, 0, 0, 0, 0, 1, 0, 0, 0, 0, 0, 0, 0, 0, 0, 0, 0, 0, 0, 0, 0, 0, 0, 0, 0, 0, 0, 0, 0, 0, 0, 0, 0, 0, 0, 0, 0, 0, 0, 0, 0, 0, 0, 0, 0, 0, 0, 0, 0, 0, 0, 0, 0, 0, 0, 0, 0, 0, 0, 0, 0, 0, 0, 0, 0, 0, 0, 0, 0, 0, 0, 0, 0, 0, 0, 0, 0, 0, 0, 0, 0, 0, 0, 0, 0, 0, 0, 0, 0, 0, 0, 0, 0, 0, 0, 0, 0, 0, 0, 0, 0, 0, 0, 0, 0, 0, 0, 0, 0, 0, 0, 0, 0, 0, 0, 0, 0, 0, 0, 0, 0, 0, 0, 0, 0, 0, 0, 0, 0, 0, 0, 0, 0, 0, 0, 0, 0, 0, 0, 0, 0, 0, 0, 0, 0, 0, 0, 0, 0, 0, 0, 0, 0, 0, 0, 0, 0, 0, 0, 0, 0, 0, 0, 0, 0, 0, 0, 0, 0, 0, 0, 0, 0, 0, 0, 0, 0, 0, 0, 0, 0, 0, 0, 0, 0, 0, 0, 0, 0, 0, 0, 0, 0, 0, 0, 0, 0, 0, 0, 0, 0, 0, 0, 0, 0, 0, 0, 0, 0, 0, 0, 0, 0, 0, 0, 0, 0, 0, 0, 0, 0, 0, 0, 0, 0, 0, 0, 0, 0, 0, 0, 0, 0, 0, 0, 0, 0, 0, 0, 0, 0, 0, 0, 0, 0, 0, 0, 0, 0, 0, 0, 0, 0, 0, 0, 0, 0, 0, 0, 0, 0, 0, 0, 0, 0, 0, 0, 0, 0, 0, 0, 0, 0, 0, 0, 0, 0, 0, 0, 0, 0, 0, 0, 0, 0, 0, 0, 0, 0, 0, 0, 0, 0, 0, 0, 0, 0, 0, 0, 0, 0, 0, 0, 0, 0, 0, 0, 0, 0, 0, 0, 0, 0, 0, 0, 0, 0, 0, 0, 0, 0, 0, 0, 0, 0, 0, 0, 0, 0, 0, 0, 0, 0, 0, 0, 0, 0, 0, 0, 0, 0, 0, 0, 0, 0, 0, 0, 0, 0, 0, 0, 0, 0, 0, 0, 0, 0, 0, 0, 0, 0, 0, 0, 0, 0, 0, 0, 0, 0, 0, 0, 0, 0, 0, 0, 0, 0, 0, 0, 0, 0, 0, 0, 0, 0, 0, 0, 0, 0, 0, 0, 0, 0, 0, 0, 0, 0, 0, 0, 0, 0, 0, 0, 0, 0, 0, 0, 0, 0, 0, 0, 0, 0, 0, 0, 0, 0, 0, 0, 0, 0, 0, 0, 0, 0, 0, 0, 0, 0, 0, 0, 0, 0, 0, 0, 0, 0, 0, 0, 0, 0, 0, 0, 0, 0, 0, 0, 0, 0, 0, 0, 0, 0, 0, 0, 0, 0, 0, 0, 0, 0, 0, 0, 0, 0, 0, 0, 0, 0, 2, 0, 1, 0], type: <class 'list'>, valid types: <class 'bytes'>, <class 'bytearray'>, file-like object",
     "output_type": "error",
     "traceback": [
      "\u001b[0;31m---------------------------------------------------------------------------\u001b[0m",
      "\u001b[0;31mParamValidationError\u001b[0m                      Traceback (most recent call last)",
      "\u001b[0;32m<ipython-input-46-c9ab54ae3a48>\u001b[0m in \u001b[0;36m<module>\u001b[0;34m\u001b[0m\n\u001b[1;32m      1\u001b[0m response = runtime.invoke_endpoint(EndpointName = xgb_predictor.endpoint, # The name of the endpoint we created\n\u001b[1;32m      2\u001b[0m                                        \u001b[0mContentType\u001b[0m \u001b[0;34m=\u001b[0m \u001b[0;34m'text/csv'\u001b[0m\u001b[0;34m,\u001b[0m                     \u001b[0;31m# The data format that is expected\u001b[0m\u001b[0;34m\u001b[0m\u001b[0;34m\u001b[0m\u001b[0m\n\u001b[0;32m----> 3\u001b[0;31m                                        Body = test_bow)\n\u001b[0m",
      "\u001b[0;32m~/anaconda3/envs/python3/lib/python3.6/site-packages/botocore/client.py\u001b[0m in \u001b[0;36m_api_call\u001b[0;34m(self, *args, **kwargs)\u001b[0m\n\u001b[1;32m    314\u001b[0m                     \"%s() only accepts keyword arguments.\" % py_operation_name)\n\u001b[1;32m    315\u001b[0m             \u001b[0;31m# The \"self\" in this scope is referring to the BaseClient.\u001b[0m\u001b[0;34m\u001b[0m\u001b[0;34m\u001b[0m\u001b[0;34m\u001b[0m\u001b[0m\n\u001b[0;32m--> 316\u001b[0;31m             \u001b[0;32mreturn\u001b[0m \u001b[0mself\u001b[0m\u001b[0;34m.\u001b[0m\u001b[0m_make_api_call\u001b[0m\u001b[0;34m(\u001b[0m\u001b[0moperation_name\u001b[0m\u001b[0;34m,\u001b[0m \u001b[0mkwargs\u001b[0m\u001b[0;34m)\u001b[0m\u001b[0;34m\u001b[0m\u001b[0;34m\u001b[0m\u001b[0m\n\u001b[0m\u001b[1;32m    317\u001b[0m \u001b[0;34m\u001b[0m\u001b[0m\n\u001b[1;32m    318\u001b[0m         \u001b[0m_api_call\u001b[0m\u001b[0;34m.\u001b[0m\u001b[0m__name__\u001b[0m \u001b[0;34m=\u001b[0m \u001b[0mstr\u001b[0m\u001b[0;34m(\u001b[0m\u001b[0mpy_operation_name\u001b[0m\u001b[0;34m)\u001b[0m\u001b[0;34m\u001b[0m\u001b[0;34m\u001b[0m\u001b[0m\n",
      "\u001b[0;32m~/anaconda3/envs/python3/lib/python3.6/site-packages/botocore/client.py\u001b[0m in \u001b[0;36m_make_api_call\u001b[0;34m(self, operation_name, api_params)\u001b[0m\n\u001b[1;32m    606\u001b[0m         }\n\u001b[1;32m    607\u001b[0m         request_dict = self._convert_to_request_dict(\n\u001b[0;32m--> 608\u001b[0;31m             api_params, operation_model, context=request_context)\n\u001b[0m\u001b[1;32m    609\u001b[0m \u001b[0;34m\u001b[0m\u001b[0m\n\u001b[1;32m    610\u001b[0m         \u001b[0mservice_id\u001b[0m \u001b[0;34m=\u001b[0m \u001b[0mself\u001b[0m\u001b[0;34m.\u001b[0m\u001b[0m_service_model\u001b[0m\u001b[0;34m.\u001b[0m\u001b[0mservice_id\u001b[0m\u001b[0;34m.\u001b[0m\u001b[0mhyphenize\u001b[0m\u001b[0;34m(\u001b[0m\u001b[0;34m)\u001b[0m\u001b[0;34m\u001b[0m\u001b[0;34m\u001b[0m\u001b[0m\n",
      "\u001b[0;32m~/anaconda3/envs/python3/lib/python3.6/site-packages/botocore/client.py\u001b[0m in \u001b[0;36m_convert_to_request_dict\u001b[0;34m(self, api_params, operation_model, context)\u001b[0m\n\u001b[1;32m    654\u001b[0m             api_params, operation_model, context)\n\u001b[1;32m    655\u001b[0m         request_dict = self._serializer.serialize_to_request(\n\u001b[0;32m--> 656\u001b[0;31m             api_params, operation_model)\n\u001b[0m\u001b[1;32m    657\u001b[0m         \u001b[0;32mif\u001b[0m \u001b[0;32mnot\u001b[0m \u001b[0mself\u001b[0m\u001b[0;34m.\u001b[0m\u001b[0m_client_config\u001b[0m\u001b[0;34m.\u001b[0m\u001b[0minject_host_prefix\u001b[0m\u001b[0;34m:\u001b[0m\u001b[0;34m\u001b[0m\u001b[0;34m\u001b[0m\u001b[0m\n\u001b[1;32m    658\u001b[0m             \u001b[0mrequest_dict\u001b[0m\u001b[0;34m.\u001b[0m\u001b[0mpop\u001b[0m\u001b[0;34m(\u001b[0m\u001b[0;34m'host_prefix'\u001b[0m\u001b[0;34m,\u001b[0m \u001b[0;32mNone\u001b[0m\u001b[0;34m)\u001b[0m\u001b[0;34m\u001b[0m\u001b[0;34m\u001b[0m\u001b[0m\n",
      "\u001b[0;32m~/anaconda3/envs/python3/lib/python3.6/site-packages/botocore/validate.py\u001b[0m in \u001b[0;36mserialize_to_request\u001b[0;34m(self, parameters, operation_model)\u001b[0m\n\u001b[1;32m    295\u001b[0m                                                     operation_model.input_shape)\n\u001b[1;32m    296\u001b[0m             \u001b[0;32mif\u001b[0m \u001b[0mreport\u001b[0m\u001b[0;34m.\u001b[0m\u001b[0mhas_errors\u001b[0m\u001b[0;34m(\u001b[0m\u001b[0;34m)\u001b[0m\u001b[0;34m:\u001b[0m\u001b[0;34m\u001b[0m\u001b[0;34m\u001b[0m\u001b[0m\n\u001b[0;32m--> 297\u001b[0;31m                 \u001b[0;32mraise\u001b[0m \u001b[0mParamValidationError\u001b[0m\u001b[0;34m(\u001b[0m\u001b[0mreport\u001b[0m\u001b[0;34m=\u001b[0m\u001b[0mreport\u001b[0m\u001b[0;34m.\u001b[0m\u001b[0mgenerate_report\u001b[0m\u001b[0;34m(\u001b[0m\u001b[0;34m)\u001b[0m\u001b[0;34m)\u001b[0m\u001b[0;34m\u001b[0m\u001b[0;34m\u001b[0m\u001b[0m\n\u001b[0m\u001b[1;32m    298\u001b[0m         return self._serializer.serialize_to_request(parameters,\n\u001b[1;32m    299\u001b[0m                                                      operation_model)\n",
      "\u001b[0;31mParamValidationError\u001b[0m: Parameter validation failed:\nInvalid type for parameter Body, value: [0, 0, 0, 0, 0, 0, 0, 0, 0, 0, 0, 0, 0, 0, 0, 0, 0, 0, 0, 0, 0, 0, 0, 0, 0, 0, 0, 0, 0, 0, 0, 0, 0, 0, 0, 0, 0, 0, 0, 0, 0, 0, 0, 0, 0, 0, 0, 0, 0, 0, 0, 0, 0, 0, 0, 0, 0, 0, 0, 0, 0, 0, 0, 0, 0, 0, 0, 0, 0, 0, 0, 0, 0, 0, 0, 0, 0, 0, 0, 0, 0, 0, 0, 0, 0, 0, 0, 0, 0, 0, 0, 0, 0, 0, 0, 0, 0, 0, 0, 0, 0, 0, 0, 0, 0, 0, 0, 0, 0, 0, 0, 0, 0, 0, 0, 0, 0, 0, 0, 0, 0, 0, 0, 0, 0, 0, 0, 0, 0, 0, 0, 0, 0, 0, 0, 0, 0, 0, 0, 0, 0, 0, 0, 0, 0, 0, 0, 0, 0, 0, 0, 0, 0, 0, 0, 0, 0, 0, 0, 0, 0, 0, 0, 0, 0, 0, 0, 0, 0, 0, 0, 0, 0, 0, 0, 0, 0, 0, 0, 0, 0, 0, 0, 0, 0, 0, 0, 0, 0, 0, 0, 0, 0, 0, 0, 0, 0, 0, 0, 0, 0, 0, 0, 0, 0, 0, 0, 0, 0, 0, 0, 0, 0, 0, 0, 0, 0, 0, 0, 0, 0, 0, 0, 0, 0, 0, 1, 0, 0, 0, 0, 0, 0, 0, 0, 0, 0, 0, 0, 0, 0, 0, 0, 0, 0, 0, 0, 0, 0, 0, 0, 0, 0, 0, 0, 0, 1, 0, 0, 0, 0, 0, 0, 0, 0, 0, 0, 0, 0, 0, 0, 0, 0, 0, 0, 0, 0, 0, 0, 0, 0, 0, 0, 0, 0, 0, 0, 0, 0, 0, 0, 0, 0, 0, 0, 0, 0, 0, 0, 0, 0, 0, 0, 0, 0, 0, 0, 0, 0, 0, 0, 0, 0, 0, 0, 0, 0, 0, 0, 0, 0, 0, 0, 0, 0, 0, 0, 0, 0, 0, 0, 0, 0, 0, 0, 0, 0, 0, 0, 0, 0, 0, 0, 0, 0, 0, 0, 0, 0, 0, 0, 0, 0, 0, 0, 0, 0, 0, 0, 0, 0, 0, 0, 0, 0, 0, 0, 0, 0, 0, 0, 0, 0, 0, 0, 0, 0, 0, 0, 0, 0, 0, 0, 0, 0, 0, 0, 0, 0, 0, 0, 0, 0, 0, 0, 0, 0, 0, 0, 0, 0, 0, 0, 0, 0, 0, 0, 0, 0, 0, 0, 0, 0, 0, 0, 0, 0, 0, 0, 0, 0, 0, 0, 0, 0, 0, 0, 0, 0, 0, 0, 0, 0, 0, 0, 0, 0, 0, 0, 0, 0, 0, 0, 0, 0, 0, 0, 0, 0, 0, 0, 0, 0, 0, 0, 0, 0, 0, 0, 0, 0, 0, 0, 0, 0, 0, 0, 0, 0, 0, 0, 0, 0, 0, 0, 0, 0, 0, 0, 0, 0, 0, 0, 0, 0, 0, 0, 0, 0, 0, 0, 0, 0, 0, 0, 0, 0, 0, 0, 0, 0, 0, 0, 0, 0, 0, 0, 0, 0, 0, 0, 0, 0, 0, 0, 0, 0, 0, 0, 0, 0, 0, 0, 0, 0, 0, 0, 0, 0, 0, 0, 0, 0, 0, 0, 0, 0, 0, 0, 0, 0, 0, 0, 0, 0, 0, 0, 0, 0, 0, 0, 0, 0, 0, 0, 0, 0, 0, 0, 0, 0, 0, 0, 0, 0, 0, 0, 0, 0, 0, 0, 0, 0, 0, 0, 0, 0, 0, 0, 0, 0, 0, 0, 0, 0, 0, 0, 0, 0, 0, 0, 0, 0, 0, 0, 0, 0, 0, 0, 0, 0, 0, 0, 0, 0, 0, 0, 0, 0, 0, 0, 0, 0, 0, 0, 0, 0, 0, 0, 0, 0, 0, 0, 0, 0, 0, 0, 0, 0, 0, 0, 0, 0, 0, 0, 0, 1, 0, 0, 0, 0, 0, 0, 0, 0, 0, 0, 0, 0, 0, 0, 0, 0, 0, 0, 0, 0, 0, 0, 0, 0, 0, 0, 0, 0, 0, 0, 0, 0, 0, 0, 0, 0, 0, 0, 0, 0, 0, 0, 0, 0, 0, 0, 0, 0, 0, 0, 0, 0, 0, 0, 0, 0, 0, 0, 0, 0, 0, 0, 0, 0, 0, 0, 0, 0, 0, 0, 0, 0, 0, 0, 0, 0, 0, 0, 0, 0, 0, 0, 0, 0, 0, 0, 0, 0, 0, 0, 0, 0, 0, 0, 0, 0, 0, 0, 0, 0, 0, 0, 0, 0, 0, 0, 0, 0, 0, 0, 0, 0, 0, 0, 0, 0, 0, 0, 0, 0, 0, 0, 0, 0, 0, 0, 0, 0, 0, 0, 0, 0, 0, 0, 0, 0, 0, 0, 0, 0, 0, 0, 0, 0, 0, 0, 0, 0, 0, 0, 0, 0, 0, 0, 0, 0, 0, 0, 0, 0, 0, 0, 0, 0, 0, 0, 0, 0, 0, 0, 0, 0, 0, 0, 0, 0, 0, 0, 0, 0, 0, 0, 0, 0, 0, 0, 0, 0, 0, 0, 0, 0, 0, 0, 0, 0, 0, 0, 0, 0, 0, 0, 0, 0, 0, 0, 0, 0, 0, 0, 0, 0, 0, 0, 0, 0, 0, 0, 0, 0, 0, 0, 0, 0, 0, 0, 0, 0, 0, 0, 0, 0, 0, 0, 0, 0, 0, 0, 0, 0, 0, 0, 0, 0, 0, 0, 0, 0, 0, 0, 0, 0, 0, 1, 0, 0, 0, 0, 0, 0, 0, 0, 0, 0, 0, 0, 0, 0, 0, 0, 0, 0, 0, 0, 0, 0, 0, 0, 0, 0, 0, 0, 0, 0, 0, 0, 0, 0, 0, 0, 0, 0, 0, 0, 0, 0, 0, 0, 0, 0, 0, 0, 0, 0, 0, 0, 0, 0, 0, 0, 0, 0, 0, 0, 0, 0, 0, 0, 0, 0, 0, 0, 0, 0, 0, 0, 0, 0, 0, 0, 0, 0, 0, 0, 0, 0, 0, 0, 0, 0, 1, 0, 0, 0, 0, 0, 0, 0, 0, 0, 0, 0, 0, 0, 0, 0, 0, 0, 0, 0, 0, 0, 0, 0, 0, 0, 0, 0, 0, 0, 0, 0, 0, 0, 0, 0, 0, 0, 0, 0, 0, 0, 0, 0, 0, 0, 0, 0, 0, 0, 0, 0, 0, 0, 0, 0, 0, 0, 0, 0, 0, 0, 0, 0, 0, 0, 0, 0, 0, 0, 0, 0, 0, 0, 0, 0, 0, 0, 0, 0, 0, 0, 0, 0, 0, 0, 0, 0, 0, 0, 0, 0, 0, 0, 0, 0, 0, 0, 0, 0, 0, 0, 0, 0, 0, 0, 0, 0, 0, 0, 0, 0, 0, 0, 0, 0, 0, 0, 0, 0, 0, 0, 0, 0, 0, 0, 0, 0, 0, 0, 0, 0, 0, 0, 0, 0, 0, 0, 0, 0, 0, 0, 0, 0, 0, 0, 0, 0, 0, 0, 0, 0, 0, 0, 0, 0, 0, 0, 0, 0, 0, 0, 0, 0, 0, 0, 0, 0, 0, 0, 0, 0, 0, 0, 0, 0, 0, 0, 0, 0, 0, 0, 0, 0, 0, 0, 0, 0, 0, 0, 0, 0, 0, 0, 0, 0, 0, 0, 0, 0, 0, 0, 0, 0, 0, 0, 0, 0, 0, 0, 0, 0, 0, 0, 0, 0, 0, 0, 0, 0, 0, 0, 0, 0, 0, 0, 0, 0, 0, 0, 0, 0, 0, 0, 0, 0, 0, 0, 0, 0, 0, 0, 0, 0, 0, 0, 0, 0, 0, 0, 0, 0, 0, 1, 0, 0, 0, 0, 0, 0, 0, 0, 0, 0, 0, 0, 0, 0, 0, 0, 0, 0, 0, 0, 0, 0, 0, 0, 0, 0, 0, 0, 0, 0, 0, 0, 0, 0, 0, 0, 0, 0, 0, 0, 0, 0, 0, 0, 0, 0, 0, 0, 0, 0, 0, 0, 0, 0, 0, 1, 0, 0, 0, 0, 0, 0, 0, 0, 0, 0, 0, 0, 0, 0, 0, 0, 0, 0, 0, 0, 0, 0, 0, 0, 0, 0, 0, 0, 0, 0, 0, 0, 0, 0, 0, 0, 0, 0, 0, 0, 0, 0, 0, 0, 0, 0, 0, 0, 0, 0, 0, 0, 0, 0, 0, 0, 0, 0, 0, 0, 0, 0, 0, 0, 0, 0, 0, 0, 0, 0, 0, 0, 0, 0, 0, 0, 0, 0, 0, 0, 0, 0, 0, 0, 0, 0, 0, 0, 0, 0, 0, 0, 0, 0, 0, 0, 0, 0, 0, 0, 0, 0, 0, 0, 0, 0, 0, 0, 0, 0, 0, 0, 0, 0, 0, 0, 0, 0, 0, 0, 0, 0, 0, 0, 0, 0, 0, 0, 0, 0, 0, 0, 0, 0, 0, 0, 0, 0, 0, 0, 0, 0, 0, 0, 0, 0, 0, 0, 0, 0, 0, 0, 0, 0, 0, 0, 0, 0, 0, 0, 0, 0, 0, 0, 0, 0, 0, 0, 0, 0, 0, 0, 0, 0, 0, 0, 0, 0, 0, 0, 0, 0, 0, 0, 0, 0, 0, 0, 0, 0, 0, 0, 0, 0, 0, 0, 0, 0, 0, 0, 0, 0, 0, 0, 0, 0, 0, 0, 0, 0, 0, 0, 0, 0, 0, 0, 0, 0, 0, 0, 0, 0, 0, 0, 0, 0, 0, 0, 0, 0, 0, 0, 0, 0, 0, 0, 0, 0, 0, 0, 0, 0, 0, 0, 0, 0, 0, 0, 0, 0, 0, 0, 0, 0, 0, 0, 0, 0, 0, 0, 0, 0, 0, 0, 0, 0, 0, 0, 0, 0, 0, 0, 0, 0, 0, 0, 0, 0, 0, 0, 0, 0, 0, 0, 0, 0, 0, 0, 0, 0, 0, 0, 0, 0, 0, 0, 0, 0, 0, 0, 0, 0, 0, 0, 0, 0, 0, 0, 0, 0, 0, 0, 0, 0, 0, 0, 0, 0, 0, 0, 0, 0, 0, 0, 0, 0, 0, 0, 0, 0, 0, 0, 0, 0, 0, 0, 0, 0, 0, 0, 0, 0, 0, 0, 0, 0, 0, 0, 0, 0, 0, 0, 0, 0, 0, 0, 0, 0, 0, 0, 0, 0, 0, 0, 0, 0, 0, 0, 0, 0, 0, 0, 0, 0, 0, 0, 0, 0, 0, 0, 0, 0, 0, 0, 0, 0, 0, 0, 0, 0, 0, 0, 0, 0, 0, 0, 0, 0, 0, 0, 0, 0, 0, 0, 0, 0, 0, 0, 0, 0, 0, 0, 0, 0, 0, 0, 0, 0, 0, 0, 0, 0, 0, 0, 0, 0, 0, 0, 0, 0, 0, 0, 0, 0, 0, 0, 0, 0, 0, 0, 0, 0, 0, 0, 0, 0, 0, 0, 0, 0, 0, 0, 0, 0, 0, 0, 0, 0, 0, 0, 0, 0, 0, 0, 0, 0, 0, 0, 0, 0, 0, 0, 0, 0, 0, 0, 0, 0, 0, 0, 0, 0, 0, 0, 0, 0, 0, 0, 0, 0, 0, 0, 0, 0, 0, 0, 0, 0, 0, 0, 0, 0, 0, 0, 0, 0, 0, 0, 0, 0, 0, 0, 0, 0, 0, 0, 0, 0, 0, 0, 0, 0, 0, 0, 0, 0, 0, 0, 0, 0, 0, 0, 0, 0, 0, 0, 0, 0, 0, 0, 0, 0, 0, 0, 0, 0, 0, 0, 0, 0, 0, 0, 0, 0, 0, 0, 0, 0, 0, 0, 0, 0, 0, 0, 0, 0, 0, 0, 0, 0, 0, 0, 0, 0, 0, 0, 0, 0, 0, 0, 0, 0, 0, 0, 0, 0, 0, 0, 0, 0, 0, 0, 0, 0, 0, 0, 0, 0, 0, 0, 0, 0, 0, 0, 0, 0, 0, 0, 0, 0, 0, 0, 0, 0, 0, 0, 0, 0, 0, 0, 0, 0, 0, 0, 0, 0, 0, 0, 0, 0, 0, 0, 0, 0, 0, 0, 0, 0, 0, 0, 0, 0, 0, 0, 0, 0, 0, 0, 0, 0, 0, 0, 0, 0, 0, 0, 0, 0, 0, 0, 0, 0, 0, 0, 0, 0, 0, 0, 0, 0, 0, 0, 0, 0, 0, 0, 0, 0, 0, 0, 0, 1, 0, 0, 0, 0, 0, 0, 0, 0, 0, 0, 0, 0, 0, 0, 0, 0, 0, 0, 0, 0, 0, 0, 0, 0, 0, 0, 0, 0, 0, 0, 0, 0, 0, 0, 0, 0, 0, 0, 0, 0, 0, 0, 0, 0, 0, 0, 0, 0, 0, 0, 0, 0, 0, 0, 0, 0, 0, 0, 0, 0, 0, 0, 0, 0, 0, 0, 0, 0, 0, 0, 0, 0, 0, 0, 1, 0, 0, 0, 0, 0, 0, 0, 0, 0, 0, 0, 0, 0, 0, 0, 0, 0, 0, 0, 0, 1, 0, 0, 1, 0, 0, 0, 0, 0, 0, 0, 0, 0, 0, 0, 0, 0, 0, 0, 0, 0, 0, 0, 0, 0, 0, 0, 0, 0, 0, 0, 0, 0, 0, 0, 0, 0, 0, 0, 0, 0, 0, 0, 0, 0, 0, 0, 0, 0, 0, 0, 0, 0, 0, 0, 0, 0, 0, 0, 0, 0, 0, 0, 0, 0, 0, 0, 0, 0, 0, 0, 0, 0, 0, 0, 0, 0, 0, 0, 0, 0, 0, 0, 0, 0, 0, 0, 0, 0, 0, 0, 0, 0, 0, 0, 0, 0, 0, 0, 0, 0, 0, 0, 0, 0, 0, 0, 0, 0, 0, 0, 0, 0, 0, 0, 0, 0, 0, 0, 0, 0, 0, 0, 0, 0, 0, 0, 0, 0, 0, 0, 0, 0, 0, 0, 0, 0, 0, 0, 0, 0, 0, 0, 0, 0, 0, 0, 0, 0, 0, 0, 0, 0, 0, 0, 0, 0, 0, 0, 0, 0, 0, 0, 0, 0, 0, 0, 0, 0, 0, 0, 0, 0, 0, 0, 0, 0, 0, 0, 0, 0, 0, 0, 0, 0, 0, 0, 0, 0, 0, 0, 0, 0, 0, 0, 0, 0, 0, 0, 0, 0, 0, 0, 0, 0, 0, 0, 0, 0, 0, 0, 0, 0, 0, 0, 0, 0, 0, 0, 0, 0, 0, 0, 0, 0, 0, 0, 0, 0, 0, 0, 0, 0, 0, 0, 0, 0, 0, 0, 0, 0, 0, 0, 0, 0, 0, 0, 0, 0, 0, 0, 0, 0, 0, 0, 0, 0, 0, 0, 0, 0, 0, 0, 0, 0, 0, 0, 0, 0, 0, 0, 0, 0, 0, 0, 0, 0, 0, 0, 0, 0, 0, 0, 0, 0, 0, 0, 0, 0, 0, 0, 0, 0, 0, 0, 0, 0, 0, 0, 0, 0, 0, 0, 0, 0, 0, 0, 0, 0, 0, 0, 0, 0, 0, 0, 0, 0, 0, 0, 0, 0, 0, 0, 0, 0, 0, 0, 0, 0, 0, 0, 0, 0, 0, 0, 0, 0, 0, 0, 0, 0, 0, 0, 0, 0, 0, 0, 0, 0, 0, 0, 0, 0, 0, 0, 0, 0, 0, 0, 0, 0, 0, 0, 0, 0, 0, 0, 0, 0, 0, 0, 0, 0, 0, 0, 0, 0, 0, 0, 0, 0, 0, 0, 0, 0, 0, 0, 0, 0, 0, 0, 0, 0, 0, 0, 0, 0, 0, 0, 0, 0, 0, 0, 0, 0, 0, 0, 0, 0, 0, 0, 0, 0, 0, 0, 0, 0, 0, 0, 0, 0, 0, 0, 0, 0, 0, 0, 0, 0, 0, 0, 0, 0, 0, 0, 0, 0, 0, 0, 0, 0, 0, 0, 0, 0, 0, 0, 0, 0, 0, 0, 0, 0, 0, 0, 0, 0, 0, 0, 0, 0, 0, 0, 0, 0, 0, 0, 0, 0, 0, 1, 0, 0, 0, 0, 0, 0, 0, 0, 0, 0, 0, 0, 0, 0, 0, 0, 0, 0, 0, 0, 0, 0, 0, 0, 0, 0, 0, 0, 0, 0, 0, 0, 0, 0, 0, 0, 0, 0, 0, 0, 0, 0, 0, 0, 0, 0, 0, 0, 0, 0, 0, 0, 0, 0, 0, 0, 0, 0, 0, 0, 0, 0, 0, 0, 0, 0, 0, 0, 0, 0, 0, 0, 0, 0, 0, 0, 0, 0, 0, 0, 0, 0, 0, 0, 0, 0, 0, 0, 0, 0, 0, 0, 0, 0, 0, 0, 0, 0, 0, 0, 0, 0, 0, 0, 0, 0, 0, 0, 0, 0, 0, 0, 0, 0, 0, 0, 0, 0, 0, 0, 0, 0, 0, 0, 0, 0, 0, 0, 0, 0, 0, 0, 0, 0, 0, 0, 0, 0, 0, 0, 0, 0, 0, 0, 0, 0, 0, 0, 0, 0, 0, 0, 0, 0, 0, 0, 0, 0, 0, 0, 0, 0, 0, 0, 0, 0, 0, 0, 0, 0, 0, 0, 0, 0, 0, 0, 0, 0, 0, 0, 0, 0, 0, 0, 0, 0, 0, 0, 0, 0, 0, 0, 0, 0, 0, 0, 0, 0, 0, 0, 0, 0, 0, 0, 0, 0, 0, 0, 0, 0, 0, 0, 0, 0, 0, 0, 0, 0, 0, 0, 0, 0, 0, 0, 0, 0, 0, 0, 0, 0, 0, 0, 0, 0, 0, 0, 0, 0, 0, 0, 0, 0, 0, 0, 0, 0, 0, 0, 0, 0, 0, 0, 0, 0, 0, 0, 0, 0, 0, 0, 0, 0, 0, 0, 0, 0, 0, 0, 0, 0, 0, 0, 0, 0, 0, 0, 0, 0, 0, 0, 0, 0, 0, 0, 0, 0, 0, 0, 0, 0, 0, 0, 0, 0, 0, 0, 0, 0, 0, 0, 0, 0, 0, 0, 0, 0, 0, 0, 0, 0, 0, 0, 0, 0, 0, 0, 0, 0, 0, 0, 0, 0, 0, 0, 0, 0, 0, 0, 0, 0, 0, 0, 0, 0, 0, 0, 0, 0, 0, 0, 0, 0, 0, 0, 0, 0, 0, 0, 0, 0, 0, 0, 0, 0, 0, 0, 0, 0, 0, 0, 0, 0, 0, 0, 0, 0, 0, 0, 0, 0, 0, 0, 0, 0, 0, 0, 0, 0, 0, 0, 0, 0, 0, 0, 0, 0, 0, 0, 0, 0, 0, 0, 0, 0, 0, 0, 0, 0, 0, 0, 0, 0, 0, 0, 0, 0, 0, 0, 0, 0, 0, 0, 0, 0, 0, 0, 0, 0, 0, 0, 0, 0, 0, 0, 0, 0, 0, 0, 0, 0, 0, 0, 0, 0, 0, 0, 0, 0, 0, 0, 0, 0, 0, 0, 0, 0, 0, 0, 0, 0, 0, 0, 0, 0, 0, 0, 0, 0, 0, 0, 0, 0, 0, 0, 0, 0, 0, 0, 0, 0, 0, 0, 0, 0, 0, 0, 0, 0, 0, 0, 0, 0, 0, 0, 0, 0, 0, 0, 0, 0, 0, 0, 0, 0, 0, 0, 0, 0, 0, 0, 0, 0, 0, 0, 0, 0, 0, 0, 0, 0, 0, 0, 1, 0, 0, 0, 0, 0, 0, 0, 0, 0, 0, 0, 0, 0, 0, 0, 0, 0, 0, 0, 0, 0, 0, 0, 0, 0, 0, 0, 0, 0, 0, 0, 0, 0, 0, 0, 2, 0, 0, 0, 0, 0, 0, 0, 0, 0, 0, 0, 0, 0, 0, 0, 0, 0, 0, 0, 0, 0, 0, 0, 0, 0, 0, 0, 0, 0, 0, 0, 0, 0, 0, 0, 0, 0, 0, 0, 0, 1, 0, 0, 0, 0, 0, 0, 0, 0, 0, 0, 0, 0, 0, 0, 0, 0, 0, 0, 0, 0, 0, 0, 0, 0, 0, 0, 0, 0, 0, 0, 0, 0, 0, 0, 0, 0, 0, 0, 0, 0, 0, 0, 0, 0, 0, 0, 0, 0, 0, 0, 0, 0, 0, 0, 0, 0, 0, 0, 0, 0, 0, 0, 0, 0, 0, 0, 0, 0, 0, 0, 0, 0, 0, 0, 0, 0, 0, 0, 0, 0, 0, 0, 0, 0, 0, 0, 0, 0, 0, 0, 0, 0, 0, 0, 0, 0, 0, 0, 0, 0, 0, 0, 0, 0, 0, 0, 0, 0, 0, 0, 0, 0, 0, 0, 0, 0, 0, 0, 0, 0, 0, 0, 0, 0, 0, 0, 0, 0, 0, 0, 0, 0, 0, 0, 0, 0, 0, 0, 0, 0, 0, 0, 0, 0, 0, 0, 0, 0, 0, 0, 0, 0, 0, 0, 0, 0, 0, 0, 0, 0, 0, 0, 0, 0, 0, 0, 0, 0, 0, 0, 0, 0, 0, 0, 0, 0, 0, 0, 0, 0, 0, 0, 0, 0, 0, 0, 0, 0, 0, 0, 0, 0, 0, 0, 0, 0, 0, 0, 0, 0, 0, 0, 0, 0, 0, 0, 0, 0, 0, 0, 0, 0, 0, 0, 0, 0, 0, 0, 0, 0, 0, 0, 0, 0, 0, 0, 0, 0, 0, 0, 0, 0, 0, 0, 0, 0, 0, 0, 0, 0, 0, 0, 0, 0, 0, 0, 0, 0, 0, 0, 0, 0, 0, 0, 0, 0, 0, 0, 0, 0, 0, 0, 0, 0, 0, 0, 0, 0, 0, 0, 0, 0, 0, 0, 0, 0, 0, 0, 0, 0, 0, 0, 0, 0, 0, 0, 0, 0, 0, 0, 0, 0, 0, 0, 0, 0, 0, 0, 0, 0, 0, 0, 0, 0, 0, 0, 0, 0, 0, 0, 0, 0, 0, 0, 0, 0, 0, 0, 0, 0, 0, 0, 0, 0, 0, 0, 0, 0, 0, 0, 0, 0, 0, 0, 0, 0, 0, 0, 0, 0, 0, 0, 0, 0, 0, 0, 0, 0, 0, 0, 0, 0, 0, 0, 0, 0, 0, 0, 0, 0, 0, 0, 0, 0, 0, 0, 0, 0, 0, 0, 0, 0, 0, 0, 0, 0, 0, 0, 0, 0, 0, 0, 0, 0, 0, 0, 0, 0, 0, 0, 0, 0, 0, 0, 0, 0, 0, 0, 0, 0, 0, 0, 0, 0, 0, 0, 0, 0, 0, 0, 0, 0, 0, 0, 0, 0, 0, 0, 0, 0, 0, 0, 0, 0, 0, 0, 0, 0, 0, 0, 0, 0, 0, 0, 0, 0, 0, 0, 0, 0, 0, 0, 0, 0, 0, 0, 0, 0, 0, 0, 0, 0, 0, 0, 0, 0, 0, 0, 0, 0, 0, 0, 0, 0, 0, 0, 0, 0, 0, 0, 0, 0, 0, 0, 0, 0, 0, 0, 0, 0, 0, 0, 0, 0, 0, 0, 0, 0, 0, 0, 0, 0, 0, 0, 0, 0, 0, 1, 0, 0, 0, 0, 0, 0, 0, 0, 0, 0, 0, 0, 0, 0, 0, 0, 0, 0, 0, 0, 0, 0, 0, 0, 0, 0, 0, 0, 0, 0, 0, 0, 0, 0, 0, 0, 0, 0, 0, 0, 0, 0, 0, 0, 0, 0, 0, 0, 0, 0, 0, 0, 0, 0, 0, 0, 0, 0, 0, 0, 0, 0, 0, 0, 0, 0, 0, 0, 0, 0, 0, 0, 0, 0, 0, 0, 0, 0, 0, 0, 0, 0, 0, 0, 0, 0, 0, 0, 0, 0, 0, 0, 0, 0, 0, 0, 0, 0, 0, 0, 0, 0, 0, 0, 0, 0, 0, 0, 0, 0, 2, 0, 0, 0, 0, 0, 0, 0, 0, 0, 0, 0, 0, 0, 0, 0, 0, 0, 0, 0, 0, 0, 0, 0, 0, 0, 0, 0, 0, 0, 0, 0, 0, 0, 0, 0, 0, 0, 0, 0, 0, 0, 0, 0, 0, 0, 0, 0, 0, 0, 0, 0, 0, 0, 0, 0, 0, 0, 0, 0, 0, 0, 0, 0, 0, 0, 0, 0, 0, 0, 0, 0, 0, 0, 0, 0, 0, 0, 0, 0, 0, 0, 0, 0, 0, 0, 0, 0, 0, 0, 0, 0, 0, 0, 0, 0, 0, 0, 0, 0, 0, 0, 0, 0, 0, 0, 0, 0, 0, 0, 0, 0, 0, 0, 0, 0, 0, 0, 0, 0, 0, 0, 0, 0, 0, 0, 0, 0, 0, 0, 0, 0, 0, 0, 0, 0, 0, 0, 0, 0, 0, 0, 0, 0, 0, 0, 0, 0, 0, 0, 0, 0, 0, 0, 0, 0, 0, 0, 0, 0, 0, 0, 0, 0, 0, 0, 0, 0, 0, 0, 0, 0, 0, 0, 0, 0, 0, 0, 0, 0, 0, 0, 0, 0, 0, 0, 0, 0, 0, 0, 0, 0, 0, 0, 0, 0, 0, 0, 0, 0, 0, 0, 0, 0, 0, 0, 0, 0, 0, 0, 0, 0, 0, 0, 0, 0, 0, 0, 0, 0, 0, 0, 0, 0, 0, 0, 0, 0, 0, 0, 0, 0, 0, 0, 0, 0, 0, 0, 0, 0, 0, 0, 0, 0, 0, 0, 0, 0, 0, 0, 0, 0, 0, 0, 0, 0, 0, 0, 0, 0, 0, 0, 0, 0, 0, 0, 0, 0, 0, 0, 0, 0, 0, 0, 0, 0, 0, 0, 0, 0, 0, 0, 0, 0, 0, 0, 0, 0, 0, 0, 0, 0, 0, 0, 0, 0, 0, 0, 0, 0, 0, 0, 0, 0, 0, 0, 0, 0, 0, 0, 0, 0, 0, 0, 0, 0, 0, 0, 0, 0, 0, 0, 0, 0, 0, 0, 0, 0, 0, 0, 0, 0, 0, 0, 0, 0, 0, 0, 0, 0, 0, 0, 0, 0, 0, 0, 0, 0, 0, 0, 0, 0, 0, 0, 0, 0, 0, 0, 0, 0, 0, 0, 0, 0, 0, 0, 0, 0, 0, 0, 0, 0, 0, 0, 0, 0, 0, 0, 0, 0, 0, 0, 0, 0, 0, 0, 0, 0, 0, 0, 0, 0, 0, 0, 0, 0, 0, 0, 0, 0, 0, 0, 0, 0, 0, 0, 0, 0, 0, 0, 0, 0, 0, 0, 0, 0, 0, 0, 0, 0, 0, 0, 0, 0, 0, 0, 0, 0, 0, 0, 0, 0, 0, 0, 0, 0, 0, 0, 0, 0, 0, 0, 0, 0, 0, 0, 0, 0, 0, 0, 0, 0, 0, 0, 0, 0, 0, 0, 0, 0, 0, 0, 0, 0, 0, 0, 0, 0, 0, 0, 0, 0, 0, 0, 0, 0, 0, 0, 0, 0, 0, 0, 0, 0, 0, 0, 0, 0, 0, 0, 0, 0, 0, 0, 0, 0, 0, 0, 0, 0, 0, 0, 0, 0, 0, 0, 0, 0, 0, 0, 0, 0, 0, 0, 0, 0, 0, 0, 0, 0, 0, 0, 0, 0, 0, 0, 0, 0, 0, 0, 0, 0, 0, 0, 0, 0, 0, 0, 0, 0, 0, 0, 0, 0, 0, 0, 0, 0, 0, 0, 0, 0, 0, 0, 0, 0, 0, 0, 0, 0, 0, 0, 0, 0, 0, 0, 0, 0, 0, 0, 0, 0, 0, 0, 0, 0, 0, 0, 0, 0, 0, 0, 0, 0, 0, 0, 0, 0, 0, 0, 0, 0, 0, 0, 0, 0, 0, 0, 0, 0, 0, 0, 0, 0, 0, 0, 0, 0, 0, 0, 0, 0, 0, 0, 0, 0, 0, 0, 0, 0, 0, 0, 0, 0, 0, 0, 0, 0, 0, 0, 0, 0, 0, 0, 0, 0, 0, 0, 0, 0, 0, 0, 0, 0, 0, 0, 0, 0, 0, 0, 0, 0, 0, 0, 0, 0, 0, 0, 0, 0, 0, 0, 0, 0, 0, 0, 0, 0, 0, 0, 0, 0, 0, 0, 0, 0, 0, 0, 0, 0, 0, 0, 0, 0, 0, 0, 0, 0, 0, 0, 0, 1, 0, 0, 0, 0, 0, 0, 0, 0, 0, 0, 0, 0, 0, 0, 0, 0, 0, 0, 0, 0, 0, 0, 0, 0, 0, 0, 0, 0, 0, 0, 0, 0, 0, 0, 0, 0, 0, 0, 0, 0, 0, 0, 0, 0, 0, 0, 0, 0, 0, 0, 0, 0, 0, 0, 0, 0, 0, 0, 0, 0, 0, 0, 0, 0, 0, 0, 0, 0, 0, 0, 0, 0, 0, 0, 0, 0, 0, 0, 0, 0, 0, 0, 0, 0, 0, 0, 0, 0, 0, 0, 0, 0, 0, 0, 0, 0, 0, 0, 0, 0, 0, 0, 0, 0, 0, 0, 0, 1, 0, 0, 0, 0, 0, 0, 0, 0, 0, 0, 0, 0, 0, 0, 0, 0, 0, 0, 0, 0, 0, 0, 0, 0, 0, 0, 0, 0, 0, 0, 0, 0, 0, 0, 0, 0, 0, 0, 0, 0, 0, 0, 0, 0, 0, 0, 0, 0, 0, 0, 0, 0, 0, 0, 0, 0, 0, 0, 0, 0, 0, 0, 0, 0, 0, 0, 0, 0, 0, 0, 0, 0, 0, 0, 0, 0, 0, 0, 0, 0, 0, 0, 0, 0, 0, 0, 0, 0, 0, 0, 0, 0, 0, 0, 0, 0, 0, 0, 0, 0, 0, 0, 0, 0, 0, 0, 0, 0, 0, 0, 0, 0, 0, 0, 0, 0, 0, 0, 0, 0, 0, 0, 0, 0, 0, 0, 0, 0, 0, 0, 0, 0, 0, 0, 0, 0, 0, 0, 0, 0, 0, 0, 0, 0, 0, 0, 0, 0, 0, 0, 0, 0, 0, 0, 0, 0, 0, 0, 0, 0, 0, 0, 0, 0, 0, 0, 0, 0, 0, 0, 0, 0, 0, 0, 0, 0, 0, 0, 0, 0, 0, 0, 0, 0, 0, 0, 0, 0, 0, 0, 0, 0, 0, 0, 0, 0, 0, 0, 0, 0, 0, 0, 0, 0, 0, 0, 0, 0, 0, 0, 0, 0, 0, 0, 0, 0, 0, 0, 0, 0, 0, 0, 0, 0, 0, 0, 0, 0, 0, 0, 0, 0, 0, 0, 0, 0, 0, 0, 0, 0, 0, 0, 0, 0, 0, 0, 0, 0, 0, 0, 0, 0, 0, 0, 0, 0, 0, 0, 0, 0, 0, 0, 0, 0, 0, 0, 0, 0, 0, 0, 0, 0, 0, 0, 0, 0, 0, 0, 0, 0, 0, 0, 0, 0, 0, 0, 0, 0, 0, 0, 0, 0, 0, 0, 0, 0, 0, 0, 0, 0, 0, 0, 0, 0, 0, 0, 0, 0, 0, 0, 0, 0, 0, 0, 0, 0, 0, 0, 0, 0, 0, 0, 0, 0, 0, 0, 0, 0, 0, 0, 0, 0, 0, 0, 0, 0, 0, 0, 0, 0, 0, 0, 0, 0, 0, 0, 0, 0, 0, 0, 0, 0, 0, 0, 0, 0, 0, 0, 0, 0, 0, 0, 0, 0, 0, 0, 0, 0, 0, 0, 0, 0, 0, 0, 0, 0, 0, 0, 0, 0, 0, 0, 0, 0, 0, 0, 0, 0, 0, 0, 0, 0, 0, 0, 0, 0, 0, 0, 0, 0, 0, 0, 0, 0, 0, 0, 0, 0, 0, 0, 0, 0, 0, 0, 0, 0, 0, 0, 0, 0, 0, 0, 0, 0, 0, 0, 0, 0, 0, 0, 0, 0, 0, 0, 0, 0, 0, 0, 0, 0, 0, 0, 0, 0, 0, 0, 0, 0, 0, 0, 0, 0, 0, 0, 0, 0, 0, 0, 0, 0, 0, 0, 0, 2, 0, 1, 0], type: <class 'list'>, valid types: <class 'bytes'>, <class 'bytearray'>, file-like object"
     ]
    }
   ],
   "source": [
    "response = runtime.invoke_endpoint(EndpointName = xgb_predictor.endpoint, # The name of the endpoint we created\n",
    "                                       ContentType = 'text/csv',                     # The data format that is expected\n",
    "                                       Body = test_bow)"
   ]
  },
  {
   "cell_type": "markdown",
   "metadata": {},
   "source": [
    "So why did we get an error?\n",
    "\n",
    "Because we tried to send the endpoint a list of integers but it expected us to send data of type `text/csv`. So, we need to convert it."
   ]
  },
  {
   "cell_type": "code",
   "execution_count": 64,
   "metadata": {},
   "outputs": [],
   "source": [
    "response = runtime.invoke_endpoint(EndpointName = xgb_predictor.endpoint, # The name of the endpoint we created\n",
    "                                       ContentType = 'text/csv',                     # The data format that is expected\n",
    "                                       Body = ','.join([str(val) for val in test_bow]).encode('utf-8'))"
   ]
  },
  {
   "cell_type": "code",
   "execution_count": 65,
   "metadata": {},
   "outputs": [
    {
     "name": "stdout",
     "output_type": "stream",
     "text": [
      "{'ResponseMetadata': {'RequestId': '89b6f531-5b09-42eb-a790-250525c2d20f', 'HTTPStatusCode': 200, 'HTTPHeaders': {'x-amzn-requestid': '89b6f531-5b09-42eb-a790-250525c2d20f', 'x-amzn-invoked-production-variant': 'AllTraffic', 'date': 'Wed, 29 Jul 2020 02:29:51 GMT', 'content-type': 'text/csv; charset=utf-8', 'content-length': '14'}, 'RetryAttempts': 0}, 'ContentType': 'text/csv; charset=utf-8', 'InvokedProductionVariant': 'AllTraffic', 'Body': <botocore.response.StreamingBody object at 0x7f217c43ee48>}\n"
     ]
    }
   ],
   "source": [
    "print(response)"
   ]
  },
  {
   "cell_type": "markdown",
   "metadata": {},
   "source": [
    "As we can see, the response from our model is a somewhat complicated looking dict that contains a bunch of information. The bit that we are most interested in is `'Body'` object which is a streaming object that we need to `read` in order to make use of."
   ]
  },
  {
   "cell_type": "code",
   "execution_count": 66,
   "metadata": {},
   "outputs": [
    {
     "name": "stdout",
     "output_type": "stream",
     "text": [
      "0.370948821306\n"
     ]
    }
   ],
   "source": [
    "response = response['Body'].read().decode('utf-8')\n",
    "print(response)"
   ]
  },
  {
   "cell_type": "markdown",
   "metadata": {},
   "source": [
    "Now that we know how to process the incoming user data we can start setting up the infrastructure to make our simple web app work. To do this we will make use of two different services. Amazon's Lambda and API Gateway services.\n",
    "\n",
    "Lambda is a service which allows someone to write some relatively simple code and have it executed whenever a chosen trigger occurs. For example, you may want to update a database whenever new data is uploaded to a folder stored on S3.\n",
    "\n",
    "API Gateway is a service that allows you to create HTTP endpoints (url addresses) which are connected to other AWS services. One of the benefits to this is that you get to decide what credentials, if any, are required to access these endpoints.\n",
    "\n",
    "In our case we are going to set up an HTTP endpoint through API Gateway which is open to the public. Then, whenever anyone sends data to our public endpoint we will trigger a Lambda function which will send the input (in our case a review) to our model's endpoint and then return the result."
   ]
  },
  {
   "cell_type": "markdown",
   "metadata": {},
   "source": [
    "### Setting up a Lambda function\n",
    "\n",
    "The first thing we are going to do is set up a Lambda function. This Lambda function will be executed whenever our public API has data sent to it. When it is executed it will receive the data, perform any sort of processing that is required, send the data (the review) to the SageMaker endpoint we've created and then return the result.\n",
    "\n",
    "#### Part A: Create an IAM Role for the Lambda function\n",
    "\n",
    "Since we want the Lambda function to call a SageMaker endpoint, we need to make sure that it has permission to do so. To do this, we will construct a role that we can later give the Lambda function.\n",
    "\n",
    "Using the AWS Console, navigate to the **IAM** page and click on **Roles**. Then, click on **Create role**. Make sure that the **AWS service** is the type of trusted entity selected and choose **Lambda** as the service that will use this role, then click **Next: Permissions**.\n",
    "\n",
    "In the search box type `sagemaker` and select the check box next to the **AmazonSageMakerFullAccess** policy. Then, click on **Next: Review**.\n",
    "\n",
    "Lastly, give this role a name. Make sure you use a name that you will remember later on, for example `LambdaSageMakerRole`. Then, click on **Create role**."
   ]
  },
  {
   "cell_type": "markdown",
   "metadata": {},
   "source": [
    "#### Part B: Create a Lambda function\n",
    "\n",
    "Now it is time to actually create the Lambda function. Remember from earlier that in order to process the user provided input and send it to our endpoint we need to gather two pieces of information:\n",
    "\n",
    " - The name of the endpoint, and\n",
    " - the vocabulary object.\n",
    "\n",
    "We will copy these pieces of information to our Lambda function after we create it.\n",
    "\n",
    "To start, using the AWS Console, navigate to the AWS Lambda page and click on **Create a function**. When you get to the next page, make sure that **Author from scratch** is selected. Now, name your Lambda function, using a name that you will remember later on, for example `sentiment_analysis_xgboost_func`. Make sure that the **Python 3.6** runtime is selected and then choose the role that you created in the previous part. Then, click on **Create Function**.\n",
    "\n",
    "On the next page you will see some information about the Lambda function you've just created. If you scroll down you should see an editor in which you can write the code that will be executed when your Lambda function is triggered. Collecting the code we wrote above to process a single review and adding it to the provided example `lambda_handler` we arrive at the following.\n",
    "\n",
    "```python\n",
    "# We need to use the low-level library to interact with SageMaker since the SageMaker API\n",
    "# is not available natively through Lambda.\n",
    "import boto3\n",
    "\n",
    "# And we need the regular expression library to do some of the data processing\n",
    "import re\n",
    "\n",
    "REPLACE_NO_SPACE = re.compile(\"(\\.)|(\\;)|(\\:)|(\\!)|(\\')|(\\?)|(\\,)|(\\\")|(\\()|(\\))|(\\[)|(\\])\")\n",
    "REPLACE_WITH_SPACE = re.compile(\"(<br\\s*/><br\\s*/>)|(\\-)|(\\/)\")\n",
    "\n",
    "def review_to_words(review):\n",
    "    words = REPLACE_NO_SPACE.sub(\"\", review.lower())\n",
    "    words = REPLACE_WITH_SPACE.sub(\" \", words)\n",
    "    return words\n",
    "    \n",
    "def bow_encoding(words, vocabulary):\n",
    "    bow = [0] * len(vocabulary) # Start by setting the count for each word in the vocabulary to zero.\n",
    "    for word in words.split():  # For each word in the string\n",
    "        if word in vocabulary:  # If the word is one that occurs in the vocabulary, increase its count.\n",
    "            bow[vocabulary[word]] += 1\n",
    "    return bow\n",
    "\n",
    "\n",
    "def lambda_handler(event, context):\n",
    "    \n",
    "    vocab = \"*** ACTUAL VOCABULARY GOES HERE ***\"\n",
    "    \n",
    "    words = review_to_words(event['body'])\n",
    "    bow = bow_encoding(words, vocab)\n",
    "\n",
    "    # The SageMaker runtime is what allows us to invoke the endpoint that we've created.\n",
    "    runtime = boto3.Session().client('sagemaker-runtime')\n",
    "\n",
    "    # Now we use the SageMaker runtime to invoke our endpoint, sending the review we were given\n",
    "    response = runtime.invoke_endpoint(EndpointName = '***ENDPOINT NAME HERE***',# The name of the endpoint we created\n",
    "                                       ContentType = 'text/csv',                 # The data format that is expected\n",
    "                                       Body = ','.join([str(val) for val in bow]).encode('utf-8')) # The actual review\n",
    "\n",
    "    # The response is an HTTP response whose body contains the result of our inference\n",
    "    result = response['Body'].read().decode('utf-8')\n",
    "    \n",
    "    # Round the result so that our web app only gets '1' or '0' as a response.\n",
    "    result = round(float(result))\n",
    "\n",
    "    return {\n",
    "        'statusCode' : 200,\n",
    "        'headers' : { 'Content-Type' : 'text/plain', 'Access-Control-Allow-Origin' : '*' },\n",
    "        'body' : str(result)\n",
    "    }\n",
    "```"
   ]
  },
  {
   "cell_type": "markdown",
   "metadata": {},
   "source": [
    "Once you have copy and pasted the code above into the Lambda code editor, replace the `**ENDPOINT NAME HERE**` portion with the name of the endpoint that we deployed earlier. You can determine the name of the endpoint using the code cell below."
   ]
  },
  {
   "cell_type": "code",
   "execution_count": 69,
   "metadata": {},
   "outputs": [
    {
     "data": {
      "text/plain": [
       "'xgboost-2020-07-29-01-50-02-462'"
      ]
     },
     "execution_count": 69,
     "metadata": {},
     "output_type": "execute_result"
    }
   ],
   "source": [
    "xgb_predictor.endpoint"
   ]
  },
  {
   "cell_type": "markdown",
   "metadata": {},
   "source": [
    "In addition, you will need to copy the vocabulary dict to the appropriate place in the code at the beginning of the `lambda_handler` method. The cell below prints out the vocabulary dict in a way that is easy to copy and paste."
   ]
  },
  {
   "cell_type": "code",
   "execution_count": 68,
   "metadata": {},
   "outputs": [
    {
     "name": "stdout",
     "output_type": "stream",
     "text": [
      "{'this': 4457, 'final': 1722, 'entry': 1504, 'in': 2257, 'george': 1893, 'star': 4150, 'wars': 4804, 'movies': 2927, 'is': 2360, 'often': 3095, 'as': 311, 'the': 4426, 'weakest': 4825, 'of': 3083, 'lot': 2661, 'however': 2183, 'not': 3040, 'to': 4507, 'say': 3799, 'that': 4424, 'it': 2366, 'totally': 4532, 'worthless': 4954, 'series': 3890, 'on': 3105, 'contrary': 974, 'sure': 4308, 'its': 2370, 'and': 226, 'bit': 488, 'more': 2904, 'slow': 4031, 'going': 1931, 'at': 331, 'times': 4497, 'but': 636, 'return': 3665, 'still': 4188, 'offers': 3090, 'price': 3389, 'first': 1736, 'third': 4455, 'movie': 2926, 'where': 4864, 'luke': 2687, 'his': 2118, 'friends': 1837, 'rescue': 3643, 'from': 1840, 'classic': 835, 'truly': 4597, 'disgusting': 1286, 'blob': 507, 'flesh': 1753, 'who': 4871, 'speaks': 4096, 'own': 3158, 'language': 2516, 'only': 3110, 'makes': 2716, 'great': 1964, 'villain': 4744, 'memorable': 2802, 'one': 3107, 'too': 4522, 'must': 2950, 'have': 2052, 'been': 438, 'nightmare': 3014, 'giant': 1905, 'much': 2934, 'less': 2575, 'give': 1912, 'life': 2592, 'we': 4823, 'see': 3855, 'finished': 1733, 'product': 3418, 'actually': 109, 'what': 4858, 'also': 199, 'sequence': 3887, 'fun': 1848, 'clever': 841, 'use': 4692, 'for': 1784, 'various': 4715, 'members': 2801, 'court': 1020, 'including': 2264, 'scary': 3807, 'pit': 3278, 'monster': 2892, 'builds': 617, 'climax': 849, 'pulls': 3464, 'all': 187, 'while': 4868, 'things': 4451, 'get': 1899, 'little': 2624, 'around': 297, 'second': 3846, 'act': 97, 'discovers': 1281, 'he': 2056, 'are': 285, 'related': 3594, 'by': 642, 'blood': 512, 'when': 4862, 'travel': 4567, 'forest': 1791, 'planet': 3289, 'home': 2142, 'yet': 4984, 'most': 2909, 'about': 67, 'ive': 2372, 'read': 3543, 'seem': 3861, 'be': 418, 'centered': 733, 'these': 4441, 'creatures': 1046, 'they': 4442, 'somehow': 4063, 'tone': 4517, 'saga': 3773, 'dont': 1324, 'agree': 155, 'with': 4911, 'although': 201, 'moment': 2886, 'probably': 3407, 'played': 3297, 'out': 3141, 'longer': 2645, 'than': 4420, 'should': 3951, 'their': 4431, 'leader': 2546, 'davis': 1126, 'creation': 1040, 'watching': 4815, 'how': 2181, 'handle': 2018, 'troops': 4591, 'technology': 4385, 'simple': 3983, 'natural': 2973, 'weapons': 4829, 'provides': 3450, 'nice': 3008, 'contrast': 975, 'time': 4495, 'though': 4461, 'pace': 3161, 'picks': 3268, 'up': 4683, 'again': 146, 'between': 475, 'battle': 414, 'against': 147, 'rebel': 3561, 'forces': 1788, 'an': 223, 'attack': 337, 'new': 3003, 'half': 2007, 'death': 1141, 'showdown': 3955, 'latter': 2528, 'ties': 4490, 'highlight': 2103, 'mark': 2739, 'acting': 99, 'once': 3106, 'scenes': 3811, 'him': 2110, 'fully': 1847, 'unforgettable': 4652, 'performance': 3228, 'james': 2378, 'earl': 1398, 'jones': 2418, 'voice': 4761, 'like': 2599, 'frightening': 1839, 'evil': 1548, 'ian': 2209, 'tension': 4404, 'trio': 4587, 'excitement': 1562, 'climactic': 848, 'which': 4867, 'lit': 2621, 'always': 203, 'set': 3898, 'standards': 4145, 'special': 4097, 'effects': 1431, 'technical': 4381, 'work': 4940, 'can': 665, 'easily': 1406, 'hold': 2129, 'space': 4090, 'fights': 1710, 'chase': 769, 'through': 4477, 'course': 1019, 'given': 1913, 'was': 4805, 'made': 2697, 'after': 143, 'hope': 2155, 'empire': 1464, 'strikes': 4225, 'back': 378, 'shouldnt': 3952, 'so': 4046, 'surprising': 4315, 'reached': 3537, 'even': 1533, 'greater': 1965, 'level': 2584, 'fare': 1655, 'ford': 1789, 'carrie': 697, 'fisher': 1739, 'mature': 2773, 'into': 2332, 'roles': 3727, 'anthony': 253, 'hilarious': 2106, 'moments': 2887, 'frank': 1821, 'appears': 278, 'two': 4620, 'yes': 4982, 'theres': 4440, 'john': 2409, 'williams': 4888, 'music': 2946, 'told': 4513, 'middle': 2833, 'acts': 107, 'deliver': 1169, 'style': 4249, 'making': 2718, 'rather': 3528, 'finale': 1723, 'greatest': 1966, 'ever': 1538, 'lucas': 2680, 're': 3535, 'released': 3603, 'restored': 3659, 'featured': 1679, 'added': 116, 'or': 3124, 'shots': 3950, 'well': 4843, 'some': 4061, 'three': 4469, 'caused': 724, 'fans': 1650, 'perhaps': 3235, 'due': 1382, 'place': 3282, 'albeit': 173, 'funny': 1852, 'if': 2222, 'youre': 4992, 'offended': 3085, 'rocks': 3722, 'musical': 2947, 'number': 3060, 'technically': 4382, 'amazing': 209, 'does': 1308, 'flow': 1762, 'film': 1716, 'did': 1241, 'ending': 1471, 'montage': 2894, 'dvd': 1391, 'version': 4720, 'features': 1680, 'notably': 3042, 'hear': 2061, 'sounds': 4084, 'screaming': 3827, 'free': 1827, 'controversial': 978, 'change': 749, 'closing': 859, 'intense': 2316, 'somewhat': 4068, 'episode': 1507, 'ii': 2226, 'seems': 3864, 'inevitable': 2282, 'would': 4957, 'put': 3480, 'edition': 1422, 'down': 1335, 'alone': 194, 'chances': 748, 'you': 4986, 'may': 2775, 'react': 3540, 'nonetheless': 3029, 'issue': 2364, 'raised': 3508, 'best': 469, 'warned': 4798, 'release': 3602, 'original': 3129, 'versions': 4721, 'films': 1721, 'stands': 4147, 'said': 3774, 'being': 448, 'trilogy': 4586, 'viewing': 4740, 'altogether': 202, 'complete': 921, 'intended': 2315, 'sense': 3877, 'keep': 2449, 'them': 4432, 'consistent': 953, 'will': 4886, 'our': 3139, 'memories': 2803, 'just': 2437, 'chance': 747, 'no': 3020, 'idea': 2213, 'producers': 3416, 'were': 4848, 'trying': 4601, 'do': 1302, 'result': 3660, 'itself': 2371, 'practically': 3362, 'unwatchable': 4682, 'supposedly': 4307, 'performances': 3229, 'reality': 3551, 'show': 3953, 'badly': 383, 'together': 4511, 'cant': 671, 'really': 3556, 'instance': 2304, 'editing': 1421, 'cuts': 1091, 'away': 369, 'reaction': 3541, 'before': 440, 'theyve': 4446, 'had': 2003, 'full': 1846, 'impact': 2244, 'know': 2489, 'intellectual': 2312, 'there': 4438, 'emotional': 1459, 'ill': 2228, 'point': 3316, 'subject': 4253, 'matter': 2769, 'thats': 4425, 'pretty': 3384, 'shame': 3918, 'talented': 4355, 'performer': 3231, 'waste': 4808, 'gift': 1906, 'something': 4066, 'strangely': 4212, 'filmed': 1717, 'black': 493, 'topic': 4526, 'criminal': 1057, 'rape': 3521, 'never': 3001, 'onto': 3111, 'american': 213, 'lots': 2662, 'hollywood': 2137, 'production': 3419, 'code': 869, 'kept': 2456, 'hidden': 2096, 'until': 4680, '1960s': 15, 'take': 4349, 'independent': 2272, 'company': 910, 'filmmakers': 1720, 'raise': 3507, 'meaning': 2780, 'since': 3990, 'director': 1264, 'demands': 1175, 'ann': 244, 'powers': 3361, 'main': 2707, 'problem': 3408, 'following': 1774, 'assault': 324, 'others': 3136, 'might': 2835, 'her': 2085, 'she': 3923, 'sees': 3866, 'herself': 2092, 'heavy': 2070, 'load': 2631, 'shes': 3930, 'carrying': 701, 'able': 66, 'relate': 3593, 'men': 2805, 'look': 2646, 'spoiled': 4122, 'small': 4033, 'wonder': 4926, 'runs': 3757, 'face': 1616, 'family': 1645, 'generally': 1881, 'overall': 3150, 'part': 3193, 'done': 1322, 'action': 100, 'plot': 3309, 'then': 4436, 'notice': 3048, 'neighbor': 2992, 'fails': 1628, 'near': 2979, 'chases': 771, 'end': 1468, 'those': 4460, 'screams': 3828, 'instead': 2307, 'neighbors': 2994, 'lack': 2502, 'response': 3654, 'interesting': 2325, 'over': 3148, 'person': 3238, 'andrews': 229, 'quote': 3496, 'gives': 1914, 'courage': 1018, 'effort': 1432, 'hes': 2093, 'interested': 2324, 'gentle': 1890, 'understanding': 4645, 'presence': 3373, 'comes': 891, 'across': 96, 'fortunately': 1805, 'usual': 4699, 'cop': 991, 'happy': 2032, 'resolution': 3649, 'credit': 1049, 'dealing': 1136, 'results': 3662, 'expect': 1575, 'dealt': 1138, 'honestly': 2147, 'allowed': 190, 'todays': 4509, 'audiences': 353, 'find': 1726, 'treatment': 4574, 'mildly': 2840, 'mainly': 2708, 'because': 432, 'excellent': 1555, 'brings': 587, 'purely': 3472, 'human': 2188, 'drama': 1346, 'works': 4945, 'now': 3054, 'cultural': 1078, 'day': 1129, 'thought': 4462, 'appropriate': 283, 'adult': 125, 'wondered': 4927, 'happen': 2026, 'couple': 1016, 'characters': 760, 'hills': 2109, 'thrown': 4481, 'your': 4991, 'midnight': 2834, 'express': 1600, 'mtv': 2933, 'crowd': 1067, 'ok': 3098, 'story': 4207, 'poorly': 3329, 'executed': 1565, 'contrived': 976, 'twists': 4619, 'poor': 3328, 'dialogue': 1234, 'issues': 2365, 'slight': 4027, 'right': 3696, 'ends': 1474, 'potential': 3355, 'spoiler': 4123, 'line': 2610, 'filled': 1715, 'hotel': 2175, 'girls': 1911, 'room': 3735, 'kick': 2460, 'same': 3778, 'arrested': 298, 'later': 2525, 'found': 1811, 'big': 478, 'city': 825, 'mind': 2849, '40': 48, 'years': 4979, 'prison': 3401, 'rent': 3626, 'another': 250, 'has': 2043, 'good': 1937, 'cast': 710, 'david': 1124, 'sincere': 3991, 'child': 789, 'danny': 1112, 'plays': 3301, 'perfect': 3224, 'southern': 4088, 'husband': 2204, 'slick': 4026, 'soundtrack': 4085, 'murder': 2939, 'several': 3905, 'desire': 1205, 'make': 2713, 'showing': 3958, 'bergman': 466, 'smiling': 4037, 'camera': 659, 'short': 3946, 'answer': 251, 'wouldnt': 4958, 'whilst': 4869, 'harsh': 2040, 'few': 1700, 'got': 1944, 'stage': 4139, 'career': 686, 'couldnt': 1008, 'left': 2561, 'picture': 3269, 'europe': 1529, 'fell': 1690, 'looked': 2647, 'forward': 1808, 'five': 1743, 'italy': 2368, 'ready': 3546, 'open': 3112, 'within': 4912, 'year': 4978, 'oscar': 3133, 'boot': 538, 'color': 877, 'balance': 387, 'better': 472, 'golden': 1934, 'coach': 868, 'isnt': 2362, 'hard': 2033, 'french': 1830, 'figured': 1712, 'could': 1007, 'wooden': 4934, 'leading': 2547, 'picked': 3266, 'jean': 2389, 'mel': 2796, 'solid': 4057, 'both': 547, 'cases': 708, 'based': 404, 'real': 3547, 'incident': 2260, 'history': 2121, 'content': 966, 'father': 1666, 'colors': 879, 'resembles': 3646, 'period': 3236, 'bad': 382, 'thing': 4450, 'remains': 3611, 'pleasant': 3302, 'beautiful': 428, 'charismatic': 763, 'actress': 105, 'young': 4989, 'student': 4238, 'union': 4661, 'soviet': 4089, 'came': 656, 'art': 304, 'form': 1798, 'saw': 3798, 'hours': 2177, 'epic': 1506, 'way': 4820, 'far': 1653, 'negative': 2991, 'directors': 1266, 'defense': 1159, 'cinema': 816, 'my': 2951, 'taste': 4369, 'side': 3965, 'character': 758, 'eric': 1514, 'finds': 1728, 'himself': 2111, 'center': 732, 'similarly': 3980, 'promising': 3433, 'premise': 3370, 'unfortunately': 4654, 'ensues': 1493, 'largely': 2518, 'certainly': 738, 'william': 4887, 'et': 1526, 'al': 170, 'brilliant': 583, 'perform': 3227, 'here': 2086, 'talents': 4356, 'wasted': 4809, 'stereotypes': 4179, 'kind': 2476, 'thoroughly': 4459, 'exception': 1557, 'suppose': 4305, 'attempt': 340, 'break': 569, 'peoples': 3222, 'ideas': 2215, 'weak': 4824, 'depicting': 1184, 'entirely': 1503, 'annoying': 249, 'experience': 1580, 'admittedly': 123, 'go': 1924, 'useful': 4694, 'process': 3412, 'depicted': 1183, 'difficult': 1249, 'along': 195, 'worth': 4953, 'either': 1438, 'surely': 4309, 'ground': 1979, 'somewhere': 4069, 'conclusion': 936, 'come': 886, 'accept': 80, 'status': 4165, 'such': 4268, 'beginning': 443, 'care': 684, 'addition': 118, 'problems': 3409, 'suffers': 4278, 'weird': 4841, 'many': 2732, 'suffer': 4275, 'doesnt': 1309, 'official': 3094, 'name': 2960, 'call': 651, 'goes': 1930, 'abuse': 74, 'crap': 1031, 'each': 1395, 'other': 3135, 'without': 4913, 'especially': 1520, 'obnoxious': 3067, 'example': 1553, 'club': 863, 'spends': 4107, 'everybody': 1540, 'love': 2669, 'latest': 2526, 'examples': 1554, 'manhattan': 2726, '15': 7, 'minutes': 2859, 'off': 3084, 'amounts': 220, 'called': 652, 'word': 4937, 'racist': 3503, 'previous': 3387, 'scene': 3809, 'next': 3007, 'nothing': 3047, 'happened': 2027, 'hence': 2083, 'oh': 3096, 'yeah': 4977, 'sorry': 4076, 'business': 633, 'me': 2778, 'people': 3221, 'watch': 4811, 'eyes': 1613, 'closed': 854, 'slap': 4018, 'according': 88, 'days': 1130, 'telling': 4396, 'reviews': 3679, 'imdb': 2240, 'entire': 1502, 'youve': 4995, 'guessed': 1990, 'turns': 4609, 'anything': 260, 'marketing': 2741, 'fairly': 1631, 'case': 707, 'terrible': 4407, 'stops': 4203, 'plus': 3311, 'patrick': 3213, 'job': 2405, 'menacing': 2807, 'having': 2054, 'takes': 4351, 'play': 3296, 'par': 3184, 'visuals': 4759, 'dream': 1354, 'sequences': 3888, 'fact': 1621, 'decided': 1149, 'explore': 1594, 'actual': 108, 'concept': 930, 'understand': 4643, 'disbelief': 1277, 'necessary': 2984, 'any': 256, 'succeeds': 4264, 'letting': 2583, 'yourself': 4993, 'annoyed': 248, 'illogical': 2231, 'plain': 3286, 'silly': 3976, 'losing': 2658, 'happening': 2028, 'reviewers': 3678, 'mentioned': 2811, 'want': 4788, 'territory': 4411, 'particularly': 3195, 'ludicrous': 2685, 'disappointing': 1274, 'mention': 2810, 'mental': 2808, 'age': 148, 'supposed': 4306, 'experienced': 1581, 'sadly': 3769, 'realise': 3548, 'quite': 3495, 'why': 4878, 'gave': 1875, 'documentary': 1307, 'political': 3324, 'reasons': 3560, 'investigate': 2342, 'sides': 3967, 'propaganda': 3435, 'seen': 3865, 'narrative': 2966, 'cia': 814, 'involvement': 2347, 'latin': 2527, 'america': 212, 'civil': 826, 'national': 2970, 'security': 3854, 'country': 1014, 'elsewhere': 1449, 'clearly': 840, 'shooting': 3943, 'non': 3027, 'existent': 1572, 'makers': 2715, 'stayed': 4167, 'images': 2235, 'lovely': 2671, 'model': 2880, 'york': 4985, 'seeks': 3860, 'apartment': 265, 'begins': 444, 'meet': 2793, 'strange': 4211, 'reveal': 3670, 'secret': 3849, 'building': 615, 'slowly': 4032, 'kinds': 2478, 'neat': 2982, 'elements': 1443, 'roman': 3731, 'catholic': 720, 'church': 813, 'vs': 4767, 'devil': 1228, 'hell': 2077, 'bizarre': 492, 'growing': 1983, 'conspiracy': 956, 'finally': 1724, 'host': 2173, 'famous': 1647, 'actors': 104, 'actresses': 106, 'chris': 806, 'jerry': 2396, 'arthur': 305, 'kennedy': 2454, 'miles': 2843, 'martin': 2748, 'christopher': 811, 'tom': 4514, 'jeff': 2390, 'forget': 1793, 'carradine': 695, 'old': 3100, 'priest': 3392, 'ham': 2011, 'giving': 1915, 'fine': 1729, 'comic': 893, 'demented': 1176, 'bird': 484, 'cat': 713, 'performers': 3232, 'virtually': 4751, 'role': 3726, 'cameo': 657, 'horror': 2168, 'plenty': 3307, 'psychological': 3458, 'terrifying': 4410, 'chilling': 794, 'fault': 1668, 'gratuitous': 1961, 'sex': 3907, 'violence': 4747, 'whole': 4873, 'think': 4452, 'daughter': 1121, 'stuff': 4243, 'winning': 4898, 'michael': 2829, 'winner': 4897, 'effective': 1429, 'creating': 1039, 'wasnt': 4807, 'impressed': 2251, 'admit': 122, 'very': 4723, 'high': 2100, 'values': 4710, 'entertainment': 1500, 'consider': 949, 'overrated': 3156, '50s': 52, 'won': 4925, 'boring': 543, 'dancing': 1107, 'unlike': 4670, 'musicals': 2948, 'reasonable': 3558, 'songs': 4072, 'strong': 4229, 'st': 4137, 'louis': 2665, 'almost': 193, 'singing': 3995, 'song': 4071, 'dance': 1103, 'arent': 288, 'quickly': 3491, 'bore': 540, 'numbers': 3061, 'satisfy': 3790, 'long': 2644, 'run': 3755, 'beat': 423, 'named': 2961, 'sun': 4292, 'matters': 2770, 'worse': 4951, 'african': 142, 'queen': 3485, 'hole': 2132, 'werent': 4849, 'nominated': 3025, 'category': 718, 'lost': 2660, 'writing': 4971, 'screenplay': 3831, 'paris': 3189, 'hardly': 2036, 'speak': 4094, 'mostly': 2910, 'driven': 1365, 'justify': 2439, 'failed': 1626, 'crew': 1053, 'theater': 4427, 'ran': 3513, 'hit': 2122, 'flop': 1760, 'nobody': 3022, 'justice': 2438, 'deserve': 1199, 'bet': 470, 'sucks': 4271, 'fooled': 1780, 'advertising': 132, 'spoken': 4126, 'commercial': 902, 'comedy': 890, 'funnier': 1850, 'seeing': 3857, 'ad': 110, 'brother': 598, 'went': 4847, 'didnt': 1242, 'used': 4693, 'tv': 4610, 'last': 2521, 'guess': 1989, 'else': 1448, 'youth': 4994, 'fu': 1844, 'bright': 581, 'asian': 314, 'elvis': 1451, 'rock': 3720, 'singers': 3994, 'sellers': 3872, 'material': 2766, 'hand': 2015, 'reason': 3557, 'comedic': 888, 'rest': 3657, 'dull': 1384, 'sat': 3786, 'barely': 399, 'laughing': 2533, 'expecting': 1578, 'pink': 3277, 'type': 4621, 'died': 1244, 'appearance': 274, 'entertaining': 1499, 'conceived': 929, 'everyone': 1542, 'involved': 2346, 'stars': 4155, 'generous': 1886, 'ago': 154, 'feel': 1684, 'shows': 3960, 'wish': 4904, 'true': 4596, 'happiness': 2031, 'sadness': 3770, 'hopeless': 2158, 'failure': 1629, 'enough': 1491, 'heart': 2064, 'belongs': 460, 'different': 1248, 'title': 4504, 'la': 2500, 'literally': 2622, 'means': 2783, 'birth': 486, 'obscure': 3068, 'english': 1483, 'speaking': 4095, 'countries': 1013, 'water': 4816, 'teenage': 4389, 'marie': 2737, 'anne': 246, 'swimming': 4338, 'team': 4378, 'coming': 896, 'development': 1225, 'sexual': 3908, 'feelings': 1686, 'feature': 1678, 'unusual': 4681, 'relationships': 3598, 'themselves': 4435, 'parents': 3188, 'teachers': 4376, 'world': 4946, 'portrayed': 3342, 'shy': 3962, 'jane': 2380, 'blonde': 511, 'popular': 3333, 'boys': 559, 'handsome': 2021, 'male': 2719, 'described': 1195, 'fallen': 1638, 'indeed': 2271, 'crush': 1072, 'attractive': 351, 'friend': 1835, 'friendship': 1838, 'develops': 1226, 'simply': 3986, 'using': 4698, 'excuse': 1564, 'presumably': 3380, 'object': 3066, 'dating': 1120, 'female': 1693, 'despite': 1211, 'image': 2233, 'sexy': 3911, 'girl': 1909, 'attention': 345, 'conventional': 979, 'sexuality': 3909, 'hair': 2005, 'figure': 1711, 'looks': 2649, 'typically': 4624, 'whereas': 4865, 'lesbian': 2573, 'least': 2554, 'common': 906, 'tend': 4400, 'avoid': 363, 'deals': 1137, 'sensitive': 3879, 'louise': 2666, 'complex': 923, 'capable': 672, 'genuinely': 1892, 'romantic': 3733, 'device': 1227, 'hide': 2097, 'outside': 3146, 'basis': 408, 'highly': 2105, '10': 0, 'horrendous': 2162, 'plague': 3285, 'rate': 3526, 'top': 4525, 'worst': 4952, 'mood': 2898, 'sound': 4081, 'etc': 1527, 'appear': 273, 'opens': 3115, 'soft': 4051, 'porn': 3336, 'nude': 3058, 'doing': 1312, 'shower': 3957, 'light': 2595, 'throughout': 4478, 'swear': 4334, 'need': 2987, 'lessons': 2578, 'absolutely': 72, 'piece': 3272, 'cgi': 740, 'close': 853, 'im': 2232, 'amazed': 208, 'distribution': 1298, 'money': 2888, 'theyll': 4444, 'cost': 1003, 'hundred': 2195, 'dollars': 1315, 'awful': 372, 'class': 833, 'laugh': 2529, 'mediocre': 2791, 'gory': 1943, 'forgot': 1796, 'mean': 2779, 'written': 4972, 'wait': 4770, 'unique': 4662, 'genres': 1889, 'genre': 1888, 'living': 2629, 'mummy': 2937, 'blend': 504, 'compelling': 916, 'outstanding': 3147, 'impressive': 2253, 'smaller': 4034, 'cool': 989, 'complaint': 920, 'dialog': 1232, 'wonderful': 4928, 'sci': 3815, 'fi': 1701, 'channel': 753, 'heard': 2062, 'ones': 3108, 'horrible': 2163, 'minute': 2858, 'fight': 1707, 'busy': 635, 'running': 3756, 'sword': 4340, 'except': 1556, 'machine': 2693, 'wanted': 4789, 'destroy': 1213, 'stolen': 4195, 'matrix': 2767, 'ghost': 1902, 'spider': 4109, 'exactly': 1551, 'attacked': 338, 'kings': 2481, 'wood': 4933, 'victim': 4729, 'hello': 2078, 'humans': 2190, 'theme': 4433, 'someone': 4064, 'tell': 4395, 'nazis': 2978, 'juvenile': 2441, 'rushed': 3760, 'decide': 1148, 'childrens': 793, 'disappointment': 1275, 'save': 3794, '12': 3, 'accidentally': 85, 'kills': 2474, 'older': 3101, 'grandfather': 1954, 'realism': 3549, 'lovers': 2673, 'thrills': 4475, 'whenever': 4863, 'man': 2721, 'known': 2492, 'blockbuster': 509, 'comedies': 889, 'train': 4556, 'whose': 4877, 'names': 2963, 'hideous': 2098, 'strike': 4224, 'hearing': 2063, 'torture': 4529, 'mixture': 2878, 'unfunny': 4655, 'toilet': 4512, 'jokes': 2415, 'suspense': 4330, 'witty': 4917, 'secondly': 3847, 'hysterical': 2208, 'decent': 1147, 'felt': 1692, 'compare': 911, 'kapoor': 2443, 'idiots': 2220, 'above': 68, 'flaw': 1749, 'loud': 2664, 'firstly': 1737, 'four': 1812, 'behind': 447, 'stupid': 4247, 'dumb': 1385, 'wins': 4899, 'everything': 1544, 'cash': 709, 'length': 2569, 'hour': 2176, 'leave': 2555, 'critic': 1061, 'responsibility': 3655, 'repeated': 3631, 'situations': 4009, 'mother': 2911, 'law': 2538, 'arrived': 301, 'house': 2178, 'starts': 4159, 'send': 3875, 'shot': 3949, 'acted': 98, 'twin': 4615, 'every': 1539, 'single': 3996, 'revelation': 3674, 'tiny': 4500, 'information': 2288, 'per': 3223, 'feels': 1687, 'downright': 1337, 'brutal': 603, 'dimensional': 1253, 'stand': 4143, 'jack': 2373, 'kate': 2446, 'lead': 2545, 'plots': 3310, 'become': 433, 'sometimes': 4067, 'season': 3843, 'developed': 1223, 'stories': 4205, 'island': 2361, 'previously': 3388, 'brooks': 596, 'missing': 2869, 'enters': 1496, 'miss': 2866, 'france': 1816, 'contest': 967, 'wishes': 4906, 'boyfriend': 558, 'georges': 1894, 'sets': 3899, 'leaving': 2557, 'returns': 3668, 'asked': 317, 'becomes': 434, 'mundane': 2938, 'night': 3013, 'writes': 4970, 'note': 3044, 'leaves': 2556, 'fame': 1642, 'waiting': 4772, 'follows': 1775, 'silent': 3975, 'piano': 3264, 'track': 4544, 'fast': 1661, 'limited': 2606, 'afterwards': 145, 'phony': 3256, 'alright': 198, 'deal': 1135, 'fat': 1663, 'woman': 4921, 'late': 2523, 'widow': 4883, 'lives': 2628, 'brooklyn': 595, 'engaged': 1480, 'marry': 2745, 'johnny': 2410, 'bland': 500, 'duty': 1390, 'wedding': 4836, 'trip': 4588, 'visit': 4755, 'sick': 3963, 'playing': 3300, 'nicholas': 3010, 'cage': 645, 'hasnt': 2044, 'cause': 723, 'accident': 84, 'loss': 2659, 'bride': 577, 'fall': 1637, 'affair': 135, 'respect': 3652, 'tries': 4585, 'dark': 1115, 'win': 4892, 'meanwhile': 2785, 'rose': 3739, 'vincent': 4746, 'college': 875, 'professor': 3422, 'wonders': 4931, 'women': 4923, 'complicated': 925, 'married': 2744, 'pure': 3471, 'sitcom': 4004, 'deep': 1154, 'italian': 2367, 'americans': 214, 'genuine': 1891, 'gets': 1900, 'key': 2458, 'knowing': 2490, 'sudden': 4272, 'recognition': 3568, 'heroine': 2091, 'gender': 1878, 'beauty': 430, 'fire': 1734, 'power': 3359, 'brando': 566, 'central': 735, 'crucial': 1068, 'moon': 2900, 'rare': 3523, 'among': 217, 'elderly': 1440, 'former': 1800, 'tense': 4403, 'reveals': 3673, 'touching': 4536, 'words': 4938, 'wants': 4791, 'stop': 4201, 'mistress': 2874, 'date': 1118, 'choice': 797, 'passion': 3205, 'regular': 3592, 'tour': 4538, 'de': 1131, 'force': 1786, 'situation': 4008, 'beyond': 476, 'tradition': 4549, 'oscars': 3134, 'supporting': 4304, 'proved': 3446, 'grow': 1982, 'fabulous': 1615, 'graphics': 1959, 'kevin': 2457, 'disappear': 1270, 'stopped': 4202, 'continued': 970, 'script': 3834, 'visible': 4753, 'element': 1442, 'gary': 1873, 'andrew': 228, 'listed': 2618, 'credits': 1050, 'exist': 1569, 'bought': 552, 'scripts': 3836, 'us': 4690, 'buy': 640, 'standard': 4144, 'blank': 501, 'fill': 1714, 'lets': 2580, 'split': 4120, 'alien': 183, 'invisible': 2344, 'dead': 1132, 'burn': 625, 'huge': 2185, 'rabbit': 3498, 'shark': 3921, 'minimum': 2856, 'specific': 4099, 'paint': 3173, 'handled': 2019, 'sad': 3767, 'possibilities': 3348, 'fascinating': 1658, 'touched': 4534, 'usually': 4700, 'seconds': 3848, 'incredibly': 2270, 'spoilers': 4124, 'suffice': 4279, 'pulling': 3463, 'spectacular': 4101, 'sally': 3776, 'fields': 1705, 'damn': 1100, 'everyones': 1543, 'pretend': 3381, 'soap': 4047, 'actor': 103, 'girlfriend': 1910, 'wed': 4835, 'eye': 1611, 'partner': 3198, 'terrific': 4409, 'robert': 3713, 'jr': 2423, 'executive': 1567, 'gifted': 1907, 'riveting': 3708, 'angry': 238, 'goldberg': 1933, 'timing': 4498, 'flat': 1748, 'delivery': 1173, 'ya': 4976, 'eighties': 1437, 'ridiculous': 3693, 'bigger': 479, 'pictures': 3270, 'shallow': 3917, 'self': 3869, 'semi': 3874, 'ie': 2221, 'em': 1452, 'thank': 4421, 'illegal': 2229, 'game': 1864, 'walter': 4784, 'chased': 770, 'raymond': 3534, 'zero': 4996, 'guy': 2000, 'killed': 2469, 'body': 527, 'sea': 3838, 'during': 1387, 'dr': 1340, 'reed': 3580, 'richard': 3686, 'widmark': 4882, 'public': 3460, 'health': 2060, 'service': 3896, 'rats': 3531, 'needs': 2990, 'contact': 961, 'forty': 1807, 'eight': 1436, 'mayor': 2777, 'captain': 674, 'warren': 4801, 'paul': 3214, 'douglas': 1334, 'help': 2079, 'clint': 850, 'killers': 2471, 'panic': 3181, 'streets': 4217, 'engaging': 1481, 'dated': 1119, 'seven': 3903, 'performs': 3234, 'debut': 1143, 'escape': 1517, 'vote': 4766, 'brazil': 568, 'loved': 2670, 'fan': 1648, 'fail': 1625, 'delight': 1167, 'apart': 264, 'refreshing': 3586, 'introduced': 2337, 'wealth': 4826, 'talent': 4354, 'start': 4156, 'moore': 2901, 'spot': 4131, 'emotionally': 1460, 'tied': 4489, 'storyline': 4208, 'disagree': 1269, 'superior': 4300, 'produced': 3414, 'decade': 1144, 'believing': 457, 'farce': 1654, 'responsible': 3656, 'parent': 3187, 'let': 2579, 'video': 4733, 'festival': 1697, 'pseudo': 3454, 'co': 867, 'viewer': 4738, 'likely': 2601, 'wholly': 4874, 'adults': 126, 'children': 792, 'afford': 138, 'possible': 3350, 'easy': 1410, 'answers': 252, 'false': 1641, 'devils': 1229, 'ron': 3734, 'emphasis': 1463, 'format': 1799, 'jump': 2429, 'yellow': 4981, 'un': 4630, 'cold': 872, 'nights': 3016, 'loves': 2674, 'whats': 4860, 'bollywood': 530, 'spirit': 4113, 'bunch': 623, 'poetic': 3313, 'lines': 2612, 'kids': 2467, 'changes': 751, 'remarks': 3615, 'focused': 1767, 'meant': 2784, 'confusing': 942, 'saved': 3795, 'try': 4600, 'live': 2625, 'casting': 711, 'unnecessary': 4672, 'maybe': 2776, 'okay': 3099, 'revealing': 3672, 'saying': 3800, 'fit': 1740, 'personally': 3243, 'anyway': 261, 'getting': 1901, 'drunk': 1375, 'appeal': 271, 'door': 1328, 'creepy': 1052, 'guard': 1988, 'screen': 3829, 'disaster': 1276, 'stuck': 4237, 'revealed': 3671, 'became': 431, 'average': 362, 'scares': 3806, 'bored': 541, 'shut': 3961, 'homeless': 2143, 'cheap': 774, 'laughs': 2534, 'nowadays': 3055, 'looking': 2648, 'scare': 3803, 'mindless': 2851, 'gore': 1941, 'fest': 1696, 'serious': 3891, 'terribly': 4408, 'awfully': 373, 'suspenseful': 4331, 'turn': 4605, 'mile': 2842, 'cares': 690, 'wont': 4932, 'shown': 3959, 'grew': 1972, '1980s': 21, 'grown': 1984, 'era': 1513, '80s': 59, 'teen': 4388, 'summer': 4291, 'camp': 662, 'gags': 1862, 'substance': 4258, 'attempts': 343, 'humor': 2192, 'cruel': 1070, 'offensive': 3086, 'nostalgia': 3038, 'clothing': 861, 'styles': 4250, 'notch': 3043, 'hollywoods': 2138, 'present': 3374, 'fox': 1814, 'wonderfully': 4929, 'photographed': 3258, 'member': 2800, 'blind': 506, 'adventures': 131, 'tragic': 4552, 'countryside': 1015, 'hearts': 2066, 'warm': 4794, 'score': 3822, 'lyrics': 2692, 'narration': 2965, 'general': 1880, 'terms': 4406, 'biggest': 480, 'doubt': 1332, 'surviving': 4323, 'tough': 4537, 'bear': 420, 'believe': 454, 'roll': 3728, 'suck': 4269, 'insult': 2309, 'thinking': 4453, 'earth': 1403, 'edward': 1426, 'arnold': 296, 'project': 3427, 'further': 1853, 'amount': 219, 'offer': 3087, 'international': 2326, 'paid': 3169, 'equipment': 1511, 'budget': 610, 'directing': 1260, 'produce': 3413, 'vice': 4727, 'bottom': 551, 'affect': 136, 'reading': 3544, 'book': 535, 'wannabe': 4787, 'buddy': 609, 'havent': 2053, 'seek': 3858, 'bumbling': 622, 'fred': 1825, 'join': 2412, 'military': 2844, 'magic': 2703, 'contains': 964, 'gene': 1879, 'serve': 3893, 'wrong': 4973, 'places': 3284, 'cute': 1090, 'disney': 1289, 'numerous': 3062, '60s': 54, 'needless': 2989, 'feeling': 1685, 'asking': 318, 'ourselves': 3140, 'remake': 3612, 'slasher': 4020, 'already': 197, 'prom': 3429, 'trashy': 4566, 'jamie': 2379, 'lee': 2559, 'curtis': 1087, 'teens': 4392, 'knife': 2487, 'flick': 1754, 'focusing': 1769, 'killer': 2470, 'include': 2261, 'snow': 4045, 'superb': 4296, 'worked': 4941, 'guessing': 1991, 'remotely': 3623, 'ended': 1470, 'cutting': 1092, 'floor': 1759, 'box': 555, 'office': 3091, 'episodes': 1508, 'reminded': 3619, 'white': 4870, 'definitely': 1162, 'initially': 2291, 'tommy': 4516, 'add': 115, 'relief': 3605, 'depressing': 1188, 'powerful': 3360, 'overly': 3155, 'today': 4508, 'melodrama': 2797, 'trapped': 4564, 'increasingly': 2268, 'portraying': 3343, 'involving': 2349, 'audience': 352, 'terror': 4412, 'titled': 4505, 'major': 2711, 'difference': 1246, 'normal': 3033, 'effect': 1428, 'ways': 4822, 'typical': 4623, 'dozen': 1338, 'rooms': 3736, 'design': 1202, 'shorts': 3948, 'rarely': 3524, 'large': 2517, 'backdrop': 379, 'depth': 1190, 'window': 4894, 'enter': 1494, 'directions': 1262, 'wall': 4781, 'angles': 237, 'shape': 3919, 'technique': 4383, 'display': 1291, 'cross': 1066, 'anyone': 259, 'interest': 2323, 'build': 614, 'strictly': 4223, 'step': 4175, 'higher': 2101, 'movement': 2923, 'matched': 2763, 'unaware': 4632, 'leonard': 2572, 'tears': 4380, 'rising': 3703, 'king': 2479, 'cut': 1089, 'dramatic': 1348, 'ride': 3692, 'modern': 2882, 'wizard': 4919, 'adorable': 124, 'helped': 2080, 'enjoy': 1484, 'parties': 3196, 'aside': 315, 'masterpiece': 2759, 'enjoyable': 1485, 'moving': 2928, 'simplicity': 3984, 'low': 2676, 'stellar': 4174, 'cheesy': 781, 'spend': 4105, 'evening': 1534, 'liked': 2600, 'meets': 2795, 'ben': 463, 'winter': 4900, 'baseball': 403, 'falls': 1640, 'spring': 4134, 'shock': 3938, 'placed': 3283, 'lower': 2677, 'obsession': 3070, 'sits': 4006, 'games': 1865, 'obsessed': 3069, 'tired': 4501, 'nature': 2975, '1970s': 17, 'miserably': 2864, 'apparently': 270, 'eating': 1413, 'decades': 1145, 'adapted': 114, 'hundreds': 2196, 'fatal': 1664, 'painfully': 3172, 'boy': 557, 'crying': 1074, 'bed': 436, 'pieces': 3273, 'leg': 2562, 'list': 2617, 'walls': 4783, 'paper': 3183, 'none': 3028, 'sit': 4003, 'obvious': 3071, 'nonsense': 3030, 'watchable': 4812, 'seventies': 3904, 'qualities': 3483, 'embarrassing': 1454, 'vengeance': 4719, 'push': 3477, 'pile': 3275, 'affected': 137, 'dreadful': 1353, 'sort': 4077, 'bond': 532, '2006': 36, 'adventure': 130, 'brosnan': 597, 'double': 1331, 'obviously': 3072, '14': 6, 'thrill': 4471, 'heads': 2059, 'entertained': 1498, 'trek': 4578, 'nearly': 2981, 'century': 736, 'fantasy': 1652, 'cell': 730, 'please': 3304, '60': 53, 'prior': 3400, 'exists': 1573, 'jumps': 2432, 'ships': 3935, 'war': 4792, 'fired': 1735, 'upon': 4684, 'whatever': 4859, 'ship': 3934, 'loaded': 2632, 'wound': 4960, 'jumping': 2431, 'thousand': 4465, 'ten': 4399, 'eventually': 1537, 'destroyed': 1214, 'sent': 3880, 'search': 3841, 'legendary': 2565, 'road': 3709, 'claim': 828, 'quality': 3484, 'brothers': 599, 'thousands': 4466, 'namely': 2962, 'six': 4010, 'considered': 951, 'internet': 2327, 'skip': 4016, 'root': 3737, 'cliche': 843, 'ridden': 3691, 'watched': 4813, 'turner': 4607, 'absence': 70, 'excessive': 1560, 'nudity': 3059, 'jimmy': 2403, 'stewart': 4184, 'favorite': 1671, 'mine': 2853, 'enjoyed': 1486, 'mail': 2706, 'slightly': 4029, 'ashamed': 312, 'walks': 4780, 'catch': 714, 'channels': 754, 'recent': 3566, 'realized': 3553, 'explain': 1586, 'texas': 4418, 'massacre': 2754, 'characterization': 759, 'explained': 1587, 'halloween': 2010, 'potentially': 3356, 'creep': 1051, 'area': 286, 'craig': 1030, 'capturing': 679, 'essence': 1521, 'motivation': 2914, 'accomplished': 87, 'overcome': 3151, 'context': 968, 'empty': 1465, 'drag': 1342, 'properly': 3437, 'setting': 3900, 'direction': 1261, 'purpose': 3474, 'blues': 519, 'outer': 3143, 'corny': 997, 'visually': 4758, 'tunes': 4603, 'fake': 1635, 'likes': 2602, 'radio': 3504, 'forced': 1787, 'costs': 1004, 'theatre': 4429, 'talk': 4358, 'caught': 722, 'myself': 2953, 'hate': 2046, 'advance': 127, 'deeply': 1156, 'starring': 4154, 'impossible': 2249, 'die': 1243, 'asleep': 320, 'suggest': 4280, 'whom': 4875, 'bell': 458, 'germans': 1897, 'accents': 79, 'corporate': 998, 'tales': 4357, 'bank': 394, 'random': 3514, 'connected': 945, 'lady': 2507, 'share': 3920, 'front': 1841, 'television': 4394, 'review': 3676, 'unless': 4669, 'mistaken': 2872, 'rented': 3628, 'elm': 1447, 'street': 4216, 'warriors': 4803, 'hoping': 2160, 'funniest': 1851, 'rap': 3520, 'videos': 4734, 'group': 1980, 'vhs': 4725, 'theyre': 4445, 'wearing': 4831, 'shirt': 3937, 'fitting': 1742, 'imagine': 2238, 'disappointed': 1273, 'installment': 2303, 'freddy': 1826, 'gruesome': 1986, 'murders': 2943, 'finding': 1727, 'bloody': 513, 'hands': 2020, 'parker': 3191, 'infamous': 2284, 'nancy': 2964, 'bathroom': 412, 'standing': 4146, 'hospital': 2172, 'larry': 2520, 'patients': 3212, 'rules': 3754, 'surprisingly': 4316, 'skills': 4014, 'starred': 4153, 'cynical': 1093, 'belong': 459, 'realize': 3552, 'convince': 983, 'staff': 4138, 'dreams': 1355, 'returned': 3666, 'childhood': 790, 'experiences': 1582, 'taken': 4350, 'mechanical': 2788, 'arms': 294, 'sitting': 4007, 'unconvincing': 4638, 'motion': 2913, 'guys': 2001, 'car': 680, 'inducing': 2279, 'attacks': 339, 'legs': 2566, 'past': 3207, 'circumstances': 822, 'led': 2558, '100': 1, 'fighting': 1709, 'band': 391, 'reflect': 3584, 'bound': 553, 'walk': 4775, 'calls': 654, 'master': 2757, 'makeup': 2717, 'foot': 1781, 'suddenly': 4273, 'realizes': 3554, 'early': 1400, 'friday': 1834, '13th': 5, 'allow': 189, 'deaths': 1142, 'creative': 1041, 'kill': 2468, 'weve': 4856, 'triumph': 4590, 'develop': 1222, 'throw': 4479, 'defeat': 1157, 'edge': 1418, 'seat': 3845, 'important': 2247, 'whether': 4866, 'cabin': 643, 'fever': 1699, 'joke': 2414, 'closer': 856, 'community': 908, 'thus': 4486, 'scream': 3826, 'predictable': 3367, 'irony': 2357, 'analysis': 224, 'towards': 4540, 'alas': 172, 'unoriginal': 4673, 'pretentious': 3383, 'lacks': 2505, 'originality': 3130, 'imagination': 2236, 'foreign': 1790, 'sequels': 3886, 'woods': 4935, 'whoever': 4872, 'surprised': 4313, 'argue': 290, 'pick': 3265, 'kiss': 2483, 'basically': 407, 'sorts': 4078, 'victims': 4730, 'treated': 4573, 'dying': 1393, 'directed': 1259, 'sign': 3970, 'considering': 952, 'virus': 4752, 'bring': 585, 'hired': 2117, 'happens': 2029, 'actions': 101, 'facts': 1624, 'hilariously': 2107, 'lame': 2510, 'claims': 830, 'total': 4531, 'scared': 3805, 'tad': 4347, 'curious': 1083, 'check': 777, '70s': 56, 'wes': 4851, 'craven': 1034, 'sam': 3777, 'stanley': 4148, 'kubrick': 2496, 'lynch': 2691, 'roger': 3724, 'carpenter': 694, 'definition': 1163, 'viewers': 4739, 'necessarily': 2983, 'tracks': 4545, 'provided': 3449, 'below': 462, 'mouse': 2919, 'cartoon': 704, 'faithful': 1634, 'amusing': 221, 'morning': 2906, 'catches': 715, 'ask': 316, 'shoes': 3941, 'lazy': 2543, 'cats': 721, 'sleeping': 4025, 'says': 3801, 'glad': 1916, 'enjoying': 1487, 'hopes': 2159, 'satisfied': 3789, 'aint': 163, 'gag': 1861, 'pan': 3180, 'trick': 4582, 'lol': 2640, 'naturally': 2974, 'mad': 2696, 'mess': 2818, 'understood': 4647, 'hadnt': 2004, 'noble': 3021, 'despair': 1207, 'government': 1948, 'rule': 3753, 'portrays': 3344, 'suffering': 4277, 'corrupt': 1001, 'comfortable': 892, 'struggle': 4234, 'bare': 398, 'survival': 4320, 'toward': 4539, 'regardless': 3590, 'references': 3583, 'police': 3322, 'frequently': 1832, 'media': 2789, 'conversation': 980, 'strongly': 4231, 'recommend': 3571, 'goofy': 1939, 'seriously': 3892, 'helps': 2082, 'ease': 1404, 'mix': 2876, 'charles': 764, 'charlotte': 766, 'lewis': 2586, 'murphy': 2944, 'surreal': 4317, 'overlooked': 3154, 'flicks': 1755, 'lesson': 2577, 'japanese': 2382, 'shortly': 3947, 'japan': 2381, 'background': 380, 'samurai': 3779, 'order': 3126, 'doom': 1326, 'ultra': 4629, 'pro': 3406, 'west': 4852, 'achieve': 92, 'drink': 1361, 'killings': 2473, 'proud': 3444, 'reputation': 3640, 'fear': 1676, 'splendid': 4119, 'portrait': 3339, 'naive': 2958, 'tortured': 4530, 'talks': 4361, 'views': 4742, 'reaches': 3538, 'faster': 1662, 'recently': 3567, 'educational': 1425, '1950s': 14, 'versus': 4722, 'taylor': 4372, 'wrote': 4974, 'ancient': 225, 'required': 3641, 'parts': 3199, 'poem': 3312, 'school': 3813, 'literature': 2623, 'messages': 2820, 'tried': 4584, 'remembered': 3617, 'bits': 490, 'id': 2212, 'copies': 992, 'extremely': 1610, 'remarkable': 3613, 'achievement': 94, 'ken': 2453, 'burns': 628, 'began': 441, '20th': 38, 'lesser': 2576, 'artists': 309, 'sir': 4000, 'taught': 4370, 'adding': 117, 'authority': 360, 'credibility': 1047, 'remaining': 3610, 'subtle': 4260, 'becoming': 435, 'morality': 2903, 'tale': 4353, 'head': 2057, 'extreme': 1609, 'super': 4295, 'heroes': 2089, 'lacked': 2503, 'individual': 2277, 'appreciation': 281, 'larger': 2519, 'humanity': 2189, 'mans': 2730, 'unknown': 4668, 'gem': 1877, 'learned': 2551, 'award': 366, 'surprise': 4312, 'learning': 2552, 'recognized': 3570, 'animation': 242, 'books': 536, 'message': 2819, 'relevant': 3604, 'teaching': 4377, 'grab': 1949, 'students': 4239, 'leads': 2548, 'discussion': 1284, 'spiritual': 4116, 'recommended': 3572, 'store': 4204, 'shelf': 3926, 'suggests': 4282, 'animals': 240, 'associated': 327, 'starting': 4158, 'north': 3036, 'south': 4087, 'progresses': 3426, 'footage': 1782, 'under': 4639, 'sky': 4017, 'easier': 1405, 'scientific': 3817, 'detail': 1217, 'covers': 1024, 'ideal': 2214, 'whale': 4857, 'contain': 962, 'support': 4303, 'murderer': 2941, 'loving': 2675, 'caring': 691, 'emotion': 1458, 'someones': 4065, 'cared': 685, 'worry': 4950, 'belief': 451, 'changing': 752, 'scott': 3824, 'prostitute': 3440, 'opening': 3114, 'titles': 4506, 'violent': 4748, 'persons': 3244, 'hot': 2174, 'captures': 678, 'god': 1926, 'worthy': 4956, 'locations': 2636, 'costumes': 1006, 'combined': 885, 'agreed': 156, 'needed': 2988, 'paying': 3217, 'resemblance': 3645, 'pay': 3216, 'bother': 548, 'dubbed': 1379, '2002': 32, 'represents': 3639, 'scale': 3802, 'german': 1896, 'print': 3399, 'improve': 2254, 'dubbing': 1380, 'amateur': 206, 'zombies': 4998, 'clumsy': 866, 'ability': 65, 'intelligent': 2314, 'western': 4853, 'dinner': 1254, 'table': 4346, 'land': 2511, 'zombie': 4997, 'nation': 2969, 'social': 4049, 'utterly': 4702, 'redeeming': 3577, 'value': 4709, 'lacking': 2504, '90': 60, 'expectations': 1576, 'artistic': 308, 'create': 1036, 'seemed': 3862, 'angle': 236, 'explanation': 1590, 'press': 3379, 'chose': 804, 'borrowed': 545, 'gay': 1876, 'intrigued': 2334, 'pleasantly': 3303, 'san': 3780, 'francisco': 1819, 'started': 4157, 'desired': 1206, 'finish': 1732, 'week': 4837, 'honor': 2150, 'beats': 426, 'suffered': 4276, 'anywhere': 263, 'shop': 3945, 'corner': 996, 'nor': 3032, 'protagonists': 3442, 'charm': 767, 'contained': 963, 'believable': 453, 'sweet': 4336, 'warming': 4795, 'alfred': 181, 'margaret': 2735, 'arrives': 302, 'working': 4944, 'nine': 3017, 'opened': 3113, 'thinks': 4454, 'sell': 3871, 'months': 2897, 'souls': 4080, 'minds': 2852, 'letters': 2582, 'passed': 3202, 'thin': 4449, 'base': 402, 'lonely': 2643, 'morgan': 2905, 'learns': 2553, 'felix': 1689, 'sidekick': 3966, 'faced': 1617, 'possibility': 3349, 'honest': 2146, 'opinion': 3118, 'joseph': 2419, 'ultimately': 4628, 'ambitious': 211, 'tracy': 4546, 'position': 3345, 'dear': 1140, 'subsequent': 4257, 'manager': 2724, 'journey': 2421, 'smith': 4038, 'christmas': 810, 'eve': 1532, 'persona': 3239, 'mr': 2929, 'washington': 4806, 'hint': 2112, 'soon': 4074, 'relationship': 3597, 'boss': 546, 'knows': 2493, 'description': 1197, 'fictional': 1703, 'perfectly': 3226, 'keeps': 2451, 'believes': 456, 'identity': 2217, 'sheer': 3925, 'broken': 594, 'vivid': 4760, 'jealous': 2388, 'nervous': 2999, 'wife': 4884, 'loyal': 2679, 'russian': 3762, 'particular': 3194, 'hung': 2197, 'universal': 4665, 'lies': 2591, 'machines': 2694, 'brought': 600, 'cannot': 670, 'merits': 2817, 'charming': 768, 'lucky': 2683, 'romance': 3732, 'possibly': 3351, 'drug': 1373, 'agent': 150, 'mistake': 2871, 'streisand': 4218, 'grace': 1950, 'redemption': 3578, 'hero': 2088, 'hurts': 2203, 'normally': 3034, 'sounding': 4083, 'atmosphere': 333, 'appeared': 276, 'ireland': 2352, 'faith': 1633, 'filming': 1718, 'absolute': 71, 'eerie': 1427, 'received': 3564, 'notorious': 3051, 'murdered': 2940, 'awkward': 374, 'behavior': 446, 'forms': 1801, 'shoot': 3942, 'structure': 4233, 'causes': 725, 'putting': 3482, 'reads': 3545, 'corpse': 999, 'judging': 2425, 'reminiscent': 3621, 'turned': 4606, 'twist': 4617, 'vast': 4716, 'regret': 3591, 'scenery': 3810, 'gross': 1978, 'financial': 1725, 'count': 1010, 'veteran': 4724, 'completely': 922, 'uninspired': 4657, 'copy': 994, 'industry': 2280, 'tends': 4402, 'overdone': 3152, 'uninteresting': 4660, 'ignorant': 2223, 'rip': 3700, 'luckily': 2682, 'filmmaker': 1719, 'guarantee': 1987, 'mini': 2854, 'visual': 4757, 'soul': 4079, 'flawless': 1751, 'clear': 839, 'write': 4967, 'awards': 367, 'post': 3352, 'complain': 919, 'incredible': 2269, 'keeping': 2450, 'trailer': 4554, 'angel': 231, 'sexually': 3910, 'happily': 2030, 'flashback': 1746, 'listening': 2620, 'principal': 3398, 'clothes': 860, 'rated': 3527, 'stale': 4141, 'spoil': 4121, 'ruin': 3750, 'fits': 1741, 'changed': 750, 'seasons': 3844, 'am': 204, 'account': 89, 'halfway': 2008, 'tiresome': 4502, 'homosexual': 2145, 'similar': 3978, 'cliché': 844, 'quotes': 3497, 'page': 3167, 'painful': 3171, 'cinematographer': 819, 'fantastic': 1651, 'attempting': 342, 'via': 4726, 'drivel': 1364, 'accepted': 82, 'afraid': 140, 'peter': 3247, 'harry': 2039, 'utter': 4701, 'overacting': 3149, 'twice': 4613, 'scottish': 3825, 'castle': 712, 'sister': 4001, 'whatsoever': 4861, 'assume': 328, 'dreary': 1356, 'judy': 2426, 'comparison': 914, 'neither': 2996, 'gripping': 1976, 'captivating': 675, 'tells': 4397, 'careers': 687, 'headed': 2058, 'opposite': 3123, 'norman': 3035, 'howard': 2182, 'worn': 4948, 'fresh': 1833, 'hoffman': 2128, 'success': 4265, 'serves': 3895, 'adequate': 120, 'chemistry': 782, 'aspect': 321, 'rendition': 3625, 'magnificent': 2705, 'beloved': 461, 'ironically': 2356, 'partly': 3197, 'talking': 4360, 'swedish': 4335, 'merely': 2815, 'anna': 245, 'loose': 2650, 'questions': 3489, 'individuals': 2278, 'interpretation': 2328, 'secretly': 3851, 'kid': 2464, 'writers': 4969, 'screens': 3832, 'anymore': 258, 'holds': 2131, 'stretch': 4221, 'vague': 4705, '11': 2, '13': 4, 'younger': 4990, 'levels': 2585, 'awe': 370, 'interaction': 2322, 'blowing': 515, 'battles': 415, 'believed': 455, 'subtitles': 4259, 'follow': 1772, 'nowhere': 3056, '1st': 28, 'followed': 1773, 'knew': 2486, 'enjoyment': 1488, 'fellow': 1691, 'lord': 2652, 'rings': 3699, 'marriage': 2743, 'lover': 2672, 'library': 2589, 'dvds': 1392, 'blown': 516, 'drawn': 1351, '1983': 22, '2001': 31, 'besides': 468, 'sequel': 3885, 'user': 4696, 'news': 3005, 'clips': 852, 'humour': 2194, 'enemies': 1476, 'riding': 3695, 'shall': 3916, '20': 29, 'commentary': 899, 'glimpse': 1919, 'devoted': 1231, 'thirty': 4456, 'trademark': 4548, 'attached': 336, 'sink': 3999, 'combination': 883, 'concerned': 932, 'harris': 2038, 'proper': 3436, 'thanks': 4423, 'convincing': 985, 'meeting': 2794, 'lived': 2626, 'took': 4523, 'imagined': 2239, 'personalities': 3241, 'intelligence': 2313, 'broke': 593, 'storytelling': 4209, 'youll': 4988, 'intimate': 2331, 'committed': 905, 'priceless': 3390, 'insight': 2298, 'landing': 2512, 'titanic': 4503, 'realistic': 3550, 'formulaic': 1803, 'opera': 3116, 'trash': 4565, 'grade': 1951, 'prove': 3445, 'bar': 396, 'diane': 1238, 'lane': 2515, 'stick': 4185, 'carter': 703, 'proof': 3434, 'decision': 1151, 'joey': 2408, 'tape': 4365, 'trouble': 4592, 'multiple': 2936, 'beating': 425, 'refuses': 3587, 'son': 4070, 'direct': 1258, 'vehicle': 4718, 'truth': 4599, 'heres': 2087, 'denzel': 1181, 'passing': 3204, 'player': 3298, 'influenced': 2287, 'portrayal': 3341, 'exotic': 1574, 'breathtaking': 574, 'duo': 1386, 'concerns': 934, 'plan': 3287, 'revenge': 3675, 'native': 2972, 'basic': 406, 'knowledge': 2491, 'advise': 134, 'expected': 1577, 'tim': 4494, 'excited': 1561, 'online': 3109, 'roy': 3745, 'match': 2762, 'gas': 1874, 'station': 4164, 'underground': 4640, 'christian': 808, 'jesus': 2399, 'question': 3487, 'met': 2822, 'statement': 4162, 'view': 4736, 'pop': 3330, 'culture': 1079, 'hang': 2022, 'explains': 1589, 'ego': 1435, 'held': 2074, 'gods': 1928, 'taking': 4352, 'theory': 4437, 'isolated': 2363, 'kim': 2475, 'deliberately': 1166, 'presentation': 3375, 'continues': 971, 'cinematic': 818, 'baby': 376, 'blue': 518, 'laughable': 2530, 'horrific': 2166, 'charge': 761, 'evidence': 1546, 'hopper': 2161, 'kidnapped': 2466, 'enjoys': 1489, 'rough': 3741, 'capture': 676, 'favourite': 1673, 'boat': 523, 'bay': 416, 'field': 1704, 'guide': 1993, 'laws': 2540, 'vaguely': 4706, 'useless': 4695, 'bears': 421, 'motives': 2916, 'discover': 1279, 'exploration': 1593, 'therefore': 4439, 'henry': 2084, 'mass': 2753, 'colour': 880, 'society': 4050, 'critical': 1062, 'pretending': 3382, 'prefer': 3368, 'provide': 3448, 'brain': 562, 'suicide': 4283, 'ps': 3453, 'presented': 3376, 'greatly': 1967, 'occur': 3076, 'jaws': 2385, 'begin': 442, 'describe': 1194, 'chick': 786, 'saves': 3796, 'preview': 3386, 'dennis': 1179, 'holding': 2130, 'aging': 153, 'trap': 4563, 'tragedy': 4551, 'rachel': 3500, 'thoughtful': 4463, 'credible': 1048, 'falling': 1639, 'lust': 2689, 'butt': 638, 'bill': 481, 'majority': 2712, 'exciting': 1563, 'inspector': 2299, 'gold': 1932, 'todd': 4510, 'gabriel': 1859, 'melodramatic': 2798, 'cox': 1026, 'deserves': 1201, 'heston': 2094, 'rating': 3529, 'stinker': 4191, 'sub': 4252, 'pleasure': 3306, 'writer': 4968, 'macy': 2695, 'donald': 1321, 'sutherland': 4333, 'campbell': 663, 'ritter': 3705, 'delivers': 1172, 'thoughts': 4464, 'created': 1037, 'rich': 3685, 'stay': 4166, 'rolled': 3729, 'cringe': 1059, 'teenagers': 4391, 'commented': 900, 'remember': 3616, 'willing': 4889, 'crime': 1055, 'consists': 955, 'significant': 3972, '24': 39, 'program': 3424, 'countless': 1012, 'drawing': 1350, 'prime': 3395, 'suspect': 4327, 'focuses': 1768, 'helen': 2075, 'manipulative': 2727, 'seemingly': 3863, 'sympathetic': 4342, 'suspicious': 4332, 'guilty': 1995, 'party': 3200, 'dynamic': 1394, 'construction': 960, 'certain': 737, 'spite': 4117, 'bbc': 417, 'detective': 1220, 'rubbish': 3748, 'innovative': 2295, 'ass': 323, 'sucked': 4270, 'severe': 3906, 'involves': 2348, 'experiment': 1583, 'aware': 368, 'breaks': 571, 'integrity': 2311, 'moves': 2925, 'troubled': 4593, 'rambo': 3511, 'mission': 2870, 'blame': 499, 'degree': 1164, 'factor': 1622, 'producing': 3417, 'nazi': 2977, 'noted': 3045, 'crafted': 1029, 'delivered': 1170, 'spots': 4132, 'dust': 1388, 'boredom': 542, 'twenty': 4612, 'chasing': 772, 'positive': 3346, 'folks': 1771, 'inspired': 2301, 'mystery': 2956, 'ahead': 159, 'future': 1856, '45': 50, 'stupidity': 4248, 'lasted': 2522, 'adam': 111, 'burt': 629, 'ward': 4793, 'dick': 1239, 'van': 4713, 'carries': 699, 'doctor': 1304, 'steve': 4181, 'barry': 401, 'officer': 3092, 'fathers': 1667, 'victoria': 4732, 'resident': 3647, 'theatrical': 4430, 'replaced': 3634, 'charlie': 765, 'implausible': 2245, 'everywhere': 1545, 'jessica': 2398, 'underrated': 4642, 'mysteries': 2954, 'included': 2262, 'nurse': 3063, 'marks': 2742, 'secretary': 3850, 'hall': 2009, 'ordinary': 3128, 'guest': 1992, 'path': 3209, 'whos': 4876, 'mid': 2832, 'till': 4493, 'bitter': 491, 'remote': 3622, 'park': 3190, 'clichés': 846, 'scientists': 3819, 'monsters': 2893, 'walking': 4779, 'atrocious': 335, 'ups': 4686, 'stiff': 4187, 'dolls': 1316, 'computer': 927, 'generated': 1882, 'dinosaurs': 1256, 'scientist': 3818, '2003': 33, 'hunter': 2199, 'sandra': 3782, 'psycho': 3457, 'producer': 3415, 'unlikely': 4671, 'simon': 3982, 'decides': 1150, 'plans': 3292, 'weapon': 4828, 'ex': 1549, 'brief': 579, 'vulnerable': 4768, 'psychotic': 3459, 'aimed': 162, 'blah': 496, 'ingredients': 2289, 'gone': 1935, 'liners': 2611, 'wondering': 4930, 'holes': 2133, 'frame': 1815, 'inside': 2297, 'intensity': 2317, 'lights': 2597, 'served': 3894, 'town': 4541, 'ocean': 3079, 'wind': 4893, 'nonsensical': 3031, 'continue': 969, 'distracting': 1297, 'odd': 3080, 'showed': 3956, 'pushed': 3478, 'stilted': 4190, 'otherwise': 3137, 'darker': 1116, 'opposed': 3122, 'fed': 1682, 'comments': 901, 'stretched': 4222, 'inner': 2292, 'scenario': 3808, 'existed': 1570, 'closet': 858, 'monkey': 2890, 'species': 4098, 'doctors': 1305, 'plant': 3293, 'introduction': 2339, '80': 58, 'alcoholic': 177, 'lighting': 2596, 'suit': 4284, 'recognize': 3569, 'meaningless': 2782, 'glenn': 1918, 'bomb': 531, 'appealing': 272, 'cartoons': 705, 'beings': 449, 'dog': 1310, 'officers': 3093, 'crazy': 1035, 'determined': 1221, 'separate': 3883, 'extra': 1606, 'deeper': 1155, 'demon': 1177, 'kay': 2447, 'available': 361, 'hoped': 2156, 'promised': 3431, 'cinematography': 820, 'awesome': 371, 'ironic': 2355, 'amitabh': 216, 'nicely': 3009, 'heavily': 2069, 'jungle': 2434, 'hopefully': 2157, 'forgotten': 1797, 'managed': 2723, 'tie': 4488, 'system': 4345, 'soldier': 4053, 'laughter': 2535, 'captured': 677, 'forever': 1792, 'masterpieces': 2760, 'manages': 2725, 'bacall': 377, 'british': 589, 'spanish': 4092, 'existence': 1571, 'favor': 1670, 'killing': 2472, 'directly': 1263, 'guilt': 1994, 'pacing': 3163, 'compelled': 915, 'marvelous': 2750, 'convey': 982, 'rush': 3759, 'thief': 4448, 'mere': 2814, 'exploitation': 1592, 'rise': 3702, 'worthwhile': 4955, 'grey': 1973, 'shocking': 3940, 'performed': 3230, 'mansion': 2731, 'fifteen': 1706, 'shining': 3933, 'indian': 2274, 'location': 2635, 'photography': 3260, 'continuity': 972, 'oddly': 3081, 'andy': 230, 'attracted': 349, 'soldiers': 4054, 'ned': 2986, 'kelly': 2452, 'francis': 1818, 'gang': 1867, 'familys': 1646, 'julia': 2427, 'cook': 988, 'dan': 1102, 'philip': 3252, 'hart': 2041, 'emily': 1456, 'susan': 4326, 'catching': 716, 'gun': 1996, 'painted': 3174, 'finest': 1730, 'stunt': 4245, 'appreciate': 279, 'appalling': 268, 'creates': 1038, 'masses': 2755, 'lay': 2542, 'innocent': 2294, 'physical': 3262, 'curiosity': 1082, 'pushing': 3479, 'california': 650, 'workers': 4943, 'mill': 2845, 'vietnam': 4735, 'clean': 838, 'houses': 2180, 'accused': 91, 'brutally': 604, 'beaten': 424, 'uncle': 4636, 'threatening': 4468, 'peters': 3248, 'lucy': 2684, 'league': 2549, 'flashbacks': 1747, 'max': 2774, 'thriller': 4472, 'connection': 946, 'advice': 133, 'research': 3644, 'state': 4160, 'moved': 2922, 'states': 4163, 'protect': 3443, 'hated': 2047, 'virgin': 4749, '18': 10, 'cover': 1022, 'fashioned': 1660, 'covered': 1023, 'punch': 3466, 'animated': 241, 'childish': 791, 'weight': 4840, 'motivations': 2915, 'greed': 1968, 'aspects': 322, 'tricks': 4583, 'pulled': 3462, 'cried': 1054, 'laughed': 2532, 'candy': 668, 'jim': 2402, 'european': 1530, 'lie': 2590, 'ticket': 4487, 'anyways': 262, 'popcorn': 3331, 'tea': 4373, 'landscape': 2513, 'trite': 4589, 'shadow': 3912, 'darkness': 1117, 'drinking': 1362, 'landscapes': 2514, 'expression': 1602, 'pain': 3170, 'artist': 307, 'upper': 4685, 'wow': 4962, 'dig': 1250, 'spoof': 4127, 'glover': 1923, 'screening': 3830, 'chicago': 785, 'porno': 3337, 'synopsis': 4344, 'mouth': 2920, 'pot': 3354, 'smoking': 4040, 'striking': 4226, 'focus': 1766, 'adaptation': 113, 'novels': 3053, 'goal': 1925, 'essential': 1522, 'thrillers': 4473, 'jason': 2383, 'bourne': 554, 'von': 4765, 'promise': 3430, 'treasure': 4571, 'lake': 2509, 'travels': 4569, 'promises': 3432, 'defend': 1158, 'asks': 319, 'kingdom': 2480, 'receives': 3565, 'desert': 1198, 'lose': 2654, 'spare': 4093, 'destruction': 1216, 'wears': 4832, 'bothered': 549, 'air': 164, 'dropping': 1371, 'boll': 529, 'chair': 742, 'matthau': 2771, 'lemmon': 2567, 'roberts': 3714, 'fortune': 1806, 'billy': 482, 'events': 1536, 'sentence': 3881, 'minor': 2857, 'comment': 898, 'joy': 2422, 'innocence': 2293, 'alive': 186, 'careful': 688, 'kinda': 2477, 'tap': 4364, 'singer': 3993, 'stephen': 4176, 'hip': 2114, 'hop': 2154, 'straight': 4210, 'reference': 3582, 'claimed': 829, 'families': 1644, 'embarrassed': 1453, 'attend': 344, 'event': 1535, 'discovered': 1280, 'dragged': 1343, 'baker': 385, 'encounters': 1467, 'hardcore': 2034, 'bands': 392, 'assumed': 329, 'brian': 576, 'groups': 1981, 'eat': 1411, 'enemy': 1477, 'remain': 3609, 'hates': 2048, 'themes': 4434, 'closely': 855, 'loads': 2633, 'gradually': 1952, 'dies': 1245, 'disease': 1285, 'grave': 1962, 'cheated': 775, 'ripped': 3701, 'woody': 4936, 'allen': 188, 'irritating': 2359, 'linda': 2609, 'blair': 497, '90s': 61, 'steals': 4172, 'mentally': 2809, 'vampire': 4711, 'efforts': 1433, 'jet': 2400, 'li': 2587, 'purposes': 3475, 'legend': 2564, 'market': 2740, 'conflict': 939, 'dire': 1257, 'helping': 2081, 'fetched': 1698, 'unbelievable': 4634, 'cliff': 847, 'details': 1219, 'warn': 4797, 'ranks': 3519, 'elaborate': 1439, 'primarily': 3393, 'detailed': 1218, 'shed': 3924, 'steven': 4182, 'spielberg': 4110, 'purple': 3473, 'classics': 837, 'cry': 1073, 'critics': 1064, 'alice': 182, 'walker': 4778, 'blacks': 494, 'aliens': 184, 'uses': 4697, '30': 42, 'scope': 3821, 'academy': 77, 'travesty': 4570, 'abusive': 75, 'occasional': 3074, 'pg': 3250, 'novel': 3052, 'burning': 627, 'blatant': 502, 'poignant': 3315, 'surrounding': 4319, 'hurt': 2202, 'agents': 151, 'investigation': 2343, 'kicking': 2462, 'feet': 1688, 'text': 4419, 'learn': 2550, 'target': 4366, 'explaining': 1588, 'narrator': 2967, 'avoided': 364, 'pass': 3201, 'impression': 2252, 'heaven': 2068, 'slightest': 4028, 'witch': 4909, 'presents': 3377, 'distinct': 1296, 'clichéd': 845, 'department': 1182, 'naked': 2959, 'ladies': 2506, 'hearted': 2065, 'cheek': 779, 'nuts': 3064, 'knock': 2488, 'taxi': 4371, 'driver': 1366, 'godfather': 1927, 'ed': 1415, 'robbins': 3712, 'suited': 4286, 'catherine': 719, 'ryan': 3765, 'mysterious': 2955, 'treat': 4572, 'twisted': 4618, 'unfolds': 4651, 'amazingly': 210, 'warning': 4800, 'notion': 3050, 'daniel': 1111, 'explicit': 1591, 'screenwriter': 3833, 'proves': 3447, 'raw': 3532, 'uncomfortable': 4637, 'nevertheless': 3002, 'hill': 2108, 'craft': 1028, 'superbly': 4297, 'bobby': 525, 'shoots': 3944, 'nomination': 3026, 'passionate': 3206, 'drops': 1372, 'arrive': 300, 'manner': 2729, 'honesty': 2148, 'mike': 2838, 'approach': 282, 'energy': 1478, 'immensely': 2243, 'likable': 2598, 'daughters': 1122, 'folk': 1770, 'raising': 3509, 'victor': 4731, 'grandmother': 1955, 'throws': 4482, 'suggested': 4281, 'primary': 3394, 'competition': 918, 'nearby': 2980, 'cars': 702, 'explosions': 1597, 'supernatural': 4302, 'citizen': 824, 'kane': 2442, 'causing': 726, 'sounded': 4082, 'execution': 1566, 'ball': 388, 'diana': 1237, 'fond': 1776, 'memory': 2804, 'university': 4667, 'welcome': 4842, 'gain': 1863, 'perspective': 3245, 'sentimental': 3882, 'caine': 647, 'joe': 2407, 'hamilton': 2012, 'jon': 2416, 'destiny': 1212, 'mexican': 2826, 'portray': 3340, 'deaf': 1134, 'aids': 161, 'poverty': 3357, 'corruption': 1002, 'africa': 141, 'paranoia': 3186, 'muslim': 2949, 'usa': 4691, 'wwii': 4975, 'limits': 2607, 'empathy': 1462, 'ignore': 2224, 'effectively': 1430, 'sean': 3840, 'collection': 874, 'shines': 3932, 'sight': 3969, 'editor': 1423, 'depressed': 1187, 'unbearable': 4633, 'intention': 2319, 'shine': 3931, 'apes': 267, 'burton': 630, 'represent': 3637, 'batman': 413, 'flaws': 1752, 'dressed': 1358, 'compared': 912, 'concerning': 933, 'driving': 1368, 'destroying': 1215, 'leo': 2571, 'unexpected': 4650, 'thrilling': 4474, 'navy': 2976, 'armed': 293, 'idiot': 2218, 'graphic': 1958, 'move': 2921, 'mixed': 2877, 'river': 3707, '1980': 20, 'liberal': 2588, 'born': 544, 'florida': 1761, 'sadistic': 3768, 'sullivan': 4288, 'serial': 3889, 'visits': 4756, 'row': 3744, 'saving': 3797, 'freedom': 1828, 'danger': 1109, 'lawyer': 2541, 'earlier': 1399, 'sheriff': 3929, 'equal': 1509, 'opportunities': 3120, 'bible': 477, 'religious': 3608, 'imitation': 2241, 'ashley': 313, 'crimes': 1056, 'resulting': 3661, 'sum': 4289, 'niro': 3019, 'murderous': 2942, 'anti': 254, 'handed': 2016, 'criminals': 1058, 'suspects': 4328, 'ignored': 2225, 'convoluted': 987, 'reviewer': 3677, 'chess': 783, 'immediately': 2242, 'jonathan': 2417, 'expert': 1585, 'board': 522, 'sacrifice': 3766, 'unable': 4631, 'phone': 3255, 'walked': 4776, 'drive': 1363, 'bus': 631, 'bridge': 578, 'turning': 4608, 'invasion': 2340, 'intriguing': 2335, 'dialogs': 1233, 'london': 2641, 'agrees': 157, 'exercise': 1568, 'diamond': 1236, 'closest': 857, 'science': 3816, 'fiction': 1702, 'tongue': 4518, 'unfortunate': 4653, 'luck': 2681, 'size': 4012, 'beast': 422, 'frequent': 1831, 'authentic': 358, 'points': 3319, 'recall': 3562, 'miscast': 2862, 'currently': 1085, 'iraq': 2351, 'documentaries': 1306, 'generations': 1884, 'source': 4086, 'valuable': 4708, 'opportunity': 3121, 'purchase': 3469, 'extras': 1608, 'racism': 3502, 'warner': 4799, 'britain': 588, 'china': 795, 'millions': 2848, 'current': 1084, 'viewed': 4737, 'brad': 560, 'pitt': 3280, 'equally': 1510, 'mountains': 2918, 'montana': 2895, '1990s': 25, 'hat': 2045, 'trailers': 4555, 'insulting': 2310, 'eaten': 1412, 'senseless': 3878, 'universe': 4666, 'coffee': 870, 'snl': 4044, 'myers': 2952, 'aged': 149, 'jewish': 2401, 'prize': 3405, 'hatred': 2049, 'reminds': 3620, 'april': 284, '1999': 27, 'storm': 4206, 'basement': 405, 'attempted': 341, 'appreciated': 280, 'weeks': 4839, 'gorgeous': 1942, 'sid': 3964, 'voiced': 4762, 'ray': 3533, 'tiger': 4491, 'wise': 4903, 'pulp': 3465, 'thomas': 4458, 'designed': 1203, 'hype': 2207, 'drew': 1360, 'frustrated': 1842, 'puts': 3481, 'fly': 1763, 'horses': 2171, 'racial': 3501, 'intentions': 2321, 'inspiring': 2302, 'grasp': 1960, 'granted': 1957, 'hey': 2095, 'wanting': 4790, 'succeeded': 4263, 'del': 1165, 'spain': 4091, 'nasty': 2968, 'pointless': 3318, 'unpleasant': 4674, 'rage': 3505, 'control': 977, 'relation': 3595, 'jail': 2376, 'absurd': 73, 'proceeds': 3411, 'fate': 1665, 'allowing': 191, 'clues': 865, 'silence': 3974, 'disturbed': 1299, 'noticed': 3049, 'satire': 3788, 'intrigue': 2333, 'core': 995, 'endless': 1473, 'extent': 1605, 'listen': 2619, 'spike': 4111, 'sarah': 3785, 'swim': 4337, 'cult': 1077, 'strangers': 4214, 'pilot': 3276, 'princess': 3397, 'stereotypical': 4180, 'buck': 605, 'bucks': 606, 'nyc': 3065, 'frustration': 1843, 'con': 928, 'pair': 3176, 'manage': 2722, 'survive': 4321, 'gritty': 1977, 'urban': 4688, 'cowboy': 1025, 'dropped': 1370, 'dorothy': 1330, 'masterful': 2758, 'prisoners': 3403, 'germany': 1898, 'horse': 2170, 'cinderella': 815, 'royal': 3746, 'upset': 4687, 'fairy': 1632, 'loses': 2657, 'glass': 1917, 'orders': 3127, 'duke': 1383, 'wore': 4939, 'jackson': 2375, 'magical': 2704, 'sing': 3992, 'prince': 3396, 'acid': 95, 'portion': 3338, 'keaton': 2448, 'slapstick': 4019, 'studio': 4240, 'disturbing': 1300, 'cinemas': 817, 'comedian': 887, 'horrors': 2169, 'mgm': 2828, 'tedious': 4387, 'chaos': 755, 'inept': 2281, 'chaplin': 756, 'apparent': 269, 'endearing': 1469, 'education': 1424, 'struggling': 4236, 'genius': 1887, 'sixties': 4011, 'household': 2179, 'backgrounds': 381, 'ears': 1402, 'occasion': 3073, 'hanks': 2025, 'green': 1971, 'private': 3404, 'toy': 4542, 'jennifer': 2392, 'irish': 2353, 'escapes': 1519, 'stealing': 4171, 'dad': 1095, 'anybody': 257, 'considerable': 950, 'chorus': 803, 'horribly': 2164, 'indie': 2276, 'hed': 2072, 'richards': 3687, 'wild': 4885, 'questionable': 3488, 'estate': 1525, 'million': 2847, 'magazine': 2701, 'carl': 692, 'dickens': 1240, 'stone': 4197, 'anger': 235, 'distance': 1294, 'directorial': 1265, 'term': 4405, 'parody': 3192, 'mary': 2751, 'kenneth': 2455, 'branagh': 564, 'celebrity': 729, 'beach': 419, 'lifetime': 2594, 'abc': 63, 'jay': 2386, 'website': 4834, 'local': 2634, 'lone': 2642, 'survivor': 4324, 'plane': 3288, 'crash': 1033, '1968': 16, 'prepared': 3371, 'erotic': 1515, 'discovery': 1282, 'identify': 2216, 'gangster': 1868, 'da': 1094, 'alan': 171, 'gangsters': 1869, 'mafia': 2700, 'remind': 3618, 'method': 2824, 'doll': 1313, 'methods': 2825, 'subtlety': 4261, 'haunting': 2051, 'poster': 3353, 'featuring': 1681, 'cameron': 661, 'judge': 2424, 'harvey': 2042, 'scripted': 3835, 'confused': 941, 'mom': 2885, 'spent': 4108, 'sticks': 4186, 'ruins': 3752, 'symbolism': 4341, 'fish': 1738, 'jerk': 2395, 'forgive': 1795, 'rid': 3690, 'physically': 3263, 'amateurish': 207, 'pathetic': 3210, 'bat': 410, 'clark': 832, 'ruined': 3751, 'jazz': 2387, 'cd': 728, 'noir': 3023, 'study': 4242, 'tremendous': 4579, 'shadows': 3913, 'smart': 4035, 'depiction': 1185, 'rural': 3758, 'khan': 2459, 'mothers': 2912, 'dialogues': 1235, 'delightful': 1168, 'grows': 1985, 'proceedings': 3410, 'dude': 1381, 'section': 3853, 'joan': 2404, 'peace': 3219, 'politics': 3326, 'touch': 4533, 'race': 3499, 'eager': 1396, 'nostalgic': 3039, 'politically': 3325, 'correct': 1000, 'rights': 3697, 'threw': 4470, 'che': 773, 'revolutionary': 3681, 'spy': 4135, 'offering': 3089, 'truck': 4595, 'olivier': 3103, 'cheating': 776, 'skin': 4015, 'stooges': 4200, 'lousy': 2667, '70': 55, 'shocked': 3939, 'comics': 895, 'modesty': 2883, 'familiar': 1643, 'buildings': 616, 'dangerous': 1110, 'freeman': 1829, 'choose': 799, 'red': 3576, 'drugs': 1374, 'mistakes': 2873, 'personality': 3242, 'somebody': 4062, 'dress': 1357, 'spell': 4104, 'cousin': 1021, 'importance': 2246, 'consequences': 947, 'instinct': 2308, 'crappy': 1032, 'weekend': 4838, 'players': 3299, 'lincoln': 2608, 'seeking': 3859, 'faces': 1618, 'reactions': 3542, 'trust': 4598, 'earned': 1401, 'fonda': 1777, 'profound': 3423, 'metal': 2823, 'segment': 3867, 'simmons': 3981, 'checking': 778, 'ridiculously': 3694, 'advantage': 129, 'attitude': 346, 'sake': 3775, 'sympathy': 4343, 'notes': 3046, 'stiller': 4189, 'challenging': 744, 'wrap': 4963, 'unit': 4663, 'jaw': 2384, 'drop': 1369, 'stunning': 4244, 'welles': 4844, 'plight': 3308, 'breaking': 570, 'waves': 4819, 'dancer': 1104, 'surface': 4310, 'adds': 119, 'confusion': 943, 'interviews': 2330, 'offered': 3088, 'choreographed': 801, 'pearl': 3220, 'dressing': 1359, 'witnessed': 4915, 'spooky': 4128, 'drags': 1345, 'reaching': 3539, 'buffs': 612, 'generation': 1883, 'itll': 2369, 'sunday': 4293, 'tune': 4602, 'intent': 2318, 'fascinated': 1657, 'solely': 4056, 'liking': 2604, 'perry': 3237, 'overwhelming': 3157, 'cops': 993, '2nd': 41, '3rd': 47, 'aunt': 355, 'goodness': 1938, 'fears': 1677, 'haunted': 2050, 'flynn': 1765, 'definite': 1161, 'garbage': 1870, 'patient': 3211, 'urge': 4689, 'jumped': 2430, 'studios': 4241, 'hamlet': 2013, '25': 40, 'vision': 4754, 'glorious': 1921, 'productions': 3420, 'shakespeare': 3915, 'madness': 2698, 'derek': 1192, 'julie': 2428, 'classical': 836, 'robin': 3715, 'animal': 239, 'wolf': 4920, 'dogs': 1311, 'devoid': 1230, 'wounded': 4961, 'subplot': 4255, 'wisdom': 4902, 'edited': 1420, 'turkey': 4604, 'worker': 4942, 'lab': 2501, 'monkeys': 2891, 'guns': 1998, 'trees': 4577, 'defined': 1160, 'discuss': 1283, 'depicts': 1186, 'revolution': 3680, 'property': 3438, 'cuba': 1075, 'greek': 1970, 'consistently': 954, 'grand': 1953, 'kudos': 2497, 'bette': 471, '30s': 44, 'constructed': 959, 'carried': 698, 'humorous': 2193, 'paced': 3162, 'cleverly': 842, 'constantly': 958, 'funeral': 1849, 'wide': 4880, 'classes': 834, 'protagonist': 3441, 'september': 3884, 'global': 1920, 'training': 4558, 'traveling': 4568, 'smoke': 4039, 'cameras': 660, 'routine': 3743, 'expressions': 1603, 'survivors': 4325, 'amongst': 218, 'risk': 3704, 'jobs': 2406, 'round': 3742, 'steel': 4173, 'safety': 3772, 'tooth': 4524, 'fashion': 1659, 'demand': 1174, 'planning': 3291, 'nuclear': 3057, 'inspiration': 2300, 'draws': 1352, 'tonight': 4519, 'displays': 1293, 'exaggerated': 1552, 'emotions': 1461, 'simplistic': 3985, 'stereotype': 4178, 'factory': 1623, 'womans': 4922, 'faults': 1669, 'understandable': 4644, 'accompanied': 86, 'stock': 4193, 'quiet': 3492, 'pants': 3182, 'hitting': 2126, 'unintentional': 4658, 'clue': 864, 'sin': 3988, 'tree': 4576, 'rob': 3710, 'steal': 4170, '16': 8, 'kurt': 2499, 'nick': 3012, 'relatively': 3600, 'moral': 2902, 'hitler': 2124, 'homer': 2144, 'simpson': 3987, 'maria': 2736, 'awake': 365, 'explosion': 1596, 'repeat': 3630, 'doubts': 1333, 'ratings': 3530, 'stood': 4199, 'eccentric': 1414, 'cooper': 990, 'jesse': 2397, 'abraham': 69, 'superficial': 4298, 'chief': 788, 'composed': 926, 'westerns': 4854, 'voices': 4763, 'stomach': 4196, 'unreal': 4676, 'christ': 807, 'football': 1783, 'losers': 2656, 'built': 618, 'charisma': 762, 'unrealistic': 4677, 'christians': 809, 'cure': 1081, 'sold': 4052, 'importantly': 2248, 'pull': 3461, 'alongside': 196, 'hollow': 2135, 'religion': 3607, 'successful': 4266, 'perfection': 3225, 'strength': 4219, 'witness': 4914, 'mst3k': 2932, 'hitchcock': 2123, 'walken': 4777, 'desperate': 1208, 'reach': 3536, 'forgettable': 1794, 'nightmares': 3015, 'achieved': 93, 'incoherent': 2265, 'survived': 4322, 'wreck': 4965, 'hanging': 2023, '2007': 37, 'parallel': 3185, 'reflection': 3585, 'represented': 3638, 'contemporary': 965, 'relatives': 3601, 'commit': 904, 'access': 83, 'web': 4833, 'relies': 3606, 'capital': 673, 'passes': 3203, 'carry': 700, 'expensive': 1579, 'wear': 4830, 'odds': 3082, 'hooked': 2153, 'owner': 3159, 'farm': 1656, 'chinese': 796, 'ms': 2931, '1996': 26, 'essentially': 1523, 'performing': 3233, 'contract': 973, 'competent': 917, 'providing': 3451, 'improved': 2255, 'overlook': 3153, 'pig': 3274, 'kicked': 2461, 'noise': 3024, 'meat': 2787, 'extraordinary': 1607, 'richardson': 3688, 'record': 3573, 'theaters': 4428, 'balls': 390, 'hire': 2116, 'chicks': 787, 'michelle': 2830, 'traditional': 4550, 'struck': 4232, 'deserved': 1200, 'holy': 2140, 'map': 2733, 'equivalent': 1512, 'sophisticated': 4075, 'barbara': 397, 'icon': 2211, 'pre': 3365, 'daring': 1114, 'draw': 1349, 'claire': 831, 'formula': 1802, 'dignity': 1252, 'wished': 4905, 'sleep': 4024, 'carrey': 696, 'resist': 3648, 'attraction': 350, 'speed': 4103, 'voight': 4764, 'extended': 1604, 'surprises': 4314, 'brown': 601, 'hits': 2125, 'scooby': 3820, 'doo': 1325, 'understated': 4646, 'calling': 653, 'broad': 590, 'blow': 514, 'neighborhood': 2993, 'relations': 3596, 'benefit': 465, 'oil': 3097, 'suspend': 4329, 'hammer': 2014, 'rubber': 3747, 'wave': 4818, 'surfing': 4311, 'spirited': 4114, 'sport': 4129, 'touches': 4535, 'warmth': 4796, 'pack': 3165, 'challenge': 743, '50': 51, 'pays': 3218, 'homage': 2141, 'wanna': 4786, 'theyd': 4443, 'worlds': 4947, 'drives': 1367, 'legal': 2563, 'block': 508, 'remarkably': 3614, 'misses': 2868, 'involve': 2345, 'failing': 1627, 'beautifully': 429, 'freak': 1824, 'link': 2613, 'allows': 192, 'eyre': 1614, 'timothy': 4499, 'dalton': 1098, 'rochester': 3719, 'sidney': 3968, 'timeless': 4496, 'facial': 1619, 'ages': 152, 'ring': 3698, 'chain': 741, 'breath': 573, 'terry': 4415, 'throat': 4476, 'tony': 4521, 'settle': 3902, 'cardboard': 682, 'notable': 3041, 'fair': 1630, 'stated': 4161, 'enormous': 1490, 'undoubtedly': 4648, 'quest': 3486, 'mate': 2765, 'hunters': 2200, 'canada': 666, 'selling': 3873, 'pregnant': 3369, 'hunt': 2198, 'ice': 2210, 'ted': 4386, 'bo': 521, 'village': 4743, 'teeth': 4393, 'types': 4622, 'forth': 1804, 'interview': 2329, 'activities': 102, 'beliefs': 452, 'desperation': 1210, 'foul': 1810, '1990': 24, 'monk': 2889, 'summary': 4290, 'arts': 310, 'june': 2433, 'revolves': 3682, 'los': 2653, 'angeles': 233, 'orange': 3125, 'models': 2881, 'punk': 3468, 'karen': 2444, 'aid': 160, 'emma': 1457, 'influence': 2286, '2005': 35, 'differences': 1247, '2000': 30, 'aka': 168, 'logic': 2638, 'mainstream': 2709, 'domestic': 1318, 'receive': 3563, 'bob': 524, 'don': 1320, 'assistant': 326, 'eddie': 1416, 'regarding': 3589, 'butler': 637, 'historical': 2119, 'everyday': 1541, 'harder': 2035, 'variety': 4714, 'picking': 3267, 'expressed': 1601, 'wandering': 4785, 'smooth': 4041, 'accurate': 90, 'afternoon': 144, 'network': 3000, 'insane': 2296, 'wasting': 4810, 'oliver': 3102, 'boxing': 556, 'rocky': 3723, 'mountain': 2917, 'abandoned': 62, 'instantly': 2306, 'sinister': 3998, 'minded': 2850, 'pointed': 3317, 'safe': 3771, 'merit': 2816, 'reduced': 3579, 'meaningful': 2781, 'splatter': 4118, 'embarrassment': 1455, 'carefully': 689, 'tomatoes': 4515, 'teenager': 4390, 'flying': 1764, 'choreography': 802, 'fix': 1744, 'rocket': 3721, 'chapter': 757, 'pal': 3177, 'doors': 1329, 'flies': 1756, 'succeed': 4262, 'stays': 4169, 'operation': 3117, 'creators': 1044, 'reasonably': 3559, 'yelling': 4980, 'site': 4005, 'phantom': 3251, 'solution': 4059, 'inevitably': 2283, 'lips': 2615, 'command': 897, 'repeatedly': 3632, 'heights': 2073, 'topless': 4527, 'cannibal': 669, 'yesterday': 4983, 'dramas': 1347, 'briefly': 580, 'divorce': 1301, 'buddies': 608, 'figures': 1713, 'serving': 3897, 'cheese': 780, 'throwing': 4480, 'bag': 384, 'condition': 937, 'occurs': 3078, 'sisters': 4002, 'missed': 2867, 'caliber': 649, 'dragon': 1344, 'friendly': 1836, 'unseen': 4678, 'ultimate': 4627, 'godzilla': 1929, 'mighty': 2836, 'rangers': 3517, 'army': 295, 'cruise': 1071, 'ethan': 1528, 'franchise': 1817, 'pool': 3327, 'kong': 2494, 'exposed': 1598, 'miller': 2846, 'idiotic': 2219, 'teacher': 4375, 'couples': 1017, 'searching': 3842, 'restaurant': 3658, 'segments': 3868, 'bringing': 586, 'connect': 944, 'gordon': 1940, 'witnesses': 4916, 'possessed': 3347, 'troubles': 4594, 'sloppy': 4030, 'arm': 292, 'england': 1482, 'report': 3635, 'accent': 78, 'womens': 4924, 'drunken': 1376, 'occasionally': 3075, 'colorful': 878, 'includes': 2263, 'mexico': 2827, 'alert': 178, 'heat': 2067, 'bedroom': 437, 'sleazy': 4023, 'buried': 624, 'laid': 2508, 'evident': 1547, 'logical': 2639, 'civilization': 827, 'brilliantly': 584, 'dirty': 1268, 'quick': 3490, 'airport': 167, 'ninja': 3018, 'amy': 222, '17': 9, 'dawson': 1128, 'introduces': 2338, 'cards': 683, 'uk': 4626, 'nations': 2971, 'wayne': 4821, 'clip': 851, 'gerard': 1895, 'prisoner': 3402, 'carol': 693, 'boom': 537, 'satisfying': 3791, 'sinatra': 3989, 'beneath': 464, 'enthusiasm': 1501, 'dean': 1139, 'rain': 3506, 'regard': 3588, 'signs': 3973, 'ghosts': 1903, 'mrs': 2930, 'elizabeth': 1445, 'russell': 3761, 'kissing': 2484, 'conversations': 981, 'abysmal': 76, 'comparing': 913, 'australian': 357, 'australia': 356, 'entertain': 1497, 'dolph': 1317, 'seagal': 3839, 'staged': 4140, 'coherent': 871, 'lowest': 2678, 'warrior': 4802, 'masters': 2761, 'depression': 1189, 'daily': 1097, 'fx': 1858, 'stylish': 4251, 'suits': 4287, 'stunts': 4246, 'helicopter': 2076, 'ellen': 1446, 'martial': 2747, 'successfully': 4267, 'anderson': 227, 'superhero': 4299, 'quit': 3494, 'joined': 2413, 'handful': 2017, 'wealthy': 4827, 'personal': 3240, 'mario': 2738, 'exceptional': 1558, 'staying': 4168, 'stan': 4142, 'bruce': 602, 'cave': 727, 'vicious': 4728, 'worried': 4949, 'prevent': 3385, 'creature': 1045, 'toys': 4543, 'convinced': 984, 'dawn': 1127, 'werewolf': 4850, 'settings': 3901, 'catchy': 717, 'maintain': 2710, 'deadly': 1133, 'encounter': 1466, 'plastic': 3294, 'zone': 4999, 'huh': 2187, 'renting': 3629, 'arguably': 289, 'rental': 3627, 'props': 3439, 'techniques': 4384, 'ugly': 4625, 'airplane': 166, 'sports': 4130, 'matt': 2768, 'cameos': 658, 'gadget': 1860, 'foster': 1809, 'broadway': 592, 'tender': 4401, 'robbery': 3711, 'twelve': 4611, 'translation': 4562, 'bargain': 400, 'bin': 483, 'alexander': 180, 'garden': 1872, 'specifically': 4100, 'downhill': 1336, 'costume': 1005, 'widely': 4881, 'amanda': 205, 'surrounded': 4318, 'madonna': 2699, 'wit': 4908, 'sharp': 3922, 'endure': 1475, 'flawed': 1750, 'albert': 174, 'speech': 4102, 'united': 4664, 'suitable': 4285, 'delivering': 1171, 'exceptionally': 1559, 'grant': 1956, 'bugs': 613, 'planned': 3290, 'chooses': 800, 'introduce': 2336, 'bath': 411, 'established': 1524, 'furthermore': 1854, 'gotten': 1947, 'criticism': 1063, 'hunting': 2201, 'disappeared': 1271, 'fbi': 1675, 'stronger': 4230, 'cable': 644, 'purchased': 3470, 'minimal': 2855, 'lisa': 2616, 'flight': 1757, 'switch': 4339, 'kidding': 2465, 'month': 2896, 'dry': 1377, 'rotten': 3740, 'americas': 215, 'canadian': 667, 'flash': 1745, 'opinions': 3119, 'slave': 4022, 'sons': 4073, 'wives': 4918, 'thumbs': 4485, 'nose': 3037, 'burned': 626, 'seed': 3856, 'tight': 4492, 'businessman': 634, 'projects': 3428, 'imaginative': 2237, 'tons': 4520, 'inventive': 2341, 'teach': 4374, 'akshay': 169, 'twins': 4616, 'smile': 4036, 'sappy': 3784, 'maker': 2714, 'philosophical': 3253, 'annie': 247, 'range': 3516, 'comical': 894, 'humble': 2191, 'concert': 935, 'exact': 1550, 'constant': 957, 'lumet': 2688, 'card': 681, 'attitudes': 347, 'blunt': 520, 'melting': 2799, 'wake': 4774, 'food': 1778, 'anime': 243, 'neck': 2985, 'dozens': 1339, 'hong': 2149, 'plausible': 3295, 'junk': 2436, 'subplots': 4256, 'companion': 909, 'improvement': 2256, 'loser': 2655, 'championship': 745, 'originally': 3131, 'scrooge': 3837, 'miserable': 2863, 'professional': 3421, 'measure': 2786, 'loosely': 2651, 'polished': 3323, 'fancy': 1649, 'painting': 3175, 'horrid': 2165, 'brilliance': 582, 'viewings': 4741, 'chosen': 805, 'crack': 1027, 'creativity': 1042, 'le': 2544, 'lou': 2663, 'instant': 2305, '3000': 43, 'reel': 3581, '75': 57, 'bold': 528, 'alex': 179, 'cole': 873, 'medium': 2792, 'johnson': 2411, 'displayed': 1292, 'struggles': 4235, 'occurred': 3077, 'brains': 563, 'favorites': 1672, 'recorded': 3574, 'errors': 1516, 'ensemble': 1492, 'transfer': 4559, 'thankfully': 4422, 'newly': 3004, 'betty': 474, 'pitch': 3279, 'wouldve': 4959, 'mild': 2839, 'glory': 1922, 'repetitive': 3633, 'reunion': 3669, 'tribute': 4581, 'vacation': 4704, 'sue': 4274, 'march': 2734, 'practice': 3363, 'torn': 4528, 'snake': 4042, 'hiding': 2099, 'testament': 4417, 'newspaper': 3006, 'mob': 2879, 'jake': 2377, 'sends': 3876, 'lively': 2627, 'uneven': 4649, '3d': 46, 'population': 3335, 'couldve': 1009, 'exposure': 1599, 'ramones': 3512, 'bush': 632, 'sunshine': 4294, 'multi': 2935, 'imagery': 2234, 'iii': 2227, 'ha': 2002, 'digital': 1251, 'fool': 1779, 'unhappy': 4656, 'atmospheric': 334, 'developing': 1224, 'skill': 4013, 'stevens': 4183, 'unintentionally': 4659, 'bodies': 526, 'attorney': 348, 'damage': 1099, 'threat': 4467, 'distant': 1295, 'pursuit': 3476, 'packed': 3166, 'elephant': 1444, 'menace': 2806, 'appearances': 275, 'waters': 4817, 'journalist': 2420, 'author': 359, 'edgar': 1417, 'spirits': 4115, 'unsettling': 4679, 'describes': 1196, 'breasts': 572, 'east': 1407, 'circle': 821, 'border': 539, 'husbands': 2205, 'raped': 3522, 'gotta': 1946, 'watches': 4814, 'bullets': 621, 'staring': 4152, 'subjects': 4254, 'bull': 619, 'shell': 3927, 'eastwood': 1409, 'pat': 3208, 'vegas': 4717, 'reporter': 3636, 'dancers': 1105, 'vampires': 4712, 'test': 4416, 'solo': 4058, 'wicked': 4879, 'cusack': 1088, 'photographer': 3259, 'centers': 734, 'audio': 354, 'album': 175, 'holmes': 2139, 'rolling': 3730, 'tear': 4379, 'fourth': 1813, 'miracle': 2860, 'pet': 3246, 'assigned': 325, 'intentionally': 2320, 'showcase': 3954, 'kung': 2498, 'jackie': 2374, 'chan': 746, 'highlights': 2104, 'pride': 3391, 'rival': 3706, 'bullet': 620, 'task': 4368, 'schools': 3814, 'transformation': 4560, 'mars': 2746, 'psychiatrist': 3455, 'brand': 565, 'conservative': 948, 'photo': 3257, 'nail': 2957, 'eyed': 1612, 'bite': 489, 'frankly': 1823, 'endings': 1472, 'laura': 2536, 'disneys': 1290, 'morris': 2908, '35': 45, 'spending': 4106, 'winds': 4895, 'wing': 4896, 'initial': 2290, 'aforementioned': 139, 'praise': 3364, 'selfish': 3870, 'provoking': 3452, 'shirley': 3936, 'heck': 2071, 'dedicated': 1153, 'gothic': 1945, 'hugh': 2186, 'brave': 567, 'trade': 4547, 'junior': 2435, 'females': 1694, 'giallo': 1904, 'philosophy': 3254, 'nelson': 2997, 'mirror': 2861, 'india': 2273, 'spin': 4112, 'grim': 1974, 'mickey': 2831, 'dutch': 1389, 'respected': 3653, 'mentions': 2813, 'pity': 3281, 'arrogant': 303, 'string': 4227, 'blows': 517, 'returning': 3667, 'thugs': 4484, 'hank': 2024, 'tame': 4363, '2004': 34, 'trained': 4557, 'korean': 2495, 'behave': 445, 'twilight': 4614, 'robot': 3717, 'generic': 1885, 'hal': 2006, 'ah': 158, 'indians': 2275, 'bang': 393, 'misery': 2865, '1930s': 11, '1940s': 13, 'jeremy': 2394, 'crocodile': 1065, 'movements': 2924, 'letter': 2581, 'arrival': 299, 'precious': 3366, 'prequel': 3372, 'willis': 4890, 'engage': 1479, 'stress': 4220, 'massive': 2756, 'bakshi': 386, 'tag': 4348, 'clown': 862, 'sings': 3997, 'convincingly': 986, 'matthew': 2772, 'crude': 1069, 'ear': 1397, 'antics': 255, 'disappoint': 1272, 'der': 1191, 'eg': 1434, 'dances': 1106, 'ballet': 389, 'oz': 3160, 'leslie': 2574, 'sole': 4055, 'signed': 3971, 'gonna': 1936, 'scheme': 3812, 'calm': 655, 'matches': 2764, 'fay': 1674, 'admire': 121, 'relative': 3599, 'ape': 266, 'treats': 4575, 'complexity': 924, 'temple': 4398, 'dave': 1123, 'hints': 2113, 'spread': 4133, 'beatty': 427, 'communist': 907, 'gandhi': 1866, 'chest': 784, 'cup': 1080, 'iron': 2354, 'requires': 3642, 'floating': 1758, 'demons': 1178, 'rick': 3689, 'witches': 4910, 'tall': 4362, 'president': 3378, 'bonus': 534, 'dollar': 1314, 'scores': 3823, 'chuck': 812, 'damon': 1101, 'popularity': 3334, 'lawrence': 2539, 'combat': 882, 'incomprehensible': 2267, 'experiments': 1584, 'choices': 798, 'secrets': 3852, 'greedy': 1969, 'curse': 1086, 'santa': 3783, 'holiday': 2134, 'angels': 234, 'feed': 1683, 'wallace': 4782, 'pokemon': 3320, 'artificial': 306, 'moronic': 2907, 'rat': 3525, 'cg': 739, 'retarded': 3663, 'laughably': 2531, 'scarecrow': 3804, 'heroic': 2090, 'hood': 2151, 'mall': 2720, 'mask': 2752, 'buying': 641, 'dare': 1113, 'bela': 450, 'lugosi': 2686, 'miike': 2837, 'stranger': 4213, 'decisions': 1152, 'jenny': 2393, 'inferior': 2285, 'advanced': 128, 'removed': 3624, 'forbidden': 1785, 'alike': 185, 'messed': 2821, 'irrelevant': 2358, 'lifestyle': 2593, 'mentioning': 2812, 'ginger': 1908, 'rogers': 3725, '1933': 12, 'talked': 4359, 'areas': 287, 'wendy': 4846, 'descent': 1193, 'brenda': 575, 'blew': 505, 'robinson': 3716, 'cake': 648, 'dislike': 1288, 'youd': 4987, 'gundam': 1997, 'terrorists': 4414, 'hook': 2152, 'banned': 395, 'unbelievably': 4635, 'moody': 2899, 'trial': 4580, 'appearing': 277, 'streep': 4215, 'ruthless': 3764, 'blade': 495, 'kicks': 2463, 'transition': 4561, 'desperately': 1209, 'waitress': 4773, 'omen': 3104, 'deceased': 1146, 'wet': 4855, 'psychic': 3456, '1984': 23, 'terrorist': 4413, 'button': 639, 'illness': 2230, 'medical': 2790, 'beer': 439, 'finger': 1731, 'lees': 2560, 'elegant': 1441, 'lying': 2690, 'columbo': 881, 'falk': 1636, 'campy': 664, 'acceptable': 81, 'dentist': 1180, 'locked': 2637, 'waited': 4771, 'wells': 4845, 'explored': 1595, 'fulci': 1845, 'birds': 485, 'counter': 1011, 'kitchen': 2485, 'thick': 4447, 'resort': 3650, 'lengthy': 2570, 'petty': 3249, 'horrifying': 2167, 'randomly': 3515, 'dinosaur': 1255, 'ought': 3138, 'crisis': 1060, 'quirky': 3493, 'bottle': 550, 'hudson': 2184, 'mitchell': 2875, 'doc': 1303, 'superman': 4301, 'underlying': 4641, 'lovable': 2668, 'wishing': 4907, 'lately': 2524, 'rank': 3518, 'historically': 2120, 'lena': 2568, 'outcome': 3142, 'ruth': 3763, 'poetry': 3314, 'hardy': 2037, 'wacky': 4769, 'pops': 3332, 'guts': 1999, 'reynolds': 3684, 'thru': 4483, 'pie': 3271, 'impress': 2250, 'celluloid': 731, 'doomed': 1327, 'designs': 1204, 'birthday': 487, 'escaped': 1518, 'valley': 4707, 'angela': 232, 'saturday': 3792, 'pleased': 3305, 'jeffrey': 2391, 'cagney': 646, 'powell': 3358, 'ruby': 3749, 'wrestling': 4966, 'inappropriate': 2259, 'silver': 3977, 'tarzan': 4367, 'directs': 1267, 'maggie': 2702, 'atlantis': 332, 'spoke': 4125, 'edie': 1419, 'elvira': 1450, 'uwe': 4703, 'savage': 3793, 'villains': 4745, 'aired': 165, 'creator': 1043, 'hbo': 2055, 'recording': 3575, 'alcohol': 176, 'lily': 2605, 'square': 4136, 'iran': 2350, 'justin': 2440, 'eastern': 1408, 'concern': 931, 'feminist': 1695, 'solve': 4060, 'alternate': 200, 'stanwyck': 4149, 'paltrow': 3178, 'combine': 884, 'wrapped': 4964, 'fighter': 1708, 'conflicts': 940, 'gray': 1963, 'facing': 1620, 'broadcast': 591, 'virginia': 4750, 'photos': 3261, 'disc': 1278, 'holly': 2136, 'buff': 611, 'blake': 498, 'wilson': 4891, 'robots': 3718, 'progress': 3425, 'frankenstein': 1822, 'mildred': 2841, 'adams': 112, 'basketball': 409, 'steps': 4177, 'pacino': 3164, 'strip': 4228, 'danes': 1108, 'highest': 2102, '40s': 49, 'stargate': 4151, 'colonel': 876, 'confidence': 938, 'sneak': 4043, 'soccer': 4048, 'trail': 4553, 'inane': 2258, 'cube': 1076, 'brady': 561, '1972': 18, 'pages': 3168, 'incompetent': 2266, 'lloyd': 2630, 'molly': 2884, 'shake': 3914, 'hippie': 2115, 'nicholson': 3011, 'ho': 2127, 'outrageous': 3145, 'realizing': 3555, 'cary': 706, 'shelley': 3928, 'grinch': 1975, 'bleak': 503, 'environment': 1505, 'dracula': 1341, 'unpredictable': 4675, 'argument': 291, 'ralph': 3510, 'roots': 3738, 'neil': 2995, 'resources': 3651, 'laurel': 2537, 'babe': 375, 'sandler': 3781, 'stole': 4194, 'rex': 3683, 'outfit': 3144, 'stones': 4198, 'retired': 3664, 'neo': 2998, 'punishment': 3467, 'stinks': 4192, 'similarities': 3979, 'blond': 510, 'abilities': 64, 'futuristic': 1857, 'franco': 1820, 'satan': 3787, 'eva': 1531, 'paulie': 3215, 'hyde': 2206, 'domino': 1319, 'cities': 823, 'berlin': 467, 'bud': 607, 'donna': 1323, 'pamela': 3179, 'bone': 533, 'daddy': 1096, 'davies': 1125, 'astaire': 330, 'slaughter': 4021, 'kirk': 2482, 'commercials': 903, 'karloff': 2445, 'lion': 2614, '1973': 19, 'likewise': 2603, 'fury': 1855, 'disjointed': 1287, 'winters': 4901, 'polanski': 3321, 'museum': 2945, 'enterprise': 1495, 'marty': 2749, 'orson': 3132, 'mann': 2728, 'dub': 1378, 'garbo': 1871, 'bettie': 473}\n"
     ]
    }
   ],
   "source": [
    "print(str(vocabulary))"
   ]
  },
  {
   "cell_type": "markdown",
   "metadata": {},
   "source": [
    "Once you have added the endpoint name to the Lambda function, click on **Save**. Your Lambda function is now up and running. Next we need to create a way for our web app to execute the Lambda function."
   ]
  },
  {
   "cell_type": "markdown",
   "metadata": {},
   "source": [
    "### Setting up API Gateway\n",
    "\n",
    "Now that our Lambda function is set up, it is time to create a new API using API Gateway that will trigger the Lambda function we have just created.\n",
    "\n",
    "Using AWS Console, navigate to **Amazon API Gateway** and then click on **Get started**.\n",
    "\n",
    "On the next page, make sure that **New API** is selected and give the new api a name, for example, `sentiment_analysis_web_app`. Then, click on **Create API**.\n",
    "\n",
    "Now we have created an API, however it doesn't currently do anything. What we want it to do is to trigger the Lambda function that we created earlier.\n",
    "\n",
    "Select the **Actions** dropdown menu and click **Create Method**. A new blank method will be created, select its dropdown menu and select **POST**, then click on the check mark beside it.\n",
    "\n",
    "For the integration point, make sure that **Lambda Function** is selected and click on the **Use Lambda Proxy integration**. This option makes sure that the data that is sent to the API is then sent directly to the Lambda function with no processing. It also means that the return value must be a proper response object as it will also not be processed by API Gateway.\n",
    "\n",
    "Type the name of the Lambda function you created earlier into the **Lambda Function** text entry box and then click on **Save**. Click on **OK** in the pop-up box that then appears, giving permission to API Gateway to invoke the Lambda function you created.\n",
    "\n",
    "The last step in creating the API Gateway is to select the **Actions** dropdown and click on **Deploy API**. You will need to create a new Deployment stage and name it anything you like, for example `prod`.\n",
    "\n",
    "You have now successfully set up a public API to access your SageMaker model. Make sure to copy or write down the URL provided to invoke your newly created public API as this will be needed in the next step. This URL can be found at the top of the page, highlighted in blue next to the text **Invoke URL**."
   ]
  },
  {
   "cell_type": "markdown",
   "metadata": {},
   "source": [
    "## Step 7: Deploying our web app\n",
    "\n",
    "Now that we have a publicly available API, we can start using it in a web app. For our purposes, we have provided a simple static html file which can make use of the public api you created earlier.\n",
    "\n",
    "In the `website` folder there should be a file called `index.html`. Download the file to your computer and open that file up in a text editor of your choice. There should be a line which contains **\\*\\*REPLACE WITH PUBLIC API URL\\*\\***. Replace this string with the url that you wrote down in the last step and then save the file.\n",
    "\n",
    "Now, if you open `index.html` on your local computer, your browser will behave as a local web server and you can use the provided site to interact with your SageMaker model.\n",
    "\n",
    "If you'd like to go further, you can host this html file anywhere you'd like, for example using github or hosting a static site on Amazon's S3. Once you have done this you can share the link with anyone you'd like and have them play with it too!\n",
    "\n",
    "> **Important Note** In order for the web app to communicate with the SageMaker endpoint, the endpoint has to actually be deployed and running. This means that you are paying for it. Make sure that the endpoint is running when you want to use the web app but that you shut it down when you don't need it, otherwise you will end up with a surprisingly large AWS bill."
   ]
  },
  {
   "cell_type": "markdown",
   "metadata": {},
   "source": [
    "### Delete the endpoint\n",
    "\n",
    "Remember to always shut down your endpoint if you are no longer using it. You are charged for the length of time that the endpoint is running so if you forget and leave it on you could end up with an unexpectedly large bill."
   ]
  },
  {
   "cell_type": "code",
   "execution_count": 70,
   "metadata": {},
   "outputs": [],
   "source": [
    "xgb_predictor.delete_endpoint()"
   ]
  },
  {
   "cell_type": "markdown",
   "metadata": {},
   "source": [
    "## Optional: Clean up\n",
    "\n",
    "The default notebook instance on SageMaker doesn't have a lot of excess disk space available. As you continue to complete and execute notebooks you will eventually fill up this disk space, leading to errors which can be difficult to diagnose. Once you are completely finished using a notebook it is a good idea to remove the files that you created along the way. Of course, you can do this from the terminal or from the notebook hub if you would like. The cell below contains some commands to clean up the created files from within the notebook."
   ]
  },
  {
   "cell_type": "code",
   "execution_count": null,
   "metadata": {},
   "outputs": [],
   "source": [
    "# First we will remove all of the files contained in the data_dir directory\n",
    "!rm $data_dir/*\n",
    "\n",
    "# And then we delete the directory itself\n",
    "!rmdir $data_dir\n",
    "\n",
    "# Similarly we remove the files in the cache_dir directory and the directory itself\n",
    "!rm $cache_dir/*\n",
    "!rmdir $cache_dir"
   ]
  },
  {
   "cell_type": "code",
   "execution_count": null,
   "metadata": {},
   "outputs": [],
   "source": []
  }
 ],
 "metadata": {
  "kernelspec": {
   "display_name": "conda_python3",
   "language": "python",
   "name": "conda_python3"
  },
  "language_info": {
   "codemirror_mode": {
    "name": "ipython",
    "version": 3
   },
   "file_extension": ".py",
   "mimetype": "text/x-python",
   "name": "python",
   "nbconvert_exporter": "python",
   "pygments_lexer": "ipython3",
   "version": "3.6.10"
  }
 },
 "nbformat": 4,
 "nbformat_minor": 2
}
